{
 "cells": [
  {
   "cell_type": "code",
   "execution_count": 1,
   "metadata": {
    "application/vnd.databricks.v1+cell": {
     "inputWidgets": {},
     "nuid": "5b236dca-b243-454b-b59f-e60f7921ac54",
     "showTitle": false,
     "title": ""
    }
   },
   "outputs": [],
   "source": [
    "# !pip install Faker"
   ]
  },
  {
   "cell_type": "markdown",
   "metadata": {},
   "source": [
    "## Creating Snowpark Session"
   ]
  },
  {
   "cell_type": "code",
   "execution_count": 1,
   "metadata": {
    "application/vnd.databricks.v1+cell": {
     "inputWidgets": {},
     "nuid": "e849ce0c-5672-444c-a30a-ccd7f8767529",
     "showTitle": false,
     "title": ""
    }
   },
   "outputs": [
    {
     "name": "stdout",
     "output_type": "stream",
     "text": [
      "Using Snowpark for Python version: 1.1.0\n",
      "[Row(CURRENT_WAREHOUSE()='CLUSTER1', CURRENT_DATABASE()='NYCTAXI', CURRENT_SCHEMA()='TAXI')]\n",
      "Current schema: \"NYCTAXI\".\"TAXI\", current role: \"ACCOUNTADMIN\", current warehouse:  \"CLUSTER1\"\n"
     ]
    }
   ],
   "source": [
    "from snowflake.snowpark.session import Session\n",
    "from snowflake.snowpark import functions as F\n",
    "from snowflake.snowpark import types as T\n",
    "from snowflake.snowpark.types import *\n",
    "from snowflake.snowpark.functions import udf, avg, col,lit,call_udf,sum,min,sql_expr\n",
    "import snowflake.snowpark as snp\n",
    "\n",
    "from config import snowflake_conn_prop_local as snowflake_conn_prop\n",
    "\n",
    "print(f\"Using Snowpark for Python version: {snp.__version__}\")\n",
    "\n",
    "\n",
    "session = Session.builder.configs(snowflake_conn_prop).create()\n",
    "\n",
    "print(session.sql('select current_warehouse(), current_database(), current_schema()').collect())\n",
    "\n",
    "print(f\"Current schema: {session.get_fully_qualified_current_schema()}, current role: {session.get_current_role()}, current warehouse:  {session.get_current_warehouse()}\")\n"
   ]
  },
  {
   "cell_type": "code",
   "execution_count": 3,
   "metadata": {},
   "outputs": [],
   "source": [
    "from snowflake.snowpark.functions import udf, avg, col,lit,call_udf,sum,min,sql_expr"
   ]
  },
  {
   "cell_type": "code",
   "execution_count": 4,
   "metadata": {
    "application/vnd.databricks.v1+cell": {
     "inputWidgets": {},
     "nuid": "e0bd1570-1557-49e5-b082-15ba9cff1a4a",
     "showTitle": false,
     "title": ""
    }
   },
   "outputs": [],
   "source": [
    "from faker import Faker\n",
    "\n",
    "faker = Faker()\n"
   ]
  },
  {
   "cell_type": "markdown",
   "metadata": {},
   "source": [
    "## Creating DataFrame"
   ]
  },
  {
   "cell_type": "code",
   "execution_count": 5,
   "metadata": {
    "application/vnd.databricks.v1+cell": {
     "inputWidgets": {},
     "nuid": "fc2b3482-f367-4d9b-93e8-c8d8cc438834",
     "showTitle": false,
     "title": ""
    }
   },
   "outputs": [
    {
     "name": "stdout",
     "output_type": "stream",
     "text": [
      "----------------------------------------------\n",
      "|\"EMPLOYEENAME\"    |\"DEPARTMENT\"  |\"SALARY\"  |\n",
      "----------------------------------------------\n",
      "|Gabriela Barber   |Sales         |4000      |\n",
      "|Robert Hammond    |Sales         |5000      |\n",
      "|Jeffrey Fleming   |Sales         |8141      |\n",
      "|Jessica Campbell  |Sales         |5000      |\n",
      "|Michele Morris    |Sales         |5568      |\n",
      "|Brandi Bryant     |Finance       |3000      |\n",
      "|Bryce Barr        |Finance       |4500      |\n",
      "|Samantha Wood     |Finance       |7500      |\n",
      "|David Smith       |IT            |7291      |\n",
      "|Donald Reyes      |IT            |9976      |\n",
      "----------------------------------------------\n",
      "\n"
     ]
    }
   ],
   "source": [
    "allempData = ((faker.name(), \"Sales\", 4000), \\\n",
    "    (faker.name(), \"Sales\", 5000),  \\\n",
    "    (faker.name(), \"Sales\", faker.random_int(5000, 10000)),   \\\n",
    "    (faker.name(), \"Sales\", 5000),    \\\n",
    "    (faker.name(), \"Sales\", faker.random_int(5000, 10000)), \\\n",
    "    (faker.name(), \"Finance\", 3000),  \\\n",
    "    (faker.name(), \"Finance\", 4500),  \\\n",
    "    (faker.name(), \"Finance\", 7500),    \\\n",
    "    (faker.name(), \"IT\", faker.random_int(5000, 10000)),\\\n",
    "    (faker.name(), \"IT\", faker.random_int(5000, 10000)),\\\n",
    "    (faker.name(), \"Marketing\", 5500), \\\n",
    "    (faker.name(), \"Marketing\", 5500),\\\n",
    "    (faker.name(), \"Marketing\", faker.random_int(5000, 10000))\\\n",
    "  )\n",
    " \n",
    "columns= [\"EmployeeName\", \"Department\", \"Salary\"]\n",
    "df = session.createDataFrame(data = allempData, schema = columns)\n",
    "df.show()\n",
    "\n"
   ]
  },
  {
   "cell_type": "code",
   "execution_count": 6,
   "metadata": {
    "application/vnd.databricks.v1+cell": {
     "inputWidgets": {},
     "nuid": "5c3b56a2-81cb-49ac-be5e-f5470695314c",
     "showTitle": false,
     "title": ""
    }
   },
   "outputs": [
    {
     "data": {
      "text/plain": [
       "[StructField('EMPLOYEENAME', StringType(), nullable=False),\n",
       " StructField('DEPARTMENT', StringType(), nullable=False),\n",
       " StructField('SALARY', LongType(), nullable=False)]"
      ]
     },
     "execution_count": 6,
     "metadata": {},
     "output_type": "execute_result"
    }
   ],
   "source": [
    "df.schema.fields"
   ]
  },
  {
   "cell_type": "code",
   "execution_count": 7,
   "metadata": {},
   "outputs": [
    {
     "data": {
      "text/plain": [
       "[('EMPLOYEENAME', 'string'), ('DEPARTMENT', 'string'), ('SALARY', 'bigint')]"
      ]
     },
     "execution_count": 7,
     "metadata": {},
     "output_type": "execute_result"
    }
   ],
   "source": [
    "df.dtypes"
   ]
  },
  {
   "cell_type": "code",
   "execution_count": 11,
   "metadata": {},
   "outputs": [],
   "source": [
    "pd_df=df.toPandas()"
   ]
  },
  {
   "cell_type": "code",
   "execution_count": 12,
   "metadata": {},
   "outputs": [
    {
     "data": {
      "text/plain": [
       "pandas.core.frame.DataFrame"
      ]
     },
     "execution_count": 12,
     "metadata": {},
     "output_type": "execute_result"
    }
   ],
   "source": [
    "type(pd_df)"
   ]
  },
  {
   "cell_type": "code",
   "execution_count": 8,
   "metadata": {},
   "outputs": [
    {
     "name": "stdout",
     "output_type": "stream",
     "text": [
      "----------------------------------------------------------------\n",
      "|\"DEPARTMENT\"  |\"SUMOFSALARY\"  |\"AVGOFSALARY\"  |\"MAXOFSALARY\"  |\n",
      "----------------------------------------------------------------\n",
      "|Sales         |27709          |5541.800000    |8141           |\n",
      "|Finance       |15000          |5000.000000    |7500           |\n",
      "|IT            |17267          |8633.500000    |9976           |\n",
      "|Marketing     |20653          |6884.333333    |9653           |\n",
      "----------------------------------------------------------------\n",
      "\n"
     ]
    }
   ],
   "source": [
    " #GroupBy and Agg \n",
    "    \n",
    "df.groupBy(['Department']).agg(F.sum('Salary').alias(\"SumofSalary\"), \\\n",
    "                               F.avg(F.col('Salary')).alias(\"AvgofSalary\"),\\\n",
    "                                 F.max(df.Salary).alias(\"MaxofSalary\")).show()"
   ]
  },
  {
   "cell_type": "code",
   "execution_count": null,
   "metadata": {},
   "outputs": [],
   "source": []
  },
  {
   "cell_type": "code",
   "execution_count": 9,
   "metadata": {},
   "outputs": [
    {
     "name": "stdout",
     "output_type": "stream",
     "text": [
      "----------------------------------------------------------------\n",
      "|\"DEPARTMENT\"  |\"SUMOFSALARY\"  |\"AVGOFSALARY\"  |\"MAXOFSALARY\"  |\n",
      "----------------------------------------------------------------\n",
      "|Sales         |27709          |5541.800000    |8141           |\n",
      "|Finance       |15000          |5000.000000    |7500           |\n",
      "|IT            |17267          |8633.500000    |9976           |\n",
      "|Marketing     |20653          |6884.333333    |9653           |\n",
      "----------------------------------------------------------------\n",
      "\n"
     ]
    }
   ],
   "source": [
    "(\n",
    "df\n",
    "    .groupBy(['Department'])\n",
    "    .agg( F.sum('Salary').alias(\"SumofSalary\")\n",
    "         ,F.avg(F.col('Salary')).alias(\"AvgofSalary\")\n",
    "         ,F.max(df.Salary).alias(\"MaxofSalary\"))\n",
    ").show()"
   ]
  },
  {
   "cell_type": "markdown",
   "metadata": {},
   "source": [
    "## Using Window functions"
   ]
  },
  {
   "cell_type": "code",
   "execution_count": 13,
   "metadata": {
    "application/vnd.databricks.v1+cell": {
     "inputWidgets": {},
     "nuid": "99c7c7b5-3e90-4cb1-893c-75274f538fc9",
     "showTitle": false,
     "title": ""
    }
   },
   "outputs": [
    {
     "data": {
      "text/html": [
       "<div>\n",
       "<style scoped>\n",
       "    .dataframe tbody tr th:only-of-type {\n",
       "        vertical-align: middle;\n",
       "    }\n",
       "\n",
       "    .dataframe tbody tr th {\n",
       "        vertical-align: top;\n",
       "    }\n",
       "\n",
       "    .dataframe thead th {\n",
       "        text-align: right;\n",
       "    }\n",
       "</style>\n",
       "<table border=\"1\" class=\"dataframe\">\n",
       "  <thead>\n",
       "    <tr style=\"text-align: right;\">\n",
       "      <th></th>\n",
       "      <th>EMPLOYEENAME</th>\n",
       "      <th>DEPARTMENT</th>\n",
       "      <th>SALARY</th>\n",
       "      <th>ROW_NUMBER</th>\n",
       "    </tr>\n",
       "  </thead>\n",
       "  <tbody>\n",
       "    <tr>\n",
       "      <th>0</th>\n",
       "      <td>David Smith</td>\n",
       "      <td>IT</td>\n",
       "      <td>7291</td>\n",
       "      <td>1</td>\n",
       "    </tr>\n",
       "    <tr>\n",
       "      <th>1</th>\n",
       "      <td>Donald Reyes</td>\n",
       "      <td>IT</td>\n",
       "      <td>9976</td>\n",
       "      <td>2</td>\n",
       "    </tr>\n",
       "    <tr>\n",
       "      <th>2</th>\n",
       "      <td>Craig Ramirez</td>\n",
       "      <td>Marketing</td>\n",
       "      <td>5500</td>\n",
       "      <td>1</td>\n",
       "    </tr>\n",
       "    <tr>\n",
       "      <th>3</th>\n",
       "      <td>Michael Anderson</td>\n",
       "      <td>Marketing</td>\n",
       "      <td>5500</td>\n",
       "      <td>2</td>\n",
       "    </tr>\n",
       "    <tr>\n",
       "      <th>4</th>\n",
       "      <td>George Wilson</td>\n",
       "      <td>Marketing</td>\n",
       "      <td>9653</td>\n",
       "      <td>3</td>\n",
       "    </tr>\n",
       "    <tr>\n",
       "      <th>5</th>\n",
       "      <td>Brandi Bryant</td>\n",
       "      <td>Finance</td>\n",
       "      <td>3000</td>\n",
       "      <td>1</td>\n",
       "    </tr>\n",
       "    <tr>\n",
       "      <th>6</th>\n",
       "      <td>Bryce Barr</td>\n",
       "      <td>Finance</td>\n",
       "      <td>4500</td>\n",
       "      <td>2</td>\n",
       "    </tr>\n",
       "    <tr>\n",
       "      <th>7</th>\n",
       "      <td>Samantha Wood</td>\n",
       "      <td>Finance</td>\n",
       "      <td>7500</td>\n",
       "      <td>3</td>\n",
       "    </tr>\n",
       "    <tr>\n",
       "      <th>8</th>\n",
       "      <td>Gabriela Barber</td>\n",
       "      <td>Sales</td>\n",
       "      <td>4000</td>\n",
       "      <td>1</td>\n",
       "    </tr>\n",
       "    <tr>\n",
       "      <th>9</th>\n",
       "      <td>Robert Hammond</td>\n",
       "      <td>Sales</td>\n",
       "      <td>5000</td>\n",
       "      <td>2</td>\n",
       "    </tr>\n",
       "    <tr>\n",
       "      <th>10</th>\n",
       "      <td>Jessica Campbell</td>\n",
       "      <td>Sales</td>\n",
       "      <td>5000</td>\n",
       "      <td>3</td>\n",
       "    </tr>\n",
       "    <tr>\n",
       "      <th>11</th>\n",
       "      <td>Michele Morris</td>\n",
       "      <td>Sales</td>\n",
       "      <td>5568</td>\n",
       "      <td>4</td>\n",
       "    </tr>\n",
       "    <tr>\n",
       "      <th>12</th>\n",
       "      <td>Jeffrey Fleming</td>\n",
       "      <td>Sales</td>\n",
       "      <td>8141</td>\n",
       "      <td>5</td>\n",
       "    </tr>\n",
       "  </tbody>\n",
       "</table>\n",
       "</div>"
      ],
      "text/plain": [
       "        EMPLOYEENAME DEPARTMENT  SALARY  ROW_NUMBER\n",
       "0        David Smith         IT    7291           1\n",
       "1       Donald Reyes         IT    9976           2\n",
       "2      Craig Ramirez  Marketing    5500           1\n",
       "3   Michael Anderson  Marketing    5500           2\n",
       "4      George Wilson  Marketing    9653           3\n",
       "5      Brandi Bryant    Finance    3000           1\n",
       "6         Bryce Barr    Finance    4500           2\n",
       "7      Samantha Wood    Finance    7500           3\n",
       "8    Gabriela Barber      Sales    4000           1\n",
       "9     Robert Hammond      Sales    5000           2\n",
       "10  Jessica Campbell      Sales    5000           3\n",
       "11    Michele Morris      Sales    5568           4\n",
       "12   Jeffrey Fleming      Sales    8141           5"
      ]
     },
     "execution_count": 13,
     "metadata": {},
     "output_type": "execute_result"
    }
   ],
   "source": [
    "# from pyspark.sql.window import Window\n",
    "# from pyspark.sql.functions import row_number,rank,dense_rank,percent_rank,ntile,lead,lag,col\n",
    "\n",
    "from snowflake.snowpark import functions as F\n",
    "from snowflake.snowpark.window import Window\n",
    "from snowflake.snowpark.functions import row_number,rank,dense_rank,percent_rank,ntile,lead,lag,col,call_builtin,call_udf,avg,min,max,sum,array_agg\n",
    "from snowflake.snowpark.types import IntegerType,StringType,DoubleType,StructField,StructType,FloatType\n",
    "\n",
    "windowSpec  = Window.partition_by(\"Department\").orderBy(\"Salary\")\n",
    "windowSpec_NOB  = Window.partition_by(\"Department\")\n",
    "\n",
    "df.withColumn(\"row_number\",row_number().over(windowSpec)).toPandas()"
   ]
  },
  {
   "cell_type": "code",
   "execution_count": 14,
   "metadata": {
    "application/vnd.databricks.v1+cell": {
     "inputWidgets": {},
     "nuid": "ecca745c-7357-4aaf-8ba3-165211f30178",
     "showTitle": false,
     "title": ""
    }
   },
   "outputs": [
    {
     "name": "stdout",
     "output_type": "stream",
     "text": [
      "----------------------------------------------------------------------\n",
      "|\"EMPLOYEENAME\"    |\"DEPARTMENT\"  |\"SALARY\"  |\"RANK\"  |\"DENSE_RANK\"  |\n",
      "----------------------------------------------------------------------\n",
      "|David Smith       |IT            |7291      |1       |1             |\n",
      "|Donald Reyes      |IT            |9976      |2       |2             |\n",
      "|Craig Ramirez     |Marketing     |5500      |1       |1             |\n",
      "|Michael Anderson  |Marketing     |5500      |1       |1             |\n",
      "|George Wilson     |Marketing     |9653      |3       |2             |\n",
      "|Brandi Bryant     |Finance       |3000      |1       |1             |\n",
      "|Bryce Barr        |Finance       |4500      |2       |2             |\n",
      "|Gabriela Barber   |Sales         |4000      |1       |1             |\n",
      "|Robert Hammond    |Sales         |5000      |2       |2             |\n",
      "|Jessica Campbell  |Sales         |5000      |2       |2             |\n",
      "----------------------------------------------------------------------\n",
      "\n"
     ]
    }
   ],
   "source": [
    "df.withColumn(\"rank\",rank().over(windowSpec))\\\n",
    ".withColumn(\"dense_rank\",dense_rank().over(windowSpec)) \\\n",
    ".filter(col(\"dense_rank\")<=2).show()"
   ]
  },
  {
   "cell_type": "code",
   "execution_count": 15,
   "metadata": {
    "application/vnd.databricks.v1+cell": {
     "inputWidgets": {},
     "nuid": "32ca6206-5344-43eb-a903-0af2193a6eba",
     "showTitle": false,
     "title": ""
    }
   },
   "outputs": [
    {
     "data": {
      "text/html": [
       "<div>\n",
       "<style scoped>\n",
       "    .dataframe tbody tr th:only-of-type {\n",
       "        vertical-align: middle;\n",
       "    }\n",
       "\n",
       "    .dataframe tbody tr th {\n",
       "        vertical-align: top;\n",
       "    }\n",
       "\n",
       "    .dataframe thead th {\n",
       "        text-align: right;\n",
       "    }\n",
       "</style>\n",
       "<table border=\"1\" class=\"dataframe\">\n",
       "  <thead>\n",
       "    <tr style=\"text-align: right;\">\n",
       "      <th></th>\n",
       "      <th>EMPLOYEENAME</th>\n",
       "      <th>DEPARTMENT</th>\n",
       "      <th>SALARY</th>\n",
       "      <th>PERCENTAGE_RANK</th>\n",
       "    </tr>\n",
       "  </thead>\n",
       "  <tbody>\n",
       "    <tr>\n",
       "      <th>0</th>\n",
       "      <td>David Smith</td>\n",
       "      <td>IT</td>\n",
       "      <td>7291</td>\n",
       "      <td>0.00</td>\n",
       "    </tr>\n",
       "    <tr>\n",
       "      <th>1</th>\n",
       "      <td>Donald Reyes</td>\n",
       "      <td>IT</td>\n",
       "      <td>9976</td>\n",
       "      <td>1.00</td>\n",
       "    </tr>\n",
       "    <tr>\n",
       "      <th>2</th>\n",
       "      <td>Craig Ramirez</td>\n",
       "      <td>Marketing</td>\n",
       "      <td>5500</td>\n",
       "      <td>0.00</td>\n",
       "    </tr>\n",
       "    <tr>\n",
       "      <th>3</th>\n",
       "      <td>Michael Anderson</td>\n",
       "      <td>Marketing</td>\n",
       "      <td>5500</td>\n",
       "      <td>0.00</td>\n",
       "    </tr>\n",
       "    <tr>\n",
       "      <th>4</th>\n",
       "      <td>George Wilson</td>\n",
       "      <td>Marketing</td>\n",
       "      <td>9653</td>\n",
       "      <td>1.00</td>\n",
       "    </tr>\n",
       "    <tr>\n",
       "      <th>5</th>\n",
       "      <td>Brandi Bryant</td>\n",
       "      <td>Finance</td>\n",
       "      <td>3000</td>\n",
       "      <td>0.00</td>\n",
       "    </tr>\n",
       "    <tr>\n",
       "      <th>6</th>\n",
       "      <td>Bryce Barr</td>\n",
       "      <td>Finance</td>\n",
       "      <td>4500</td>\n",
       "      <td>0.50</td>\n",
       "    </tr>\n",
       "    <tr>\n",
       "      <th>7</th>\n",
       "      <td>Samantha Wood</td>\n",
       "      <td>Finance</td>\n",
       "      <td>7500</td>\n",
       "      <td>1.00</td>\n",
       "    </tr>\n",
       "    <tr>\n",
       "      <th>8</th>\n",
       "      <td>Gabriela Barber</td>\n",
       "      <td>Sales</td>\n",
       "      <td>4000</td>\n",
       "      <td>0.00</td>\n",
       "    </tr>\n",
       "    <tr>\n",
       "      <th>9</th>\n",
       "      <td>Robert Hammond</td>\n",
       "      <td>Sales</td>\n",
       "      <td>5000</td>\n",
       "      <td>0.25</td>\n",
       "    </tr>\n",
       "    <tr>\n",
       "      <th>10</th>\n",
       "      <td>Jessica Campbell</td>\n",
       "      <td>Sales</td>\n",
       "      <td>5000</td>\n",
       "      <td>0.25</td>\n",
       "    </tr>\n",
       "    <tr>\n",
       "      <th>11</th>\n",
       "      <td>Michele Morris</td>\n",
       "      <td>Sales</td>\n",
       "      <td>5568</td>\n",
       "      <td>0.75</td>\n",
       "    </tr>\n",
       "    <tr>\n",
       "      <th>12</th>\n",
       "      <td>Jeffrey Fleming</td>\n",
       "      <td>Sales</td>\n",
       "      <td>8141</td>\n",
       "      <td>1.00</td>\n",
       "    </tr>\n",
       "  </tbody>\n",
       "</table>\n",
       "</div>"
      ],
      "text/plain": [
       "        EMPLOYEENAME DEPARTMENT  SALARY  PERCENTAGE_RANK\n",
       "0        David Smith         IT    7291             0.00\n",
       "1       Donald Reyes         IT    9976             1.00\n",
       "2      Craig Ramirez  Marketing    5500             0.00\n",
       "3   Michael Anderson  Marketing    5500             0.00\n",
       "4      George Wilson  Marketing    9653             1.00\n",
       "5      Brandi Bryant    Finance    3000             0.00\n",
       "6         Bryce Barr    Finance    4500             0.50\n",
       "7      Samantha Wood    Finance    7500             1.00\n",
       "8    Gabriela Barber      Sales    4000             0.00\n",
       "9     Robert Hammond      Sales    5000             0.25\n",
       "10  Jessica Campbell      Sales    5000             0.25\n",
       "11    Michele Morris      Sales    5568             0.75\n",
       "12   Jeffrey Fleming      Sales    8141             1.00"
      ]
     },
     "execution_count": 15,
     "metadata": {},
     "output_type": "execute_result"
    }
   ],
   "source": [
    "df.withColumn(\"percentage_rank\",percent_rank().over(windowSpec))\\\n",
    ".toPandas()"
   ]
  },
  {
   "cell_type": "code",
   "execution_count": 16,
   "metadata": {
    "application/vnd.databricks.v1+cell": {
     "inputWidgets": {},
     "nuid": "5011131b-282e-4797-8cd3-1434fa03ce6c",
     "showTitle": false,
     "title": ""
    }
   },
   "outputs": [
    {
     "name": "stdout",
     "output_type": "stream",
     "text": [
      "---------------------------------------------------------------\n",
      "|\"EMPLOYEENAME\"    |\"DEPARTMENT\"  |\"SALARY\"  |\"LAG\"  |\"LEAD\"  |\n",
      "---------------------------------------------------------------\n",
      "|David Smith       |IT            |7291      |NULL   |9976    |\n",
      "|Donald Reyes      |IT            |9976      |7291   |NULL    |\n",
      "|Craig Ramirez     |Marketing     |5500      |NULL   |5500    |\n",
      "|Michael Anderson  |Marketing     |5500      |5500   |9653    |\n",
      "|George Wilson     |Marketing     |9653      |5500   |NULL    |\n",
      "|Brandi Bryant     |Finance       |3000      |NULL   |4500    |\n",
      "|Bryce Barr        |Finance       |4500      |3000   |7500    |\n",
      "|Samantha Wood     |Finance       |7500      |4500   |NULL    |\n",
      "|Gabriela Barber   |Sales         |4000      |NULL   |5000    |\n",
      "|Robert Hammond    |Sales         |5000      |4000   |5000    |\n",
      "---------------------------------------------------------------\n",
      "\n"
     ]
    }
   ],
   "source": [
    "df.withColumn(\"lag\",lag(\"salary\",1).over(windowSpec)).\\\n",
    "   withColumn(\"lead\",lead(\"salary\",1).over(windowSpec)) \\\n",
    "      .show()"
   ]
  },
  {
   "cell_type": "code",
   "execution_count": 28,
   "metadata": {
    "application/vnd.databricks.v1+cell": {
     "inputWidgets": {},
     "nuid": "49dd190b-d530-43c7-b8f6-8b647520727e",
     "showTitle": false,
     "title": ""
    }
   },
   "outputs": [
    {
     "data": {
      "text/html": [
       "<div>\n",
       "<style scoped>\n",
       "    .dataframe tbody tr th:only-of-type {\n",
       "        vertical-align: middle;\n",
       "    }\n",
       "\n",
       "    .dataframe tbody tr th {\n",
       "        vertical-align: top;\n",
       "    }\n",
       "\n",
       "    .dataframe thead th {\n",
       "        text-align: right;\n",
       "    }\n",
       "</style>\n",
       "<table border=\"1\" class=\"dataframe\">\n",
       "  <thead>\n",
       "    <tr style=\"text-align: right;\">\n",
       "      <th></th>\n",
       "      <th>EMPLOYEENAME</th>\n",
       "      <th>DEPARTMENT</th>\n",
       "      <th>SALARY</th>\n",
       "      <th>AVGSAL</th>\n",
       "      <th>SUMSAL</th>\n",
       "    </tr>\n",
       "  </thead>\n",
       "  <tbody>\n",
       "    <tr>\n",
       "      <th>0</th>\n",
       "      <td>Christina Pollard</td>\n",
       "      <td>Sales</td>\n",
       "      <td>4000</td>\n",
       "      <td>5714.000</td>\n",
       "      <td>28570</td>\n",
       "    </tr>\n",
       "    <tr>\n",
       "      <th>1</th>\n",
       "      <td>Christopher Walker</td>\n",
       "      <td>Sales</td>\n",
       "      <td>5000</td>\n",
       "      <td>5714.000</td>\n",
       "      <td>28570</td>\n",
       "    </tr>\n",
       "    <tr>\n",
       "      <th>2</th>\n",
       "      <td>Collin Brooks</td>\n",
       "      <td>Sales</td>\n",
       "      <td>7732</td>\n",
       "      <td>5714.000</td>\n",
       "      <td>28570</td>\n",
       "    </tr>\n",
       "    <tr>\n",
       "      <th>3</th>\n",
       "      <td>Zachary Lopez</td>\n",
       "      <td>Sales</td>\n",
       "      <td>5000</td>\n",
       "      <td>5714.000</td>\n",
       "      <td>28570</td>\n",
       "    </tr>\n",
       "    <tr>\n",
       "      <th>4</th>\n",
       "      <td>Amanda Briggs</td>\n",
       "      <td>Sales</td>\n",
       "      <td>6838</td>\n",
       "      <td>5714.000</td>\n",
       "      <td>28570</td>\n",
       "    </tr>\n",
       "    <tr>\n",
       "      <th>5</th>\n",
       "      <td>Michael Valdez</td>\n",
       "      <td>Finance</td>\n",
       "      <td>3000</td>\n",
       "      <td>5000.000</td>\n",
       "      <td>15000</td>\n",
       "    </tr>\n",
       "    <tr>\n",
       "      <th>6</th>\n",
       "      <td>Brian Brown</td>\n",
       "      <td>Finance</td>\n",
       "      <td>4500</td>\n",
       "      <td>5000.000</td>\n",
       "      <td>15000</td>\n",
       "    </tr>\n",
       "    <tr>\n",
       "      <th>7</th>\n",
       "      <td>Steven Nixon</td>\n",
       "      <td>Finance</td>\n",
       "      <td>7500</td>\n",
       "      <td>5000.000</td>\n",
       "      <td>15000</td>\n",
       "    </tr>\n",
       "    <tr>\n",
       "      <th>8</th>\n",
       "      <td>Dr. Jessica Jordan MD</td>\n",
       "      <td>IT</td>\n",
       "      <td>5114</td>\n",
       "      <td>7502.000</td>\n",
       "      <td>15004</td>\n",
       "    </tr>\n",
       "    <tr>\n",
       "      <th>9</th>\n",
       "      <td>Jennifer Robinson</td>\n",
       "      <td>IT</td>\n",
       "      <td>9890</td>\n",
       "      <td>7502.000</td>\n",
       "      <td>15004</td>\n",
       "    </tr>\n",
       "    <tr>\n",
       "      <th>10</th>\n",
       "      <td>Dean Evans</td>\n",
       "      <td>Marketing</td>\n",
       "      <td>5500</td>\n",
       "      <td>6779.333</td>\n",
       "      <td>20338</td>\n",
       "    </tr>\n",
       "    <tr>\n",
       "      <th>11</th>\n",
       "      <td>Aaron Young</td>\n",
       "      <td>Marketing</td>\n",
       "      <td>5500</td>\n",
       "      <td>6779.333</td>\n",
       "      <td>20338</td>\n",
       "    </tr>\n",
       "    <tr>\n",
       "      <th>12</th>\n",
       "      <td>Megan Riley</td>\n",
       "      <td>Marketing</td>\n",
       "      <td>9338</td>\n",
       "      <td>6779.333</td>\n",
       "      <td>20338</td>\n",
       "    </tr>\n",
       "  </tbody>\n",
       "</table>\n",
       "</div>"
      ],
      "text/plain": [
       "             EMPLOYEENAME DEPARTMENT  SALARY    AVGSAL  SUMSAL\n",
       "0       Christina Pollard      Sales    4000  5714.000   28570\n",
       "1      Christopher Walker      Sales    5000  5714.000   28570\n",
       "2           Collin Brooks      Sales    7732  5714.000   28570\n",
       "3           Zachary Lopez      Sales    5000  5714.000   28570\n",
       "4           Amanda Briggs      Sales    6838  5714.000   28570\n",
       "5          Michael Valdez    Finance    3000  5000.000   15000\n",
       "6             Brian Brown    Finance    4500  5000.000   15000\n",
       "7            Steven Nixon    Finance    7500  5000.000   15000\n",
       "8   Dr. Jessica Jordan MD         IT    5114  7502.000   15004\n",
       "9       Jennifer Robinson         IT    9890  7502.000   15004\n",
       "10             Dean Evans  Marketing    5500  6779.333   20338\n",
       "11            Aaron Young  Marketing    5500  6779.333   20338\n",
       "12            Megan Riley  Marketing    9338  6779.333   20338"
      ]
     },
     "execution_count": 28,
     "metadata": {},
     "output_type": "execute_result"
    }
   ],
   "source": [
    "#Using built-in function in Snowflake - avg \n",
    "\n",
    "df.withColumn(\"AvgSal\",call_builtin(\"avg\", col(\"salary\")).over(windowSpec_NOB)).\\\n",
    "    withColumn(\"SumSal\",sum(col(\"salary\")).over(windowSpec_NOB)) \\\n",
    "   .toPandas()"
   ]
  },
  {
   "cell_type": "code",
   "execution_count": 29,
   "metadata": {
    "application/vnd.databricks.v1+cell": {
     "inputWidgets": {},
     "nuid": "13f4b4af-8590-4977-9f8a-bed2494d8a4e",
     "showTitle": false,
     "title": ""
    }
   },
   "outputs": [
    {
     "data": {
      "text/html": [
       "<div>\n",
       "<style scoped>\n",
       "    .dataframe tbody tr th:only-of-type {\n",
       "        vertical-align: middle;\n",
       "    }\n",
       "\n",
       "    .dataframe tbody tr th {\n",
       "        vertical-align: top;\n",
       "    }\n",
       "\n",
       "    .dataframe thead th {\n",
       "        text-align: right;\n",
       "    }\n",
       "</style>\n",
       "<table border=\"1\" class=\"dataframe\">\n",
       "  <thead>\n",
       "    <tr style=\"text-align: right;\">\n",
       "      <th></th>\n",
       "      <th>EMPLOYEENAME</th>\n",
       "      <th>DEPARTMENT</th>\n",
       "      <th>SALARY</th>\n",
       "      <th>AVGSAL</th>\n",
       "      <th>SUMSAL</th>\n",
       "    </tr>\n",
       "  </thead>\n",
       "  <tbody>\n",
       "    <tr>\n",
       "      <th>0</th>\n",
       "      <td>Christina Pollard</td>\n",
       "      <td>Sales</td>\n",
       "      <td>4000</td>\n",
       "      <td>5714.000</td>\n",
       "      <td>28570</td>\n",
       "    </tr>\n",
       "    <tr>\n",
       "      <th>1</th>\n",
       "      <td>Christopher Walker</td>\n",
       "      <td>Sales</td>\n",
       "      <td>5000</td>\n",
       "      <td>5714.000</td>\n",
       "      <td>28570</td>\n",
       "    </tr>\n",
       "    <tr>\n",
       "      <th>2</th>\n",
       "      <td>Collin Brooks</td>\n",
       "      <td>Sales</td>\n",
       "      <td>7732</td>\n",
       "      <td>5714.000</td>\n",
       "      <td>28570</td>\n",
       "    </tr>\n",
       "    <tr>\n",
       "      <th>3</th>\n",
       "      <td>Zachary Lopez</td>\n",
       "      <td>Sales</td>\n",
       "      <td>5000</td>\n",
       "      <td>5714.000</td>\n",
       "      <td>28570</td>\n",
       "    </tr>\n",
       "    <tr>\n",
       "      <th>4</th>\n",
       "      <td>Amanda Briggs</td>\n",
       "      <td>Sales</td>\n",
       "      <td>6838</td>\n",
       "      <td>5714.000</td>\n",
       "      <td>28570</td>\n",
       "    </tr>\n",
       "    <tr>\n",
       "      <th>5</th>\n",
       "      <td>Michael Valdez</td>\n",
       "      <td>Finance</td>\n",
       "      <td>3000</td>\n",
       "      <td>5000.000</td>\n",
       "      <td>15000</td>\n",
       "    </tr>\n",
       "    <tr>\n",
       "      <th>6</th>\n",
       "      <td>Brian Brown</td>\n",
       "      <td>Finance</td>\n",
       "      <td>4500</td>\n",
       "      <td>5000.000</td>\n",
       "      <td>15000</td>\n",
       "    </tr>\n",
       "    <tr>\n",
       "      <th>7</th>\n",
       "      <td>Steven Nixon</td>\n",
       "      <td>Finance</td>\n",
       "      <td>7500</td>\n",
       "      <td>5000.000</td>\n",
       "      <td>15000</td>\n",
       "    </tr>\n",
       "    <tr>\n",
       "      <th>8</th>\n",
       "      <td>Dr. Jessica Jordan MD</td>\n",
       "      <td>IT</td>\n",
       "      <td>5114</td>\n",
       "      <td>7502.000</td>\n",
       "      <td>15004</td>\n",
       "    </tr>\n",
       "    <tr>\n",
       "      <th>9</th>\n",
       "      <td>Jennifer Robinson</td>\n",
       "      <td>IT</td>\n",
       "      <td>9890</td>\n",
       "      <td>7502.000</td>\n",
       "      <td>15004</td>\n",
       "    </tr>\n",
       "    <tr>\n",
       "      <th>10</th>\n",
       "      <td>Dean Evans</td>\n",
       "      <td>Marketing</td>\n",
       "      <td>5500</td>\n",
       "      <td>6779.333</td>\n",
       "      <td>20338</td>\n",
       "    </tr>\n",
       "    <tr>\n",
       "      <th>11</th>\n",
       "      <td>Aaron Young</td>\n",
       "      <td>Marketing</td>\n",
       "      <td>5500</td>\n",
       "      <td>6779.333</td>\n",
       "      <td>20338</td>\n",
       "    </tr>\n",
       "    <tr>\n",
       "      <th>12</th>\n",
       "      <td>Megan Riley</td>\n",
       "      <td>Marketing</td>\n",
       "      <td>9338</td>\n",
       "      <td>6779.333</td>\n",
       "      <td>20338</td>\n",
       "    </tr>\n",
       "  </tbody>\n",
       "</table>\n",
       "</div>"
      ],
      "text/plain": [
       "             EMPLOYEENAME DEPARTMENT  SALARY    AVGSAL  SUMSAL\n",
       "0       Christina Pollard      Sales    4000  5714.000   28570\n",
       "1      Christopher Walker      Sales    5000  5714.000   28570\n",
       "2           Collin Brooks      Sales    7732  5714.000   28570\n",
       "3           Zachary Lopez      Sales    5000  5714.000   28570\n",
       "4           Amanda Briggs      Sales    6838  5714.000   28570\n",
       "5          Michael Valdez    Finance    3000  5000.000   15000\n",
       "6             Brian Brown    Finance    4500  5000.000   15000\n",
       "7            Steven Nixon    Finance    7500  5000.000   15000\n",
       "8   Dr. Jessica Jordan MD         IT    5114  7502.000   15004\n",
       "9       Jennifer Robinson         IT    9890  7502.000   15004\n",
       "10             Dean Evans  Marketing    5500  6779.333   20338\n",
       "11            Aaron Young  Marketing    5500  6779.333   20338\n",
       "12            Megan Riley  Marketing    9338  6779.333   20338"
      ]
     },
     "execution_count": 29,
     "metadata": {},
     "output_type": "execute_result"
    }
   ],
   "source": [
    "#Without orderby in window function\n",
    "\n",
    "#windowSpec_NOB  = Window.partition_by(\"Department\")\n",
    "\n",
    "\n",
    "df.withColumn(\"AvgSal\",avg(\"salary\").over(windowSpec_NOB)).withColumn(\"SumSal\",sum(col(\"salary\")).over(windowSpec_NOB)) \\\n",
    "   .toPandas()"
   ]
  },
  {
   "cell_type": "code",
   "execution_count": 30,
   "metadata": {
    "application/vnd.databricks.v1+cell": {
     "inputWidgets": {},
     "nuid": "4486cf29-25a8-4fa3-a8aa-4a959b14df1b",
     "showTitle": false,
     "title": ""
    }
   },
   "outputs": [],
   "source": [
    "\n",
    "windowSpec_unboundedpre = Window.partitionBy(col(\"Department\")).orderBy(\"Salary\").rowsBetween(Window.unboundedPreceding,Window.currentRow)\n",
    "windowSpec_prevrow = Window.partitionBy(col(\"Department\")).orderBy(\"Salary\").rowsBetween(-1,Window.currentRow)\n",
    "windowSpec_nextvrow = Window.partitionBy(col(\"Department\")).orderBy(\"Salary\").rowsBetween(Window.currentRow,1)"
   ]
  },
  {
   "cell_type": "code",
   "execution_count": 31,
   "metadata": {
    "application/vnd.databricks.v1+cell": {
     "inputWidgets": {},
     "nuid": "3866465c-dbf2-40e1-aaa4-ff32469cc033",
     "showTitle": false,
     "title": ""
    }
   },
   "outputs": [
    {
     "name": "stdout",
     "output_type": "stream",
     "text": [
      "-------------------------------------------------------------------------------\n",
      "|\"EMPLOYEENAME\"         |\"DEPARTMENT\"  |\"SALARY\"  |\"AVGSAL\"  |\"RUNNINGTOTAL\"  |\n",
      "-------------------------------------------------------------------------------\n",
      "|Dean Evans             |Marketing     |5500      |5500.000  |5500            |\n",
      "|Aaron Young            |Marketing     |5500      |5500.000  |11000           |\n",
      "|Megan Riley            |Marketing     |9338      |6779.333  |20338           |\n",
      "|Michael Valdez         |Finance       |3000      |3000.000  |3000            |\n",
      "|Brian Brown            |Finance       |4500      |3750.000  |7500            |\n",
      "|Steven Nixon           |Finance       |7500      |5000.000  |15000           |\n",
      "|Dr. Jessica Jordan MD  |IT            |5114      |5114.000  |5114            |\n",
      "|Jennifer Robinson      |IT            |9890      |7502.000  |15004           |\n",
      "|Christina Pollard      |Sales         |4000      |4000.000  |4000            |\n",
      "|Christopher Walker     |Sales         |5000      |4500.000  |9000            |\n",
      "|Zachary Lopez          |Sales         |5000      |4666.666  |14000           |\n",
      "-------------------------------------------------------------------------------\n",
      "\n"
     ]
    }
   ],
   "source": [
    "#Running totals per department\n",
    "\n",
    "windowSpec_unboundedpre = Window.partitionBy(col(\"Department\")).orderBy(\"Salary\")\\\n",
    ".rowsBetween(Window.unboundedPreceding,Window.currentRow)\n",
    "\n",
    "df.withColumn(\"AvgSal\",avg(\"Salary\").over(windowSpec_unboundedpre))\\\n",
    ".withColumn(\"RunningTotal\",sum(col(\"Salary\")).over(windowSpec_unboundedpre)) \\\n",
    "    .show(11)"
   ]
  },
  {
   "cell_type": "code",
   "execution_count": 32,
   "metadata": {
    "application/vnd.databricks.v1+cell": {
     "inputWidgets": {},
     "nuid": "bb1b917a-9e5d-440f-a646-f4618e7f63b5",
     "showTitle": false,
     "title": ""
    }
   },
   "outputs": [
    {
     "name": "stdout",
     "output_type": "stream",
     "text": [
      "-----------------------------------------------------------\n",
      "|\"EMPLOYEENAME\"      |\"DEPARTMENT\"  |\"SALARY\"  |\"SUMSAL\"  |\n",
      "-----------------------------------------------------------\n",
      "|Collin Brooks       |Sales         |7732      |7732      |\n",
      "|Amanda Briggs       |Sales         |6838      |14570     |\n",
      "|Christopher Walker  |Sales         |5000      |11838     |\n",
      "|Zachary Lopez       |Sales         |5000      |10000     |\n",
      "|Christina Pollard   |Sales         |4000      |9000      |\n",
      "|Megan Riley         |Marketing     |9338      |9338      |\n",
      "|Dean Evans          |Marketing     |5500      |14838     |\n",
      "|Aaron Young         |Marketing     |5500      |11000     |\n",
      "|Steven Nixon        |Finance       |7500      |7500      |\n",
      "|Brian Brown         |Finance       |4500      |12000     |\n",
      "|Michael Valdez      |Finance       |3000      |7500      |\n",
      "-----------------------------------------------------------\n",
      "\n"
     ]
    }
   ],
   "source": [
    "# Sum with next rows\n",
    "df.withColumn(\"SumSal\",sum(col(\"Salary\")).over(windowSpec_nextvrow)) \\\n",
    "    .show(11)"
   ]
  },
  {
   "cell_type": "code",
   "execution_count": 33,
   "metadata": {
    "application/vnd.databricks.v1+cell": {
     "inputWidgets": {},
     "nuid": "7580abdb-f8eb-42b3-8dad-ed48b28f6a0d",
     "showTitle": false,
     "title": ""
    }
   },
   "outputs": [
    {
     "name": "stdout",
     "output_type": "stream",
     "text": [
      "-----------------------------------------------------------\n",
      "|\"EMPLOYEENAME\"      |\"DEPARTMENT\"  |\"SALARY\"  |\"SUMSAL\"  |\n",
      "-----------------------------------------------------------\n",
      "|Christina Pollard   |Sales         |4000      |4000      |\n",
      "|Christopher Walker  |Sales         |5000      |9000      |\n",
      "|Zachary Lopez       |Sales         |5000      |10000     |\n",
      "|Amanda Briggs       |Sales         |6838      |11838     |\n",
      "|Collin Brooks       |Sales         |7732      |14570     |\n",
      "|Dean Evans          |Marketing     |5500      |5500      |\n",
      "|Aaron Young         |Marketing     |5500      |11000     |\n",
      "|Megan Riley         |Marketing     |9338      |14838     |\n",
      "|Michael Valdez      |Finance       |3000      |3000      |\n",
      "|Brian Brown         |Finance       |4500      |7500      |\n",
      "|Steven Nixon        |Finance       |7500      |12000     |\n",
      "-----------------------------------------------------------\n",
      "\n"
     ]
    }
   ],
   "source": [
    "#Sum with prev row\n",
    "df.withColumn(\"SumSal\",sum(col(\"Salary\")).over(windowSpec_prevrow)) \\\n",
    "    .show(11)"
   ]
  },
  {
   "cell_type": "code",
   "execution_count": 34,
   "metadata": {
    "application/vnd.databricks.v1+cell": {
     "inputWidgets": {},
     "nuid": "3eda2444-703b-4aaf-99e4-0044af0b55eb",
     "showTitle": false,
     "title": ""
    }
   },
   "outputs": [],
   "source": [
    "\n",
    "\n",
    "newempData = ((faker.name(), \"Sales\", faker.random_int(5000, 10000)), \\\n",
    "    (faker.name(), \"Sales\", faker.random_int(5000, 10000)),  \\\n",
    "    (faker.name(), \"Sales\", faker.random_int(5000, 10000)),   \\\n",
    "    (faker.name(), \"Sales\", faker.random_int(5000, 10000)),    \\\n",
    "    (faker.name(), \"Sales\", faker.random_int(5000, 10000)), \\\n",
    "    (faker.name(), \"Finance\", faker.random_int(5000, 10000)),  \\\n",
    "    (faker.name(), \"Finance\", faker.random_int(5000, 10000)),  \\\n",
    "    (faker.name(), \"Finance\", faker.random_int(5000, 10000)),\n",
    "    (faker.name(), \"IT\", faker.random_int(5000, 10000)),\\\n",
    "    (faker.name(), \"IT\", faker.random_int(5000, 10000)),\\\n",
    "    (faker.name(), \"Marketing\", faker.random_int(5000, 10000)), \\\n",
    "    (faker.name(), \"Marketing\", faker.random_int(5000, 10000)),\\\n",
    "    (None, \"Marketing\", faker.random_int(5000, 10000)),\\\n",
    "    (faker.name(), \"Marketing\", faker.random_int(5000, 10000))\\\n",
    "  )\n",
    "\n",
    "empSchema = StructType([ \\\n",
    "    StructField(\"EmployeeName\",StringType(),True), \\\n",
    "    StructField(\"Department\",StringType(),True), \\\n",
    "    StructField(\"Salary\", LongType(), True) \\\n",
    "  ])\n",
    " \n",
    "\n",
    "df_udf = session.createDataFrame(data = newempData, schema = empSchema)\n"
   ]
  },
  {
   "cell_type": "code",
   "execution_count": 35,
   "metadata": {},
   "outputs": [
    {
     "data": {
      "text/plain": [
       "[StructField('EMPLOYEENAME', StringType(), nullable=True),\n",
       " StructField('DEPARTMENT', StringType(), nullable=False),\n",
       " StructField('SALARY', LongType(), nullable=False)]"
      ]
     },
     "execution_count": 35,
     "metadata": {},
     "output_type": "execute_result"
    }
   ],
   "source": [
    "df_udf.schema.fields"
   ]
  },
  {
   "cell_type": "code",
   "execution_count": 36,
   "metadata": {
    "application/vnd.databricks.v1+cell": {
     "inputWidgets": {},
     "nuid": "f2ea9d9c-fd9a-4617-a969-d3d90777a4fd",
     "showTitle": false,
     "title": ""
    }
   },
   "outputs": [
    {
     "data": {
      "text/html": [
       "<div>\n",
       "<style scoped>\n",
       "    .dataframe tbody tr th:only-of-type {\n",
       "        vertical-align: middle;\n",
       "    }\n",
       "\n",
       "    .dataframe tbody tr th {\n",
       "        vertical-align: top;\n",
       "    }\n",
       "\n",
       "    .dataframe thead th {\n",
       "        text-align: right;\n",
       "    }\n",
       "</style>\n",
       "<table border=\"1\" class=\"dataframe\">\n",
       "  <thead>\n",
       "    <tr style=\"text-align: right;\">\n",
       "      <th></th>\n",
       "      <th>EMPLOYEENAME</th>\n",
       "      <th>DEPARTMENT</th>\n",
       "      <th>SALARY</th>\n",
       "    </tr>\n",
       "  </thead>\n",
       "  <tbody>\n",
       "    <tr>\n",
       "      <th>0</th>\n",
       "      <td>Kristina Johnson</td>\n",
       "      <td>Sales</td>\n",
       "      <td>6452</td>\n",
       "    </tr>\n",
       "    <tr>\n",
       "      <th>1</th>\n",
       "      <td>Alison Graham</td>\n",
       "      <td>Sales</td>\n",
       "      <td>9965</td>\n",
       "    </tr>\n",
       "    <tr>\n",
       "      <th>2</th>\n",
       "      <td>Kirk James</td>\n",
       "      <td>Sales</td>\n",
       "      <td>8230</td>\n",
       "    </tr>\n",
       "    <tr>\n",
       "      <th>3</th>\n",
       "      <td>Bryce Daniels</td>\n",
       "      <td>Sales</td>\n",
       "      <td>9122</td>\n",
       "    </tr>\n",
       "    <tr>\n",
       "      <th>4</th>\n",
       "      <td>Robert Berry</td>\n",
       "      <td>Sales</td>\n",
       "      <td>5555</td>\n",
       "    </tr>\n",
       "    <tr>\n",
       "      <th>5</th>\n",
       "      <td>Angela Davidson</td>\n",
       "      <td>Finance</td>\n",
       "      <td>7194</td>\n",
       "    </tr>\n",
       "    <tr>\n",
       "      <th>6</th>\n",
       "      <td>Roger Johnson</td>\n",
       "      <td>Finance</td>\n",
       "      <td>7707</td>\n",
       "    </tr>\n",
       "    <tr>\n",
       "      <th>7</th>\n",
       "      <td>Christine Martin</td>\n",
       "      <td>Finance</td>\n",
       "      <td>9703</td>\n",
       "    </tr>\n",
       "    <tr>\n",
       "      <th>8</th>\n",
       "      <td>Christopher Berry</td>\n",
       "      <td>IT</td>\n",
       "      <td>9180</td>\n",
       "    </tr>\n",
       "    <tr>\n",
       "      <th>9</th>\n",
       "      <td>Oscar Walter</td>\n",
       "      <td>IT</td>\n",
       "      <td>9385</td>\n",
       "    </tr>\n",
       "    <tr>\n",
       "      <th>10</th>\n",
       "      <td>Shawn Ponce</td>\n",
       "      <td>Marketing</td>\n",
       "      <td>9590</td>\n",
       "    </tr>\n",
       "    <tr>\n",
       "      <th>11</th>\n",
       "      <td>Glenda Davis</td>\n",
       "      <td>Marketing</td>\n",
       "      <td>9680</td>\n",
       "    </tr>\n",
       "    <tr>\n",
       "      <th>12</th>\n",
       "      <td>None</td>\n",
       "      <td>Marketing</td>\n",
       "      <td>5262</td>\n",
       "    </tr>\n",
       "    <tr>\n",
       "      <th>13</th>\n",
       "      <td>Pam Black</td>\n",
       "      <td>Marketing</td>\n",
       "      <td>7097</td>\n",
       "    </tr>\n",
       "  </tbody>\n",
       "</table>\n",
       "</div>"
      ],
      "text/plain": [
       "         EMPLOYEENAME DEPARTMENT  SALARY\n",
       "0    Kristina Johnson      Sales    6452\n",
       "1       Alison Graham      Sales    9965\n",
       "2          Kirk James      Sales    8230\n",
       "3       Bryce Daniels      Sales    9122\n",
       "4        Robert Berry      Sales    5555\n",
       "5     Angela Davidson    Finance    7194\n",
       "6       Roger Johnson    Finance    7707\n",
       "7    Christine Martin    Finance    9703\n",
       "8   Christopher Berry         IT    9180\n",
       "9        Oscar Walter         IT    9385\n",
       "10        Shawn Ponce  Marketing    9590\n",
       "11       Glenda Davis  Marketing    9680\n",
       "12               None  Marketing    5262\n",
       "13          Pam Black  Marketing    7097"
      ]
     },
     "execution_count": 36,
     "metadata": {},
     "output_type": "execute_result"
    }
   ],
   "source": [
    "df_udf.toPandas()"
   ]
  },
  {
   "cell_type": "code",
   "execution_count": 37,
   "metadata": {
    "application/vnd.databricks.v1+cell": {
     "inputWidgets": {},
     "nuid": "0457c2fa-80b9-416e-a718-8a8284304178",
     "showTitle": false,
     "title": ""
    }
   },
   "outputs": [
    {
     "data": {
      "text/plain": [
       "snowflake.snowpark.dataframe.DataFrame"
      ]
     },
     "execution_count": 37,
     "metadata": {},
     "output_type": "execute_result"
    }
   ],
   "source": [
    "type(df_udf)"
   ]
  },
  {
   "cell_type": "code",
   "execution_count": 38,
   "metadata": {
    "application/vnd.databricks.v1+cell": {
     "inputWidgets": {},
     "nuid": "18fa4955-3752-4024-9003-144a2968ef34",
     "showTitle": false,
     "title": ""
    }
   },
   "outputs": [
    {
     "data": {
      "text/plain": [
       "[Row(status='View EMP successfully created.')]"
      ]
     },
     "execution_count": 38,
     "metadata": {},
     "output_type": "execute_result"
    }
   ],
   "source": [
    "df_udf.createOrReplaceTempView(\"emp\")"
   ]
  },
  {
   "cell_type": "code",
   "execution_count": 39,
   "metadata": {
    "application/vnd.databricks.v1+cell": {
     "inputWidgets": {},
     "nuid": "c2ebbe52-951d-474e-8603-749e5031b712",
     "showTitle": false,
     "title": ""
    }
   },
   "outputs": [
    {
     "name": "stdout",
     "output_type": "stream",
     "text": [
      "-----------------------------------------------\n",
      "|\"EMPLOYEENAME\"     |\"DEPARTMENT\"  |\"SALARY\"  |\n",
      "-----------------------------------------------\n",
      "|Kristina Johnson   |Sales         |6452      |\n",
      "|Alison Graham      |Sales         |9965      |\n",
      "|Kirk James         |Sales         |8230      |\n",
      "|Bryce Daniels      |Sales         |9122      |\n",
      "|Robert Berry       |Sales         |5555      |\n",
      "|Angela Davidson    |Finance       |7194      |\n",
      "|Roger Johnson      |Finance       |7707      |\n",
      "|Christine Martin   |Finance       |9703      |\n",
      "|Christopher Berry  |IT            |9180      |\n",
      "|Oscar Walter       |IT            |9385      |\n",
      "-----------------------------------------------\n",
      "\n"
     ]
    }
   ],
   "source": [
    "session.sql(\"select * from emp\").show()"
   ]
  },
  {
   "cell_type": "markdown",
   "metadata": {},
   "source": [
    "## Reading from External Storage"
   ]
  },
  {
   "cell_type": "code",
   "execution_count": 40,
   "metadata": {},
   "outputs": [],
   "source": [
    "# CREATE OR REPLACE STORAGE INTEGRATION azure_integration\n",
    "#   TYPE = EXTERNAL_STAGE\n",
    "#   STORAGE_PROVIDER = AZURE\n",
    "#   ENABLED = TRUE\n",
    "#   AZURE_TENANT_ID = ''\n",
    "#   STORAGE_ALLOWED_LOCATIONS = ('azure://phanidemostgacct.blob.core.windows.net/staging','azure://phanidemostgacct.blob.core.windows.net/curated');"
   ]
  },
  {
   "cell_type": "code",
   "execution_count": 17,
   "metadata": {
    "application/vnd.databricks.v1+cell": {
     "inputWidgets": {},
     "nuid": "aab91012-1d6c-4fd1-a602-e32515353a52",
     "showTitle": false,
     "title": ""
    }
   },
   "outputs": [
    {
     "name": "stdout",
     "output_type": "stream",
     "text": [
      "-------------------------------------------------------------------------------------------------------------------------------------------------------------------------------------\n",
      "|\"name\"                                                                                                |\"size\"   |\"md5\"                             |\"last_modified\"                |\n",
      "-------------------------------------------------------------------------------------------------------------------------------------------------------------------------------------\n",
      "|azure://rawdemodatastorage.blob.core.windows.net/sourcedata/parquetfiles/part-00000-tid-787730706...  |1232348  |71c12069a63d65a0babd7d16808731f4  |Mon, 10 Apr 2023 14:00:08 GMT  |\n",
      "|azure://rawdemodatastorage.blob.core.windows.net/sourcedata/parquetfiles/part-00001-tid-787730706...  |1232940  |3225ca79a5ccaf1591c17839fe13745c  |Mon, 10 Apr 2023 14:00:08 GMT  |\n",
      "|azure://rawdemodatastorage.blob.core.windows.net/sourcedata/parquetfiles/part-00002-tid-787730706...  |1234397  |8217ae32502b8b24bfdb65b22982acc9  |Mon, 10 Apr 2023 14:00:08 GMT  |\n",
      "|azure://rawdemodatastorage.blob.core.windows.net/sourcedata/parquetfiles/part-00003-tid-787730706...  |1233382  |65865aadeafa03a5fc85963bc8df9184  |Mon, 10 Apr 2023 14:00:09 GMT  |\n",
      "|azure://rawdemodatastorage.blob.core.windows.net/sourcedata/parquetfiles/part-00004-tid-787730706...  |1232687  |9ee710eb82a5cf48570cfb654c9d6c13  |Mon, 10 Apr 2023 14:00:08 GMT  |\n",
      "|azure://rawdemodatastorage.blob.core.windows.net/sourcedata/parquetfiles/part-00005-tid-787730706...  |1235305  |f3b2986f21b313c02daf0b31180413cb  |Mon, 10 Apr 2023 14:00:09 GMT  |\n",
      "|azure://rawdemodatastorage.blob.core.windows.net/sourcedata/parquetfiles/part-00006-tid-787730706...  |1233292  |ca2bc1f0022066e72ee0e25c0d41a000  |Mon, 10 Apr 2023 14:00:09 GMT  |\n",
      "|azure://rawdemodatastorage.blob.core.windows.net/sourcedata/parquetfiles/part-00007-tid-787730706...  |1233605  |0fe7b95a074c0305b53c036183568127  |Mon, 10 Apr 2023 14:00:09 GMT  |\n",
      "|azure://rawdemodatastorage.blob.core.windows.net/sourcedata/parquetfiles/part-00008-tid-787730706...  |1231438  |61f8c3da7dfac0b51f2bb15304b03f9e  |Mon, 10 Apr 2023 14:00:09 GMT  |\n",
      "|azure://rawdemodatastorage.blob.core.windows.net/sourcedata/parquetfiles/part-00009-tid-787730706...  |1238351  |7aa9133e6867cad04e725bdc00826fb6  |Mon, 10 Apr 2023 14:00:11 GMT  |\n",
      "-------------------------------------------------------------------------------------------------------------------------------------------------------------------------------------\n",
      "\n"
     ]
    }
   ],
   "source": [
    "session.sql(\"list @azure_stage/parquetfiles/\").show(max_width=100)"
   ]
  },
  {
   "cell_type": "markdown",
   "metadata": {
    "application/vnd.databricks.v1+cell": {
     "inputWidgets": {},
     "nuid": "6b90d38a-539b-47f2-b423-348aa5dab86a",
     "showTitle": false,
     "title": ""
    }
   },
   "source": [
    "### Reading CSV Files"
   ]
  },
  {
   "cell_type": "markdown",
   "metadata": {
    "application/vnd.databricks.v1+cell": {
     "inputWidgets": {},
     "nuid": "31997b11-fcaa-4983-bd18-3e255263b98e",
     "showTitle": false,
     "title": ""
    }
   },
   "source": []
  },
  {
   "cell_type": "code",
   "execution_count": 18,
   "metadata": {
    "application/vnd.databricks.v1+cell": {
     "inputWidgets": {},
     "nuid": "d7155514-81da-4d81-8eb6-5a13efe51941",
     "showTitle": false,
     "title": ""
    }
   },
   "outputs": [],
   "source": [
    "from snowflake.snowpark.functions import sql_expr,json_extract_path_text,parse_json,to_json,get_path"
   ]
  },
  {
   "cell_type": "code",
   "execution_count": 19,
   "metadata": {
    "application/vnd.databricks.v1+cell": {
     "inputWidgets": {},
     "nuid": "66a40e46-4024-429a-b02e-4eda90b2fb4c",
     "showTitle": false,
     "title": ""
    }
   },
   "outputs": [
    {
     "data": {
      "text/html": [
       "<div>\n",
       "<style scoped>\n",
       "    .dataframe tbody tr th:only-of-type {\n",
       "        vertical-align: middle;\n",
       "    }\n",
       "\n",
       "    .dataframe tbody tr th {\n",
       "        vertical-align: top;\n",
       "    }\n",
       "\n",
       "    .dataframe thead th {\n",
       "        text-align: right;\n",
       "    }\n",
       "</style>\n",
       "<table border=\"1\" class=\"dataframe\">\n",
       "  <thead>\n",
       "    <tr style=\"text-align: right;\">\n",
       "      <th></th>\n",
       "      <th>C_CUSTKEY</th>\n",
       "      <th>C_NAME</th>\n",
       "      <th>C_ADDRESS</th>\n",
       "      <th>C_NATIONKEY</th>\n",
       "      <th>C_PHONE</th>\n",
       "      <th>C_ACCTBAL</th>\n",
       "      <th>C_MKTSEGMENT</th>\n",
       "      <th>C_COMMENT</th>\n",
       "    </tr>\n",
       "  </thead>\n",
       "  <tbody>\n",
       "    <tr>\n",
       "      <th>0</th>\n",
       "      <td>48186</td>\n",
       "      <td>Customer#000048186</td>\n",
       "      <td>uDRQH,RXtNl</td>\n",
       "      <td>0</td>\n",
       "      <td>10-212-919-2237</td>\n",
       "      <td>2830.40</td>\n",
       "      <td>MACHINERY</td>\n",
       "      <td>s near the regular, bold requests cajole fluff...</td>\n",
       "    </tr>\n",
       "    <tr>\n",
       "      <th>1</th>\n",
       "      <td>34309</td>\n",
       "      <td>Customer#000034309</td>\n",
       "      <td>fDbr,ZUNaWAWiZfJbotLRUFUN3UWM69aZBzX3mdf</td>\n",
       "      <td>0</td>\n",
       "      <td>10-206-864-6173</td>\n",
       "      <td>6716.09</td>\n",
       "      <td>FURNITURE</td>\n",
       "      <td>ccounts. blithely pending deposit</td>\n",
       "    </tr>\n",
       "    <tr>\n",
       "      <th>2</th>\n",
       "      <td>33724</td>\n",
       "      <td>Customer#000033724</td>\n",
       "      <td>8CyHIl0gQbNv4ZcvnNe0M7McGUBGS</td>\n",
       "      <td>0</td>\n",
       "      <td>10-351-808-2162</td>\n",
       "      <td>3462.85</td>\n",
       "      <td>FURNITURE</td>\n",
       "      <td>sits. special, regular theodolites wake blithe...</td>\n",
       "    </tr>\n",
       "    <tr>\n",
       "      <th>3</th>\n",
       "      <td>39854</td>\n",
       "      <td>Customer#000039854</td>\n",
       "      <td>V2RNPnRPekf</td>\n",
       "      <td>0</td>\n",
       "      <td>10-639-634-3099</td>\n",
       "      <td>9051.31</td>\n",
       "      <td>MACHINERY</td>\n",
       "      <td>aggle among the theodolites. carefully even acco</td>\n",
       "    </tr>\n",
       "    <tr>\n",
       "      <th>4</th>\n",
       "      <td>38217</td>\n",
       "      <td>Customer#000038217</td>\n",
       "      <td>Br4PsGcCSII7JmCS7DE,PWCCcZC8DUJY</td>\n",
       "      <td>0</td>\n",
       "      <td>10-898-625-7344</td>\n",
       "      <td>-446.46</td>\n",
       "      <td>AUTOMOBILE</td>\n",
       "      <td>beans. blithely pending deposits sleep quickly...</td>\n",
       "    </tr>\n",
       "  </tbody>\n",
       "</table>\n",
       "</div>"
      ],
      "text/plain": [
       "   C_CUSTKEY              C_NAME                                 C_ADDRESS  \\\n",
       "0      48186  Customer#000048186                               uDRQH,RXtNl   \n",
       "1      34309  Customer#000034309  fDbr,ZUNaWAWiZfJbotLRUFUN3UWM69aZBzX3mdf   \n",
       "2      33724  Customer#000033724             8CyHIl0gQbNv4ZcvnNe0M7McGUBGS   \n",
       "3      39854  Customer#000039854                               V2RNPnRPekf   \n",
       "4      38217  Customer#000038217          Br4PsGcCSII7JmCS7DE,PWCCcZC8DUJY   \n",
       "\n",
       "   C_NATIONKEY          C_PHONE  C_ACCTBAL C_MKTSEGMENT  \\\n",
       "0            0  10-212-919-2237    2830.40    MACHINERY   \n",
       "1            0  10-206-864-6173    6716.09    FURNITURE   \n",
       "2            0  10-351-808-2162    3462.85    FURNITURE   \n",
       "3            0  10-639-634-3099    9051.31    MACHINERY   \n",
       "4            0  10-898-625-7344    -446.46   AUTOMOBILE   \n",
       "\n",
       "                                           C_COMMENT  \n",
       "0  s near the regular, bold requests cajole fluff...  \n",
       "1                  ccounts. blithely pending deposit  \n",
       "2  sits. special, regular theodolites wake blithe...  \n",
       "3   aggle among the theodolites. carefully even acco  \n",
       "4  beans. blithely pending deposits sleep quickly...  "
      ]
     },
     "execution_count": 19,
     "metadata": {},
     "output_type": "execute_result"
    }
   ],
   "source": [
    "cust_schema = StructType([\n",
    "    StructField(\"C_CUSTKEY\", IntegerType()),\n",
    "    StructField(\"C_NAME\", StringType()),\n",
    "    StructField(\"C_ADDRESS\", StringType()),\n",
    "    StructField(\"C_NATIONKEY\", ShortType()),\n",
    "    StructField(\"C_PHONE\", StringType()),\n",
    "    StructField(\"C_ACCTBAL\", DoubleType()),\n",
    "    StructField(\"C_MKTSEGMENT\", StringType()),\n",
    "    StructField(\"C_COMMENT\", StringType())\n",
    "])\n",
    "\n",
    "df_cust= session.read.option(\"skip_header\", 1).option(\"field_delimiter\", \",\")\\\n",
    ".option(\"FIELD_OPTIONALLY_ENCLOSED_BY\", '\"')\\\n",
    ".schema(cust_schema).csv(\"@azure_stage/csvfiles/\")\n",
    "\n",
    "df_cust.limit(5).toPandas()"
   ]
  },
  {
   "cell_type": "markdown",
   "metadata": {},
   "source": [
    "### Reading and writing to Parquet"
   ]
  },
  {
   "cell_type": "code",
   "execution_count": 20,
   "metadata": {
    "application/vnd.databricks.v1+cell": {
     "inputWidgets": {},
     "nuid": "6e000091-7210-426f-b31b-0d85086c3e9a",
     "showTitle": false,
     "title": ""
    }
   },
   "outputs": [
    {
     "name": "stdout",
     "output_type": "stream",
     "text": [
      "------------------------------------------------------\n",
      "|\"C_NAME\"            |\"C_PHONE\"        |\"C_ACCTBAL\"  |\n",
      "------------------------------------------------------\n",
      "|Customer#000022643  |10-745-420-1529  |1055.58      |\n",
      "|Customer#000000896  |10-425-565-3199  |7659.72      |\n",
      "|Customer#000006495  |10-465-937-3117  |6679.86      |\n",
      "|Customer#000011029  |10-796-436-4320  |-663.86      |\n",
      "|Customer#000018365  |10-836-214-8530  |1939.80      |\n",
      "------------------------------------------------------\n",
      "\n"
     ]
    }
   ],
   "source": [
    "#Reading parquet Files\n",
    "session.read.parquet(\"@azure_stage/parquetfiles/\").select(\"C_NAME\",\"C_PHONE\",\"C_ACCTBAL\").show(5)"
   ]
  },
  {
   "cell_type": "code",
   "execution_count": 21,
   "metadata": {
    "application/vnd.databricks.v1+cell": {
     "inputWidgets": {},
     "nuid": "c0a5e1c9-fe89-44e3-970b-88de3c6b9e88",
     "showTitle": false,
     "title": ""
    }
   },
   "outputs": [
    {
     "data": {
      "text/plain": [
       "[Row(rows_unloaded=150000, input_bytes=13981426, output_bytes=13981426)]"
      ]
     },
     "execution_count": 21,
     "metadata": {},
     "output_type": "execute_result"
    }
   ],
   "source": [
    "#Writing to Parquet without any partitions\n",
    "\n",
    "df_cust.write.copy_into_location('@azure_stage/custNonPartitionedParquetFiles/', \\\n",
    " file_format_type=\"parquet\", header=True,OVERWRITE=True)"
   ]
  },
  {
   "cell_type": "code",
   "execution_count": 22,
   "metadata": {},
   "outputs": [
    {
     "data": {
      "text/plain": [
       "[Row(name='azure://rawdemodatastorage.blob.core.windows.net/sourcedata/custNonPartitionedParquetFiles', size=0, md5=None, last_modified='Tue, 11 Apr 2023 11:48:30 GMT'),\n",
       " Row(name='azure://rawdemodatastorage.blob.core.windows.net/sourcedata/custNonPartitionedParquetFiles/data_0_0_0.snappy.parquet', size=1399763, md5='da0c64a8712b1e7201782e78ff4cd44e', last_modified='Tue, 11 Apr 2023 11:48:30 GMT'),\n",
       " Row(name='azure://rawdemodatastorage.blob.core.windows.net/sourcedata/custNonPartitionedParquetFiles/data_0_2_0.snappy.parquet', size=1398006, md5='7aac192137c792411e048c4b6b54d454', last_modified='Tue, 11 Apr 2023 11:48:30 GMT'),\n",
       " Row(name='azure://rawdemodatastorage.blob.core.windows.net/sourcedata/custNonPartitionedParquetFiles/data_0_3_0.snappy.parquet', size=1400813, md5='255c589cc3b44417c0c07730e60ddfc9', last_modified='Tue, 11 Apr 2023 11:48:30 GMT'),\n",
       " Row(name='azure://rawdemodatastorage.blob.core.windows.net/sourcedata/custNonPartitionedParquetFiles/data_0_4_0.snappy.parquet', size=1397822, md5='79ddbf72f614c6980003748a82bf3e25', last_modified='Tue, 11 Apr 2023 11:48:30 GMT'),\n",
       " Row(name='azure://rawdemodatastorage.blob.core.windows.net/sourcedata/custNonPartitionedParquetFiles/data_0_6_0.snappy.parquet', size=1398423, md5='575261f766d10a54f4a960a7fd0622d8', last_modified='Tue, 11 Apr 2023 11:48:30 GMT'),\n",
       " Row(name='azure://rawdemodatastorage.blob.core.windows.net/sourcedata/custNonPartitionedParquetFiles/data_0_7_0.snappy.parquet', size=1398988, md5='1fa0bb33013e6c442c977ca021d87d5f', last_modified='Tue, 11 Apr 2023 11:48:30 GMT'),\n",
       " Row(name='azure://rawdemodatastorage.blob.core.windows.net/sourcedata/custNonPartitionedParquetFiles/data_1_2_0.snappy.parquet', size=1393510, md5='ae3409100b55d75736c3286830674a50', last_modified='Tue, 11 Apr 2023 11:48:30 GMT'),\n",
       " Row(name='azure://rawdemodatastorage.blob.core.windows.net/sourcedata/custNonPartitionedParquetFiles/data_1_5_0.snappy.parquet', size=1399710, md5='901f54e1a87e74dc61717497f11fad59', last_modified='Tue, 11 Apr 2023 11:48:30 GMT'),\n",
       " Row(name='azure://rawdemodatastorage.blob.core.windows.net/sourcedata/custNonPartitionedParquetFiles/data_2_2_0.snappy.parquet', size=1396773, md5='ccb92c7c79aeb1ffcbffba78fac43aa2', last_modified='Tue, 11 Apr 2023 11:48:30 GMT'),\n",
       " Row(name='azure://rawdemodatastorage.blob.core.windows.net/sourcedata/custNonPartitionedParquetFiles/data_3_2_0.snappy.parquet', size=1397618, md5='a3fd55b7d80958b6887e12bf2353e73a', last_modified='Tue, 11 Apr 2023 11:48:30 GMT')]"
      ]
     },
     "execution_count": 22,
     "metadata": {},
     "output_type": "execute_result"
    }
   ],
   "source": [
    "session.sql('ls @azure_stage/custNonPartitionedParquetFiles').collect()"
   ]
  },
  {
   "cell_type": "code",
   "execution_count": 23,
   "metadata": {
    "application/vnd.databricks.v1+cell": {
     "inputWidgets": {},
     "nuid": "e3ae1dde-9ffb-4d78-888c-e73fd9f1c853",
     "showTitle": false,
     "title": ""
    }
   },
   "outputs": [
    {
     "data": {
      "text/plain": [
       "[Row(rows_unloaded=150000, input_bytes=13892815, output_bytes=13892815)]"
      ]
     },
     "execution_count": 23,
     "metadata": {},
     "output_type": "execute_result"
    }
   ],
   "source": [
    "#Writing to Parquet with partitions\n",
    "df_cust.write.copy_into_location('azure_stage/custPartitionedParquetFiles/', \n",
    " partition_by=\"'C_MKTSEGMENT=' || C_MKTSEGMENT || '/C_NATIONKEY=' || to_varchar(C_NATIONKEY)\" ,\\\n",
    " file_format_type=\"parquet\", header=True)"
   ]
  },
  {
   "cell_type": "code",
   "execution_count": 24,
   "metadata": {
    "application/vnd.databricks.v1+cell": {
     "inputWidgets": {},
     "nuid": "d02633ba-07f4-4679-b871-72988e525e53",
     "showTitle": false,
     "title": ""
    }
   },
   "outputs": [
    {
     "name": "stdout",
     "output_type": "stream",
     "text": [
      "-------------------------------------------------------------------------------------------------------------------------------------------------------------------------------------------------------------------------------------------------------------------------------\n",
      "|\"name\"                                                                                                                                                                                          |\"size\"   |\"md5\"                             |\"last_modified\"                |\n",
      "-------------------------------------------------------------------------------------------------------------------------------------------------------------------------------------------------------------------------------------------------------------------------------\n",
      "|azure://rawdemodatastorage.blob.core.windows.net/sourcedata/custPartitionedParquetFiles                                                                                                         |0        |NULL                              |Tue, 11 Apr 2023 11:48:49 GMT  |\n",
      "|azure://rawdemodatastorage.blob.core.windows.net/sourcedata/custPartitionedParquetFiles/C_MKTSEGMENT=AUTOMOBILE                                                                                 |0        |NULL                              |Tue, 11 Apr 2023 11:48:49 GMT  |\n",
      "|azure://rawdemodatastorage.blob.core.windows.net/sourcedata/custPartitionedParquetFiles/C_MKTSEGMENT=AUTOMOBILE/C_NATIONKEY=0                                                                   |0        |NULL                              |Tue, 11 Apr 2023 11:48:49 GMT  |\n",
      "|azure://rawdemodatastorage.blob.core.windows.net/sourcedata/custPartitionedParquetFiles/C_MKTSEGMENT=AUTOMOBILE/C_NATIONKEY=0/data_01ab8e04-0101-82ef-0000-cd4d00c71176_306_4_0.snappy.parquet  |2755434  |bdb73bd9e7232ae3f5d692414c1dfaea  |Tue, 11 Apr 2023 11:48:49 GMT  |\n",
      "|azure://rawdemodatastorage.blob.core.windows.net/sourcedata/custPartitionedParquetFiles/C_MKTSEGMENT=BUILDING                                                                                   |0        |NULL                              |Tue, 11 Apr 2023 11:48:49 GMT  |\n",
      "|azure://rawdemodatastorage.blob.core.windows.net/sourcedata/custPartitionedParquetFiles/C_MKTSEGMENT=BUILDING/C_NATIONKEY=0                                                                     |0        |NULL                              |Tue, 11 Apr 2023 11:48:49 GMT  |\n",
      "|azure://rawdemodatastorage.blob.core.windows.net/sourcedata/custPartitionedParquetFiles/C_MKTSEGMENT=BUILDING/C_NATIONKEY=0/data_01ab8e04-0101-82ef-0000-cd4d00c71176_006_5_0.snappy.parquet    |2792618  |435edc07420af6b72f01171ae1be2dc5  |Tue, 11 Apr 2023 11:48:49 GMT  |\n",
      "|azure://rawdemodatastorage.blob.core.windows.net/sourcedata/custPartitionedParquetFiles/C_MKTSEGMENT=FURNITURE                                                                                  |0        |NULL                              |Tue, 11 Apr 2023 11:48:49 GMT  |\n",
      "|azure://rawdemodatastorage.blob.core.windows.net/sourcedata/custPartitionedParquetFiles/C_MKTSEGMENT=FURNITURE/C_NATIONKEY=0                                                                    |0        |NULL                              |Tue, 11 Apr 2023 11:48:49 GMT  |\n",
      "|azure://rawdemodatastorage.blob.core.windows.net/sourcedata/custPartitionedParquetFiles/C_MKTSEGMENT=FURNITURE/C_NATIONKEY=0/data_01ab8e04-0101-82ef-0000-cd4d00c71176_106_6_0.snappy.parquet   |2777460  |7b159e3b202891d2c8d7e43a0d7129bf  |Tue, 11 Apr 2023 11:48:49 GMT  |\n",
      "-------------------------------------------------------------------------------------------------------------------------------------------------------------------------------------------------------------------------------------------------------------------------------\n",
      "\n"
     ]
    }
   ],
   "source": [
    "\n",
    "session.sql(\"list @azure_stage/custPartitionedParquetFiles\").show(max_width=1000)"
   ]
  },
  {
   "cell_type": "markdown",
   "metadata": {
    "application/vnd.databricks.v1+cell": {
     "inputWidgets": {},
     "nuid": "ccacdc0b-1cc0-4fc7-a40c-83512d41827c",
     "showTitle": false,
     "title": ""
    },
    "tags": []
   },
   "source": [
    "### Reading JSON Data"
   ]
  },
  {
   "cell_type": "code",
   "execution_count": 25,
   "metadata": {},
   "outputs": [
    {
     "name": "stdout",
     "output_type": "stream",
     "text": [
      "azure://rawdemodatastorage.blob.core.windows.net/sourcedata/jsonfiles/Vehicle1.json\n",
      "azure://rawdemodatastorage.blob.core.windows.net/sourcedata/jsonfiles/Vehicle2.json\n",
      "azure://rawdemodatastorage.blob.core.windows.net/sourcedata/jsonfiles/Vehicle3.json\n",
      "azure://rawdemodatastorage.blob.core.windows.net/sourcedata/jsonfiles/Vehicle4.json\n",
      "azure://rawdemodatastorage.blob.core.windows.net/sourcedata/jsonfiles/Vehicle5.json\n"
     ]
    }
   ],
   "source": [
    "df_stages=session.sql(\" list @azure_stage/jsonfiles/\").collect()\n",
    "for val in df_stages:\n",
    "    print(val.name)"
   ]
  },
  {
   "cell_type": "code",
   "execution_count": 26,
   "metadata": {},
   "outputs": [
    {
     "name": "stdout",
     "output_type": "stream",
     "text": [
      "--------------------------------------------------------------------------------------------------\n",
      "|\"FUEL\"      |\"TRANSMISSION\"  |\"ABOUT\"                                             |\"COST\"       |\n",
      "--------------------------------------------------------------------------------------------------\n",
      "|\"diesel\"    |\"automatic\"     |\"In minim irure ipsum exercitation elit ea ea v...  |\"$8,267.32\"  |\n",
      "|\"petrol\"    |\"manual\"        |\"Adipisicing aliquip eu qui anim. Eu pariatur l...  |\"$5,677.19\"  |\n",
      "|\"petrol\"    |\"manual\"        |\"Amet adipisicing est dolore nulla labore conse...  |\"$5,960.22\"  |\n",
      "|\"diesel\"    |\"automatic\"     |\"Aute exercitation deserunt ea consequat qui vo...  |\"$6,635.44\"  |\n",
      "|\"Electric\"  |\"manual\"        |\"Ullamco tempor ipsum officia excepteur culpa s...  |\"$9,387.00\"  |\n",
      "--------------------------------------------------------------------------------------------------\n",
      "\n"
     ]
    }
   ],
   "source": [
    "df_json = session.read.json(\"@azure_stage/jsonfiles/\")\n",
    "df_json.select(sql_expr(\"$1[0]:Fuel\").alias(\"Fuel\")\\\n",
    "              ,sql_expr(\"$1[0]:Transmission\").alias(\"Transmission\")\\\n",
    "              ,sql_expr(\"$1[0]:about\").alias(\"about\")\\\n",
    "              ,sql_expr(\"$1[0]:cost\").alias(\"Cost\")).show()"
   ]
  },
  {
   "cell_type": "markdown",
   "metadata": {
    "application/vnd.databricks.v1+cell": {
     "inputWidgets": {},
     "nuid": "de34fc3b-ec05-4443-9eb0-4d21ac7475f2",
     "showTitle": false,
     "title": ""
    }
   },
   "source": [
    "### Writing to Table"
   ]
  },
  {
   "cell_type": "code",
   "execution_count": 27,
   "metadata": {
    "application/vnd.databricks.v1+cell": {
     "inputWidgets": {},
     "nuid": "7c2b092b-c1ad-4173-973c-f2dacf7384c3",
     "showTitle": false,
     "title": ""
    }
   },
   "outputs": [],
   "source": [
    "df_cust.write.mode(\"append\").saveAsTable(\"NewCustomers\")"
   ]
  },
  {
   "cell_type": "code",
   "execution_count": 28,
   "metadata": {},
   "outputs": [
    {
     "data": {
      "text/html": [
       "<div>\n",
       "<style scoped>\n",
       "    .dataframe tbody tr th:only-of-type {\n",
       "        vertical-align: middle;\n",
       "    }\n",
       "\n",
       "    .dataframe tbody tr th {\n",
       "        vertical-align: top;\n",
       "    }\n",
       "\n",
       "    .dataframe thead th {\n",
       "        text-align: right;\n",
       "    }\n",
       "</style>\n",
       "<table border=\"1\" class=\"dataframe\">\n",
       "  <thead>\n",
       "    <tr style=\"text-align: right;\">\n",
       "      <th></th>\n",
       "      <th>C_CUSTKEY</th>\n",
       "      <th>C_NAME</th>\n",
       "      <th>C_ADDRESS</th>\n",
       "      <th>C_NATIONKEY</th>\n",
       "      <th>C_PHONE</th>\n",
       "      <th>C_ACCTBAL</th>\n",
       "      <th>C_MKTSEGMENT</th>\n",
       "      <th>C_COMMENT</th>\n",
       "    </tr>\n",
       "  </thead>\n",
       "  <tbody>\n",
       "    <tr>\n",
       "      <th>0</th>\n",
       "      <td>22643</td>\n",
       "      <td>Customer#000022643</td>\n",
       "      <td>6q1mH2NDbbSZD2tOliowe3pT9</td>\n",
       "      <td>0</td>\n",
       "      <td>10-745-420-1529</td>\n",
       "      <td>1055.58</td>\n",
       "      <td>FURNITURE</td>\n",
       "      <td>lyly quickly regular packages.</td>\n",
       "    </tr>\n",
       "    <tr>\n",
       "      <th>1</th>\n",
       "      <td>896</td>\n",
       "      <td>Customer#000000896</td>\n",
       "      <td>gPb5nP15yi7urmO</td>\n",
       "      <td>0</td>\n",
       "      <td>10-425-565-3199</td>\n",
       "      <td>7659.72</td>\n",
       "      <td>AUTOMOBILE</td>\n",
       "      <td>affix carefully unusual requests. furiously fin</td>\n",
       "    </tr>\n",
       "    <tr>\n",
       "      <th>2</th>\n",
       "      <td>6495</td>\n",
       "      <td>Customer#000006495</td>\n",
       "      <td>WlTJB854exrQqhPqI2uaJlupnKfoJyB</td>\n",
       "      <td>0</td>\n",
       "      <td>10-465-937-3117</td>\n",
       "      <td>6679.86</td>\n",
       "      <td>AUTOMOBILE</td>\n",
       "      <td>deposits. theodolites hang blithely after the ...</td>\n",
       "    </tr>\n",
       "    <tr>\n",
       "      <th>3</th>\n",
       "      <td>11029</td>\n",
       "      <td>Customer#000011029</td>\n",
       "      <td>O,I97tQae9jyp,C1SVaVFr5C913w3SYAQkTsB1</td>\n",
       "      <td>0</td>\n",
       "      <td>10-796-436-4320</td>\n",
       "      <td>-663.86</td>\n",
       "      <td>FURNITURE</td>\n",
       "      <td>carefully according to the blithely even depos...</td>\n",
       "    </tr>\n",
       "    <tr>\n",
       "      <th>4</th>\n",
       "      <td>18365</td>\n",
       "      <td>Customer#000018365</td>\n",
       "      <td>yFRP1S3n,uOsQ0hHPrkNtKBmkQbPnX 0c9i</td>\n",
       "      <td>0</td>\n",
       "      <td>10-836-214-8530</td>\n",
       "      <td>1939.80</td>\n",
       "      <td>BUILDING</td>\n",
       "      <td>kly. quickly even deposits cajole blithely aft...</td>\n",
       "    </tr>\n",
       "  </tbody>\n",
       "</table>\n",
       "</div>"
      ],
      "text/plain": [
       "   C_CUSTKEY              C_NAME                               C_ADDRESS  \\\n",
       "0      22643  Customer#000022643               6q1mH2NDbbSZD2tOliowe3pT9   \n",
       "1        896  Customer#000000896                         gPb5nP15yi7urmO   \n",
       "2       6495  Customer#000006495         WlTJB854exrQqhPqI2uaJlupnKfoJyB   \n",
       "3      11029  Customer#000011029  O,I97tQae9jyp,C1SVaVFr5C913w3SYAQkTsB1   \n",
       "4      18365  Customer#000018365     yFRP1S3n,uOsQ0hHPrkNtKBmkQbPnX 0c9i   \n",
       "\n",
       "   C_NATIONKEY          C_PHONE  C_ACCTBAL C_MKTSEGMENT  \\\n",
       "0            0  10-745-420-1529    1055.58    FURNITURE   \n",
       "1            0  10-425-565-3199    7659.72   AUTOMOBILE   \n",
       "2            0  10-465-937-3117    6679.86   AUTOMOBILE   \n",
       "3            0  10-796-436-4320    -663.86    FURNITURE   \n",
       "4            0  10-836-214-8530    1939.80     BUILDING   \n",
       "\n",
       "                                           C_COMMENT  \n",
       "0                     lyly quickly regular packages.  \n",
       "1    affix carefully unusual requests. furiously fin  \n",
       "2  deposits. theodolites hang blithely after the ...  \n",
       "3  carefully according to the blithely even depos...  \n",
       "4  kly. quickly even deposits cajole blithely aft...  "
      ]
     },
     "execution_count": 28,
     "metadata": {},
     "output_type": "execute_result"
    }
   ],
   "source": [
    "session.table('NewCustomers').limit(5).toPandas()"
   ]
  },
  {
   "cell_type": "code",
   "execution_count": 29,
   "metadata": {},
   "outputs": [
    {
     "data": {
      "text/html": [
       "<div>\n",
       "<style scoped>\n",
       "    .dataframe tbody tr th:only-of-type {\n",
       "        vertical-align: middle;\n",
       "    }\n",
       "\n",
       "    .dataframe tbody tr th {\n",
       "        vertical-align: top;\n",
       "    }\n",
       "\n",
       "    .dataframe thead th {\n",
       "        text-align: right;\n",
       "    }\n",
       "</style>\n",
       "<table border=\"1\" class=\"dataframe\">\n",
       "  <thead>\n",
       "    <tr style=\"text-align: right;\">\n",
       "      <th></th>\n",
       "      <th>C_CUSTKEY</th>\n",
       "      <th>C_NAME</th>\n",
       "      <th>C_PHONE</th>\n",
       "      <th>C_ACCTBAL</th>\n",
       "      <th>C_MKTSEGMENT</th>\n",
       "    </tr>\n",
       "  </thead>\n",
       "  <tbody>\n",
       "    <tr>\n",
       "      <th>0</th>\n",
       "      <td>22643</td>\n",
       "      <td>Customer#000022643</td>\n",
       "      <td>10-745-420-1529</td>\n",
       "      <td>1055.58</td>\n",
       "      <td>FURNITURE</td>\n",
       "    </tr>\n",
       "    <tr>\n",
       "      <th>1</th>\n",
       "      <td>896</td>\n",
       "      <td>Customer#000000896</td>\n",
       "      <td>10-425-565-3199</td>\n",
       "      <td>7659.72</td>\n",
       "      <td>AUTOMOBILE</td>\n",
       "    </tr>\n",
       "    <tr>\n",
       "      <th>2</th>\n",
       "      <td>6495</td>\n",
       "      <td>Customer#000006495</td>\n",
       "      <td>10-465-937-3117</td>\n",
       "      <td>6679.86</td>\n",
       "      <td>AUTOMOBILE</td>\n",
       "    </tr>\n",
       "    <tr>\n",
       "      <th>3</th>\n",
       "      <td>11029</td>\n",
       "      <td>Customer#000011029</td>\n",
       "      <td>10-796-436-4320</td>\n",
       "      <td>-663.86</td>\n",
       "      <td>FURNITURE</td>\n",
       "    </tr>\n",
       "  </tbody>\n",
       "</table>\n",
       "</div>"
      ],
      "text/plain": [
       "   C_CUSTKEY              C_NAME          C_PHONE  C_ACCTBAL C_MKTSEGMENT\n",
       "0      22643  Customer#000022643  10-745-420-1529    1055.58    FURNITURE\n",
       "1        896  Customer#000000896  10-425-565-3199    7659.72   AUTOMOBILE\n",
       "2       6495  Customer#000006495  10-465-937-3117    6679.86   AUTOMOBILE\n",
       "3      11029  Customer#000011029  10-796-436-4320    -663.86    FURNITURE"
      ]
     },
     "execution_count": 29,
     "metadata": {},
     "output_type": "execute_result"
    }
   ],
   "source": [
    "session.sql('''\n",
    "select C_CUSTKEY ,C_NAME, C_PHONE , C_ACCTBAL, C_MKTSEGMENT from NewCustomers''').limit(4).toPandas()"
   ]
  },
  {
   "cell_type": "code",
   "execution_count": 30,
   "metadata": {
    "application/vnd.databricks.v1+cell": {
     "inputWidgets": {},
     "nuid": "bc5d73cc-4978-48d2-aa8a-0196a02fc0b7",
     "showTitle": false,
     "title": ""
    }
   },
   "outputs": [
    {
     "data": {
      "text/plain": [
       "[Row(status='Stage area SPROCSTAGE successfully created.')]"
      ]
     },
     "execution_count": 30,
     "metadata": {},
     "output_type": "execute_result"
    }
   ],
   "source": [
    "session.sql(\"create or replace stage sprocstage\").collect()"
   ]
  },
  {
   "cell_type": "code",
   "execution_count": 64,
   "metadata": {},
   "outputs": [],
   "source": [
    "# session.table(\"taxi_trips_mat_view\").limit(10).show()"
   ]
  },
  {
   "cell_type": "markdown",
   "metadata": {
    "application/vnd.databricks.v1+cell": {
     "inputWidgets": {},
     "nuid": "f3e70b36-afdc-48a1-b6cc-72b9ccf87d09",
     "showTitle": false,
     "title": ""
    }
   },
   "source": [
    "## Creating Python Stored Procedures"
   ]
  },
  {
   "cell_type": "code",
   "execution_count": 31,
   "metadata": {},
   "outputs": [],
   "source": [
    "import snowflake.snowpark as snowpark\n",
    "from snowflake.snowpark.functions import *\n",
    "from snowflake.snowpark.types import StringType, StructType, StructField, IntegerType,DoubleType,FloatType\n",
    "\n",
    "# @sproc(packages=[\"snowflake-snowpark-python\", \"pandas\"])\n",
    "@sproc(name=\"usp_loadVehicleTranmissionDate\",return_type=StringType(), is_permanent=True, stage_location=\"@sprocstage\", replace=True, packages=[\"snowflake-snowpark-python\"]) \n",
    "def main(session:Session):\n",
    "    \n",
    "    df1=session.table(\"taxi_trips_mat_view\")\n",
    "    df1.createOrReplaceView(\"tax_raw_data\")\n",
    "    \n",
    "    @udf(name=\"udf_DoubleCost\",return_type=FloatType(),is_permanent=True,stage_location=\"@pythonudfstage\",replace=True)\n",
    "    def DoubleCost(col1:float,col2:float)->float:\n",
    "        return col1*col2\n",
    "      \n",
    "    df1.select(\"TAXI_TYPE\",\"total_amount\",\"PICKUP_BOROUGH\") \\\n",
    "       .groupBy('PICKUP_BOROUGH','TAXI_TYPE') \\\n",
    "       .agg([sum(col('total_amount')).alias(\"TotalAmount\"),avg(col('total_amount')).alias(\"AvgAmount\")])\\\n",
    "       .write.mode(\"overwrite\").saveAsTable(\"TotalAmount_TaxiType_Borough\")\n",
    "    \n",
    "    df_json = session.read.json(\"@azure_stage/jsonfiles/\")\n",
    "    df_json.select(sql_expr(\"$1[0]:Fuel::VARCHAR\").alias(\"Fuel\")\\\n",
    "              ,sql_expr(\"$1[0]:Transmission::VARCHAR\").alias(\"Transmission\")\\\n",
    "              ,sql_expr(\"$1[0]:about::VARCHAR\").alias(\"about\")\\\n",
    "              ,sql_expr(\"cast(replace(replace($1[0]:cost,'$',''),',','') as float)\").alias(\"Cost\")\\\n",
    "              ,call_builtin('udf_DoubleCost', sql_expr(\"cast(replace(replace($1[0]:cost,'$',''),',','') as float)\"), \n",
    "                            sql_expr(\"cast(replace(replace($1[0]:cost,'$',''),',','') as float)\")).alias('DoubleCost')  \\\n",
    "                  )\\\n",
    "    .write.mode(\"overwrite\").saveAsTable(\"Vehicle_Transmission_Data\")\n",
    "    \n",
    "    return 'Done!!'"
   ]
  },
  {
   "cell_type": "code",
   "execution_count": 32,
   "metadata": {},
   "outputs": [
    {
     "data": {
      "text/plain": [
       "'Done!!'"
      ]
     },
     "execution_count": 32,
     "metadata": {},
     "output_type": "execute_result"
    }
   ],
   "source": [
    "session.call('usp_loadVehicleTranmissionDate')"
   ]
  },
  {
   "cell_type": "code",
   "execution_count": 33,
   "metadata": {},
   "outputs": [
    {
     "name": "stdout",
     "output_type": "stream",
     "text": [
      "-----------------------------------------------------------------------------------------------------------------\n",
      "|\"FUEL\"    |\"TRANSMISSION\"  |\"ABOUT\"                                             |\"COST\"   |\"DOUBLECOST\"        |\n",
      "-----------------------------------------------------------------------------------------------------------------\n",
      "|diesel    |automatic       |In minim irure ipsum exercitation elit ea ea vo...  |8267.32  |68348579.9824       |\n",
      "|          |                |                                                    |         |                    |\n",
      "|petrol    |manual          |Amet adipisicing est dolore nulla labore conseq...  |5960.22  |35524222.448400006  |\n",
      "|          |                |                                                    |         |                    |\n",
      "|petrol    |manual          |Adipisicing aliquip eu qui anim. Eu pariatur la...  |5677.19  |32230486.296099994  |\n",
      "|          |                |                                                    |         |                    |\n",
      "|diesel    |automatic       |Aute exercitation deserunt ea consequat qui vol...  |6635.44  |44029063.993599996  |\n",
      "|          |                |                                                    |         |                    |\n",
      "|Electric  |manual          |Ullamco tempor ipsum officia excepteur culpa su...  |9387.0   |88115769.0          |\n",
      "|          |                |                                                    |         |                    |\n",
      "-----------------------------------------------------------------------------------------------------------------\n",
      "\n"
     ]
    }
   ],
   "source": [
    "session.table('Vehicle_Transmission_Data').limit(10).show()"
   ]
  },
  {
   "cell_type": "code",
   "execution_count": 34,
   "metadata": {},
   "outputs": [
    {
     "name": "stdout",
     "output_type": "stream",
     "text": [
      "---------------------------------\n",
      "|\"FUEL\"    |\"DOUBLECOST\"        |\n",
      "---------------------------------\n",
      "|diesel    |68348579.9824       |\n",
      "|petrol    |32230486.296099994  |\n",
      "|petrol    |35524222.448400006  |\n",
      "|diesel    |44029063.993599996  |\n",
      "|Electric  |88115769.0          |\n",
      "---------------------------------\n",
      "\n"
     ]
    }
   ],
   "source": [
    "session.sql('select FUEL, DOUBLECOST from Vehicle_Transmission_Data').limit(10).show()"
   ]
  },
  {
   "cell_type": "code",
   "execution_count": null,
   "metadata": {},
   "outputs": [],
   "source": []
  }
 ],
 "metadata": {
  "application/vnd.databricks.v1+notebook": {
   "dashboards": [],
   "language": "python",
   "notebookMetadata": {
    "pythonIndentUnit": 4
   },
   "notebookName": "ETL_SnowparkPython-Part1",
   "notebookOrigID": 1897020054953288,
   "widgets": {}
  },
  "kernelspec": {
   "display_name": "Python 3 (ipykernel)",
   "language": "python",
   "name": "python3"
  },
  "language_info": {
   "codemirror_mode": {
    "name": "ipython",
    "version": 3
   },
   "file_extension": ".py",
   "mimetype": "text/x-python",
   "name": "python",
   "nbconvert_exporter": "python",
   "pygments_lexer": "ipython3",
   "version": "3.8.13"
  }
 },
 "nbformat": 4,
 "nbformat_minor": 4
}
