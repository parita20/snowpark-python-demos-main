{
 "cells": [
  {
   "cell_type": "markdown",
   "id": "92f0df67-d97c-4af5-b390-b22a58fae681",
   "metadata": {},
   "source": [
    "# perprocessing examples\n",
    "\n",
    "\n",
    "This notebook demostrates how to use the **preprocessing** module of **sp4py_utilities**\n",
    "\n",
    "The purpose of the **preprocessing** module is to provide similar preprocessing functionality using Snowpark DataFrames as the [sklearn.preprocessing](https://scikit-learn.org/stable/modules/classes.html#module-sklearn.preprocessing) module. Having seperated **fit** and **transform** methods enables the possibility to use a fitted scaler/encoder in another pipleine by saving it as a file object. If you want to use a fitted scaler/encoder with Snowflake without using Snowpark DataFrames you can use the functions in the module **udf_transform** for that, see the **udf_transform_demo** notebook for details.\n",
    "\n",
    "Currently the following scalers and encoders are implemented:\n",
    "* MinMaxScaler: Transform each column by scaling each feature to a given range.\n",
    "* StandardScaler: Standardize features by removing the mean and scaling to unit variance.\n",
    "* MaxAbsScaler: Scale each column by its maximum absolute value.\n",
    "* RobustScaler: Scale features using statistics that are robust to outliers.\n",
    "* Normalizer: Normalize individually to unit norm.\n",
    "* Binarizer: Binarize data (set feature values to 0 or 1) according to a threshold.\n",
    "* OneHotEncoder: Encode categorical features as a one-hot.\n",
    "* OrdinalEncoder: Encodes a string column of labels to a column of label indices. The indices are in [0, number of labels].\n",
    "* LabelEncoder: A label indexer that maps a string column of labels to a column of label indices.\n",
    "\n",
    "This notebook has the following sections\n",
    "* Scalers - examples of how to use those\n",
    "* Encoders - examples of how to use those\n",
    "* Using the scalers/encoders in a Python Stored Procedure"
   ]
  },
  {
   "cell_type": "code",
   "execution_count": 24,
   "id": "2f651f02-383b-443a-8981-d98e175e27c5",
   "metadata": {},
   "outputs": [
    {
     "data": {
      "text/html": [
       "<style>pre { white-space: pre !important; }</style>"
      ],
      "text/plain": [
       "<IPython.core.display.HTML object>"
      ]
     },
     "metadata": {},
     "output_type": "display_data"
    },
    {
     "data": {
      "text/plain": [
       "'0.8.0'"
      ]
     },
     "execution_count": 24,
     "metadata": {},
     "output_type": "execute_result"
    }
   ],
   "source": [
    "# Snowpark\n",
    "import io\n",
    "import json\n",
    "\n",
    "import joblib\n",
    "import snowflake.snowpark.functions as F\n",
    "# Make sure we do not get line breaks when doing show on wide dataframes\n",
    "from IPython.core.display import HTML\n",
    "from snowflake.snowpark import Session\n",
    "\n",
    "display(HTML(\"<style>pre { white-space: pre !important; }</style>\"))\n",
    "\n",
    "# Print the version of Snowpark we are using\n",
    "from importlib.metadata import version\n",
    "\n",
    "version('snowflake_snowpark_python')"
   ]
  },
  {
   "cell_type": "code",
   "execution_count": 2,
   "id": "7411a74b-c644-4fbb-bd80-690b62d2334f",
   "metadata": {},
   "outputs": [],
   "source": [
    "# The preprosessing module\n",
    "import sp4py_preprocessing as pp"
   ]
  },
  {
   "cell_type": "markdown",
   "id": "00cf0f87-c3ee-465e-ac6a-c702cf921a28",
   "metadata": {},
   "source": [
    "Connect to Snowflake"
   ]
  },
  {
   "cell_type": "code",
   "execution_count": 3,
   "id": "21ba338b-c819-42f0-a8be-d06c14ef44d8",
   "metadata": {},
   "outputs": [
    {
     "name": "stdout",
     "output_type": "stream",
     "text": [
      "Current role: \"SYSADMIN\", Current schema: \"DEMO_DB\".\"PUBLIC\", Current WH: \"COMPUTE_WH\"\n"
     ]
    }
   ],
   "source": [
    "with open('creds.json') as f:\n",
    "    connection_parameters = json.load(f)\n",
    "    \n",
    "session = Session.builder.configs(connection_parameters).create()\n",
    "print(\"Current role: \" + session.get_current_role() + \", Current schema: \" + session.get_fully_qualified_current_schema() + \", Current WH: \" + session.get_current_warehouse())"
   ]
  },
  {
   "cell_type": "markdown",
   "id": "29459ca7-d969-4a16-9d4a-e8a1ebe196a1",
   "metadata": {},
   "source": [
    "Start by creating a dataset that can be used for both scaling and encoding.\n",
    "\n",
    "By caching the result into a new dataframe we avoid running teh generation SQL every time the data frame is used."
   ]
  },
  {
   "cell_type": "code",
   "execution_count": 4,
   "id": "380c2e5b-2bb2-4435-bacd-c50781db8aae",
   "metadata": {},
   "outputs": [],
   "source": [
    "state = '[\"AK\", \"AL\", \"AR\", \"AZ\", \"CA\", \"CO\", \"CT\", \"DC\", \"DE\", \"FL\", \"GA\", \"HI\", \"IA\", \"ID\", \"IL\", \"IN\", \"KS\", \"KY\", \"LA\", \"MA\", \"MD\", \"ME\", \"MI\", \"MN\", \"MO\", \"MS\", \"MT\", \"NC\", \"ND\", \"NE\", \"NH\", \"NJ\", \"NM\", \"NV\", \"NY\", \"OH\", \"OK\", \"OR\", \"PA\", \"RI\", \"SC\", \"SD\", \"TN\", \"TX\", \"UT\", \"VA\", \"VT\", \"WA\", \"WI\", \"WV\", \"WY\"]'\n",
    "area_code = '[408, 415, 510]'\n",
    "intl_plan =  '[\"no\", \"yes\"]'\n",
    "\n",
    "df_gen_data = session.range(1000).with_columns([\"STATES\", \"AREA_CODES\", \"INTL_PLANS\"], \n",
    "                                         [F.parse_json(F.lit(state)), F.parse_json(F.lit(area_code)), F.parse_json(F.lit(intl_plan))])\\\n",
    "                            .select(F.col(\"ID\").as_(\"CUST_ID\"), F.as_varchar(F.get(F.col(\"STATES\"), (F.uniform(F.lit(1), F.lit(51), F.random()) -1))).as_(\"STATE\"),\\\n",
    "                                    F.get(F.col(\"AREA_CODES\"), (F.uniform(F.lit(1), F.lit(3), F.random())) -1).as_(\"AREA_CODE\"),\\\n",
    "                                    F.as_varchar(F.get(F.col(\"INTL_PLANS\"), (F.call_builtin(\"zipf\", F.lit(1), F.lit(2), F.random()))-1)).as_(\"INTL_PLAN\"),\\\n",
    "                                    F.uniform(0, 100, F.random()).as_(\"CALLS\"), F.uniform(0, 100, F.random()).as_(\"MINS\"),F.uniform(0, 100, F.random()).as_(\"DATA\"),\\\n",
    "                                    F.uniform(0.5, 10.9, F.random()).as_(\"DAY_CHARGE\"),F.uniform(5.5, 15.1, F.random()).as_(\"INTL_CHARGE\"))\n",
    "\n",
    "df_test = df_gen_data.cache_result()"
   ]
  },
  {
   "cell_type": "code",
   "execution_count": 5,
   "id": "b29e982e-12a3-4925-97de-2a6e89fbafa5",
   "metadata": {},
   "outputs": [
    {
     "name": "stdout",
     "output_type": "stream",
     "text": [
      "--------------------------------------------------------------------------------------------------------------\n",
      "|\"CUST_ID\"  |\"STATE\"  |\"AREA_CODE\"  |\"INTL_PLAN\"  |\"CALLS\"  |\"MINS\"  |\"DATA\"  |\"DAY_CHARGE\"  |\"INTL_CHARGE\"  |\n",
      "--------------------------------------------------------------------------------------------------------------\n",
      "|0          |ND       |510          |no           |21       |31      |26      |8.8           |11.5           |\n",
      "|1          |KY       |510          |no           |64       |0       |39      |7.7           |12.2           |\n",
      "|2          |CA       |408          |no           |78       |22      |75      |4.4           |7.6            |\n",
      "|3          |NC       |415          |no           |4        |95      |13      |10.4          |8.4            |\n",
      "|4          |MN       |510          |no           |99       |33      |51      |7.4           |9.2            |\n",
      "|5          |PA       |415          |no           |3        |76      |93      |9.4           |10.9           |\n",
      "|6          |WI       |510          |no           |56       |23      |46      |2.0           |8.3            |\n",
      "|7          |ID       |408          |no           |20       |30      |90      |4.4           |13.7           |\n",
      "|8          |IA       |510          |no           |71       |60      |31      |9.9           |12.8           |\n",
      "|9          |WY       |415          |yes          |14       |69      |53      |3.3           |12.1           |\n",
      "--------------------------------------------------------------------------------------------------------------\n",
      "\n"
     ]
    }
   ],
   "source": [
    "df_test.show()"
   ]
  },
  {
   "cell_type": "markdown",
   "id": "b7596182-e483-4284-b1ea-8b2892dbc725",
   "metadata": {},
   "source": [
    "## Scalers\n",
    "Since we are going to test diffrent scalers we can set variables for our input columns, ie what columns to scale, and output columns, ie name of the scaled columns\n",
    "\n",
    "If we do not provide input columns then all numeric columns in a Snowpark DataFrame will be used and if we do not provide output columns the scaled columns will replace the input columns."
   ]
  },
  {
   "cell_type": "code",
   "execution_count": 6,
   "id": "a74f38b9-d79c-4893-859a-32c9ff2f77eb",
   "metadata": {},
   "outputs": [],
   "source": [
    "scaler_input_cols=[\"CALLS\", \"DAY_CHARGE\"]\n",
    "scaler_output_cols = [\"calls_scaled\", \"day_charge_scaled\"]"
   ]
  },
  {
   "cell_type": "markdown",
   "id": "c42ca833-98ac-4737-97b8-a13e8235ff92",
   "metadata": {},
   "source": [
    "### MinMaxScaler\n",
    "\n",
    "The MinMaxScaler will transform each column by scaling each feature to a given range, default 0-1.\n",
    "\n",
    "After fitting it with a DataFrame (need have the **input_cols** parameter)  we can for example see the what values where fitted by the **fitted_values_** attribute"
   ]
  },
  {
   "cell_type": "code",
   "execution_count": 7,
   "id": "ba42233b-0a4b-445a-bd28-59d0a45fdda6",
   "metadata": {},
   "outputs": [
    {
     "data": {
      "text/plain": [
       "{'CALLS': {'max': 100, 'min': 0, 'min_': 0, 'range': 100, 'scale': 0.01},\n",
       " 'DAY_CHARGE': {'max': 10.9,\n",
       "  'min': 0.5,\n",
       "  'min_': -0.048077,\n",
       "  'range': 10.4,\n",
       "  'scale': 0.096154}}"
      ]
     },
     "execution_count": 7,
     "metadata": {},
     "output_type": "execute_result"
    }
   ],
   "source": [
    "mms = pp.MinMaxScaler(input_cols=scaler_input_cols, output_cols=scaler_output_cols)\n",
    "mms.fit(df_test)\n",
    "mms.fitted_values_"
   ]
  },
  {
   "cell_type": "markdown",
   "id": "45a7eb88-c9c2-4677-8fca-0a709def0abd",
   "metadata": {},
   "source": [
    "Scale a DataFrame, since we have set **input_cols** and **input_cols** the returning DataFrame will have new columns for the scaled values"
   ]
  },
  {
   "cell_type": "code",
   "execution_count": 8,
   "id": "70efb60e-2bb1-4358-8584-868e2ddaf9af",
   "metadata": {},
   "outputs": [
    {
     "name": "stdout",
     "output_type": "stream",
     "text": [
      "-----------------------------------------------------------------------------------------------------------------------------------------------------\n",
      "|\"CUST_ID\"  |\"STATE\"  |\"AREA_CODE\"  |\"INTL_PLAN\"  |\"CALLS\"  |\"MINS\"  |\"DATA\"  |\"DAY_CHARGE\"  |\"INTL_CHARGE\"  |\"CALLS_SCALED\"  |\"DAY_CHARGE_SCALED\"  |\n",
      "-----------------------------------------------------------------------------------------------------------------------------------------------------\n",
      "|0          |ND       |510          |no           |21       |31      |26      |8.8           |11.5           |0.21            |0.7980782000000001   |\n",
      "|1          |KY       |510          |no           |64       |0       |39      |7.7           |12.2           |0.64            |0.6923088000000001   |\n",
      "|2          |CA       |408          |no           |78       |22      |75      |4.4           |7.6            |0.78            |0.3750006000000001   |\n",
      "|3          |NC       |415          |no           |4        |95      |13      |10.4          |8.4            |0.04            |0.9519246            |\n",
      "|4          |MN       |510          |no           |99       |33      |51      |7.4           |9.2            |0.99            |0.6634626            |\n",
      "|5          |PA       |415          |no           |3        |76      |93      |9.4           |10.9           |0.03            |0.8557706            |\n",
      "|6          |WI       |510          |no           |56       |23      |46      |2.0           |8.3            |0.56            |0.144231             |\n",
      "|7          |ID       |408          |no           |20       |30      |90      |4.4           |13.7           |0.2             |0.3750006000000001   |\n",
      "|8          |IA       |510          |no           |71       |60      |31      |9.9           |12.8           |0.71            |0.9038476000000001   |\n",
      "|9          |WY       |415          |yes          |14       |69      |53      |3.3           |12.1           |0.14            |0.2692312            |\n",
      "-----------------------------------------------------------------------------------------------------------------------------------------------------\n",
      "\n"
     ]
    }
   ],
   "source": [
    "mms_tr_df = mms.transform(df_test)\n",
    "mms_tr_df.show()"
   ]
  },
  {
   "cell_type": "markdown",
   "id": "028f8834-28ca-4dd7-aacc-1a1c1ed4a058",
   "metadata": {},
   "source": [
    "We can reverse the scaling by using the **inverse_transform** method. The reversed values will be in the output columns."
   ]
  },
  {
   "cell_type": "code",
   "execution_count": 9,
   "id": "af1d0f2e-0ff6-4aec-b952-93a94c12b540",
   "metadata": {},
   "outputs": [
    {
     "name": "stdout",
     "output_type": "stream",
     "text": [
      "---------------------------------------------------------------------------------------------------------------------------------------------------------\n",
      "|\"CUST_ID\"  |\"STATE\"  |\"AREA_CODE\"  |\"INTL_PLAN\"  |\"CALLS\"  |\"MINS\"  |\"DATA\"  |\"DAY_CHARGE\"  |\"INTL_CHARGE\"  |\"CALLS_SCALED\"      |\"DAY_CHARGE_SCALED\"  |\n",
      "---------------------------------------------------------------------------------------------------------------------------------------------------------\n",
      "|0          |ND       |510          |no           |21       |31      |26      |8.8           |11.5           |21.0                |8.8                  |\n",
      "|1          |KY       |510          |no           |64       |0       |39      |7.7           |12.2           |64.0                |7.700000000000001    |\n",
      "|2          |CA       |408          |no           |78       |22      |75      |4.4           |7.6            |78.0                |4.4                  |\n",
      "|3          |NC       |415          |no           |4        |95      |13      |10.4          |8.4            |4.0                 |10.4                 |\n",
      "|4          |MN       |510          |no           |99       |33      |51      |7.4           |9.2            |99.0                |7.4                  |\n",
      "|5          |PA       |415          |no           |3        |76      |93      |9.4           |10.9           |3.0                 |9.4                  |\n",
      "|6          |WI       |510          |no           |56       |23      |46      |2.0           |8.3            |56.00000000000001   |2.0                  |\n",
      "|7          |ID       |408          |no           |20       |30      |90      |4.4           |13.7           |20.0                |4.4                  |\n",
      "|8          |IA       |510          |no           |71       |60      |31      |9.9           |12.8           |71.0                |9.9                  |\n",
      "|9          |WY       |415          |yes          |14       |69      |53      |3.3           |12.1           |14.000000000000002  |3.3                  |\n",
      "---------------------------------------------------------------------------------------------------------------------------------------------------------\n",
      "\n"
     ]
    }
   ],
   "source": [
    "mms.inverse_transform(mms_tr_df).show()"
   ]
  },
  {
   "cell_type": "markdown",
   "id": "e5324776-fbc0-4c2c-b0bb-4c6b286cbd57",
   "metadata": {},
   "source": [
    "We can fit and transform in one go with **fit_transform**"
   ]
  },
  {
   "cell_type": "code",
   "execution_count": 10,
   "id": "27a903cd-630e-4602-878c-bc78f083d266",
   "metadata": {},
   "outputs": [
    {
     "name": "stdout",
     "output_type": "stream",
     "text": [
      "-----------------------------------------------------------------------------------------------------------------------------------------------------\n",
      "|\"CUST_ID\"  |\"STATE\"  |\"AREA_CODE\"  |\"INTL_PLAN\"  |\"CALLS\"  |\"MINS\"  |\"DATA\"  |\"DAY_CHARGE\"  |\"INTL_CHARGE\"  |\"CALLS_SCALED\"  |\"DAY_CHARGE_SCALED\"  |\n",
      "-----------------------------------------------------------------------------------------------------------------------------------------------------\n",
      "|0          |ND       |510          |no           |21       |31      |26      |8.8           |11.5           |0.21            |0.7980782000000001   |\n",
      "|1          |KY       |510          |no           |64       |0       |39      |7.7           |12.2           |0.64            |0.6923088000000001   |\n",
      "|2          |CA       |408          |no           |78       |22      |75      |4.4           |7.6            |0.78            |0.3750006000000001   |\n",
      "|3          |NC       |415          |no           |4        |95      |13      |10.4          |8.4            |0.04            |0.9519246            |\n",
      "|4          |MN       |510          |no           |99       |33      |51      |7.4           |9.2            |0.99            |0.6634626            |\n",
      "|5          |PA       |415          |no           |3        |76      |93      |9.4           |10.9           |0.03            |0.8557706            |\n",
      "|6          |WI       |510          |no           |56       |23      |46      |2.0           |8.3            |0.56            |0.144231             |\n",
      "|7          |ID       |408          |no           |20       |30      |90      |4.4           |13.7           |0.2             |0.3750006000000001   |\n",
      "|8          |IA       |510          |no           |71       |60      |31      |9.9           |12.8           |0.71            |0.9038476000000001   |\n",
      "|9          |WY       |415          |yes          |14       |69      |53      |3.3           |12.1           |0.14            |0.2692312            |\n",
      "-----------------------------------------------------------------------------------------------------------------------------------------------------\n",
      "\n"
     ]
    }
   ],
   "source": [
    "mms.fit_transform(df_test).show()"
   ]
  },
  {
   "cell_type": "markdown",
   "id": "41ea0942-3311-4c95-8739-6c1932131423",
   "metadata": {},
   "source": [
    "If we want to save the fitted scaler so it can be used in another Python script etc we can do that with pickle or joblib."
   ]
  },
  {
   "cell_type": "code",
   "execution_count": 11,
   "id": "c11d7d83-6b00-4dc3-8480-8687d1d865e3",
   "metadata": {},
   "outputs": [
    {
     "data": {
      "text/plain": [
       "['my_min_max_scaler.joblib']"
      ]
     },
     "execution_count": 11,
     "metadata": {},
     "output_type": "execute_result"
    }
   ],
   "source": [
    "joblib.dump(mms, 'my_min_max_scaler.joblib') "
   ]
  },
  {
   "cell_type": "markdown",
   "id": "90acea31-6ef1-460a-9f76-2979d2f8535b",
   "metadata": {},
   "source": [
    "We can the load it into a new variable and use it"
   ]
  },
  {
   "cell_type": "code",
   "execution_count": 12,
   "id": "b029328a-c47c-4972-9f81-c184e15ca35e",
   "metadata": {},
   "outputs": [
    {
     "name": "stdout",
     "output_type": "stream",
     "text": [
      "-----------------------------------------------------------------------------------------------------------------------------------------------------\n",
      "|\"CUST_ID\"  |\"STATE\"  |\"AREA_CODE\"  |\"INTL_PLAN\"  |\"CALLS\"  |\"MINS\"  |\"DATA\"  |\"DAY_CHARGE\"  |\"INTL_CHARGE\"  |\"CALLS_SCALED\"  |\"DAY_CHARGE_SCALED\"  |\n",
      "-----------------------------------------------------------------------------------------------------------------------------------------------------\n",
      "|0          |ND       |510          |no           |21       |31      |26      |8.8           |11.5           |0.21            |0.7980782000000001   |\n",
      "|1          |KY       |510          |no           |64       |0       |39      |7.7           |12.2           |0.64            |0.6923088000000001   |\n",
      "|2          |CA       |408          |no           |78       |22      |75      |4.4           |7.6            |0.78            |0.3750006000000001   |\n",
      "|3          |NC       |415          |no           |4        |95      |13      |10.4          |8.4            |0.04            |0.9519246            |\n",
      "|4          |MN       |510          |no           |99       |33      |51      |7.4           |9.2            |0.99            |0.6634626            |\n",
      "|5          |PA       |415          |no           |3        |76      |93      |9.4           |10.9           |0.03            |0.8557706            |\n",
      "|6          |WI       |510          |no           |56       |23      |46      |2.0           |8.3            |0.56            |0.144231             |\n",
      "|7          |ID       |408          |no           |20       |30      |90      |4.4           |13.7           |0.2             |0.3750006000000001   |\n",
      "|8          |IA       |510          |no           |71       |60      |31      |9.9           |12.8           |0.71            |0.9038476000000001   |\n",
      "|9          |WY       |415          |yes          |14       |69      |53      |3.3           |12.1           |0.14            |0.2692312            |\n",
      "-----------------------------------------------------------------------------------------------------------------------------------------------------\n",
      "\n"
     ]
    }
   ],
   "source": [
    "loaded_mms = joblib.load('my_min_max_scaler.joblib')\n",
    "loaded_mms.transform(df_test).show()"
   ]
  },
  {
   "cell_type": "markdown",
   "id": "5cafc76d-3fb1-44d1-83ef-2ad684d93920",
   "metadata": {},
   "source": [
    "By default the feature range used is 0-1 but that can be changed with the **feature_range** parameter"
   ]
  },
  {
   "cell_type": "code",
   "execution_count": 35,
   "id": "83282640-c77f-4174-83c8-f3a202087a56",
   "metadata": {},
   "outputs": [
    {
     "ename": "InterfaceError",
     "evalue": "252006: Cursor is closed in execute.",
     "output_type": "error",
     "traceback": [
      "\u001b[0;31m---------------------------------------------------------------------------\u001b[0m",
      "\u001b[0;31mInterfaceError\u001b[0m                            Traceback (most recent call last)",
      "Input \u001b[0;32mIn [35]\u001b[0m, in \u001b[0;36m<module>\u001b[0;34m\u001b[0m\n\u001b[0;32m----> 1\u001b[0m \u001b[43mpp\u001b[49m\u001b[38;5;241;43m.\u001b[39;49m\u001b[43mMinMaxScaler\u001b[49m\u001b[43m(\u001b[49m\u001b[43minput_cols\u001b[49m\u001b[38;5;241;43m=\u001b[39;49m\u001b[43mscaler_input_cols\u001b[49m\u001b[43m,\u001b[49m\u001b[43m \u001b[49m\u001b[43moutput_cols\u001b[49m\u001b[38;5;241;43m=\u001b[39;49m\u001b[43mscaler_output_cols\u001b[49m\u001b[43m,\u001b[49m\u001b[43m \u001b[49m\u001b[43mfeature_range\u001b[49m\u001b[38;5;241;43m=\u001b[39;49m\u001b[43m(\u001b[49m\u001b[38;5;241;43m5\u001b[39;49m\u001b[43m,\u001b[49m\u001b[38;5;241;43m8\u001b[39;49m\u001b[43m)\u001b[49m\u001b[43m)\u001b[49m\u001b[38;5;241;43m.\u001b[39;49m\u001b[43mfit_transform\u001b[49m\u001b[43m(\u001b[49m\u001b[43mdf_test\u001b[49m\u001b[43m)\u001b[49m\u001b[38;5;241m.\u001b[39mshow()\n",
      "File \u001b[0;32m~/PycharmProjects/sp4py_utilities/preprocessing/_scalers.py:140\u001b[0m, in \u001b[0;36mMinMaxScaler.fit_transform\u001b[0;34m(self, df)\u001b[0m\n\u001b[1;32m    133\u001b[0m \u001b[38;5;28;01mdef\u001b[39;00m \u001b[38;5;21mfit_transform\u001b[39m(\u001b[38;5;28mself\u001b[39m, df: DataFrame) \u001b[38;5;241m-\u001b[39m\u001b[38;5;241m>\u001b[39m DataFrame:\n\u001b[1;32m    134\u001b[0m     \u001b[38;5;124;03m\"\"\"\u001b[39;00m\n\u001b[1;32m    135\u001b[0m \u001b[38;5;124;03m    Calculates min and max on input columns for df and then use them for scaling.\u001b[39;00m\n\u001b[1;32m    136\u001b[0m \n\u001b[1;32m    137\u001b[0m \u001b[38;5;124;03m    :param df: Snowpark DataFrame\u001b[39;00m\n\u001b[1;32m    138\u001b[0m \u001b[38;5;124;03m    :return: Snowpark DataFrame with scaled columns\u001b[39;00m\n\u001b[1;32m    139\u001b[0m \u001b[38;5;124;03m    \"\"\"\u001b[39;00m\n\u001b[0;32m--> 140\u001b[0m     \u001b[38;5;28;01mreturn\u001b[39;00m \u001b[38;5;28;43mself\u001b[39;49m\u001b[38;5;241;43m.\u001b[39;49m\u001b[43mfit\u001b[49m\u001b[43m(\u001b[49m\u001b[43mdf\u001b[49m\u001b[43m)\u001b[49m\u001b[38;5;241m.\u001b[39mtransform(df)\n",
      "File \u001b[0;32m~/PycharmProjects/sp4py_utilities/preprocessing/_scalers.py:121\u001b[0m, in \u001b[0;36mMinMaxScaler.fit\u001b[0;34m(self, df)\u001b[0m\n\u001b[1;32m    114\u001b[0m     min_cols_exp\u001b[38;5;241m.\u001b[39mextend([(F\u001b[38;5;241m.\u001b[39mlit(feature_range[\u001b[38;5;241m0\u001b[39m]) \u001b[38;5;241m-\u001b[39m F\u001b[38;5;241m.\u001b[39mcol(\u001b[38;5;124m\"\u001b[39m\u001b[38;5;124mmin_\u001b[39m\u001b[38;5;124m\"\u001b[39m \u001b[38;5;241m+\u001b[39m col) \u001b[38;5;241m*\u001b[39m F\u001b[38;5;241m.\u001b[39mcol(\u001b[38;5;124m\"\u001b[39m\u001b[38;5;124mscale_\u001b[39m\u001b[38;5;124m\"\u001b[39m \u001b[38;5;241m+\u001b[39m col))])\n\u001b[1;32m    115\u001b[0m     obj_const_log\u001b[38;5;241m.\u001b[39mextend([F\u001b[38;5;241m.\u001b[39mlit(col), F\u001b[38;5;241m.\u001b[39mobject_construct(F\u001b[38;5;241m.\u001b[39mlit(\u001b[38;5;124m\"\u001b[39m\u001b[38;5;124mmax\u001b[39m\u001b[38;5;124m\"\u001b[39m), F\u001b[38;5;241m.\u001b[39mcol(\u001b[38;5;124m\"\u001b[39m\u001b[38;5;124mmax_\u001b[39m\u001b[38;5;124m\"\u001b[39m \u001b[38;5;241m+\u001b[39m col),\n\u001b[1;32m    116\u001b[0m                                                          F\u001b[38;5;241m.\u001b[39mlit(\u001b[38;5;124m\"\u001b[39m\u001b[38;5;124mmin\u001b[39m\u001b[38;5;124m\"\u001b[39m), F\u001b[38;5;241m.\u001b[39mcol(\u001b[38;5;124m\"\u001b[39m\u001b[38;5;124mmin_\u001b[39m\u001b[38;5;124m\"\u001b[39m \u001b[38;5;241m+\u001b[39m col),\n\u001b[1;32m    117\u001b[0m                                                          F\u001b[38;5;241m.\u001b[39mlit(\u001b[38;5;124m\"\u001b[39m\u001b[38;5;124mrange\u001b[39m\u001b[38;5;124m\"\u001b[39m), F\u001b[38;5;241m.\u001b[39mcol(\u001b[38;5;124m\"\u001b[39m\u001b[38;5;124mrange_\u001b[39m\u001b[38;5;124m\"\u001b[39m \u001b[38;5;241m+\u001b[39m col),\n\u001b[1;32m    118\u001b[0m                                                          F\u001b[38;5;241m.\u001b[39mlit(\u001b[38;5;124m\"\u001b[39m\u001b[38;5;124mscale\u001b[39m\u001b[38;5;124m\"\u001b[39m), F\u001b[38;5;241m.\u001b[39mcol(\u001b[38;5;124m\"\u001b[39m\u001b[38;5;124mscale_\u001b[39m\u001b[38;5;124m\"\u001b[39m \u001b[38;5;241m+\u001b[39m col),\n\u001b[1;32m    119\u001b[0m                                                          F\u001b[38;5;241m.\u001b[39mlit(\u001b[38;5;124m\"\u001b[39m\u001b[38;5;124mmin_\u001b[39m\u001b[38;5;124m\"\u001b[39m), F\u001b[38;5;241m.\u001b[39mcol(\u001b[38;5;124m\"\u001b[39m\u001b[38;5;124mmin__\u001b[39m\u001b[38;5;124m\"\u001b[39m \u001b[38;5;241m+\u001b[39m col))])\n\u001b[0;32m--> 121\u001b[0m df_fitted_values \u001b[38;5;241m=\u001b[39m \u001b[43mdf\u001b[49m\u001b[38;5;241;43m.\u001b[39;49m\u001b[43mselect\u001b[49m\u001b[43m(\u001b[49m\u001b[43mselect_calc\u001b[49m\u001b[43m)\u001b[49m\u001b[43m \u001b[49m\u001b[43m\\\u001b[49m\n\u001b[1;32m    122\u001b[0m \u001b[43m    \u001b[49m\u001b[38;5;241;43m.\u001b[39;49m\u001b[43mwith_columns\u001b[49m\u001b[43m(\u001b[49m\u001b[43mrange_cols_names\u001b[49m\u001b[43m,\u001b[49m\u001b[43m \u001b[49m\u001b[43mrange_cols_exp\u001b[49m\u001b[43m)\u001b[49m \\\n\u001b[1;32m    123\u001b[0m     \u001b[38;5;241m.\u001b[39mwith_columns(scale_cols_names, scale_cols_exp) \\\n\u001b[1;32m    124\u001b[0m     \u001b[38;5;241m.\u001b[39mwith_columns(min_cols_names, min_cols_exp) \\\n\u001b[1;32m    125\u001b[0m     \u001b[38;5;241m.\u001b[39mselect(F\u001b[38;5;241m.\u001b[39mobject_construct(\u001b[38;5;241m*\u001b[39mobj_const_log))\n\u001b[1;32m    127\u001b[0m fitted_values \u001b[38;5;241m=\u001b[39m json\u001b[38;5;241m.\u001b[39mloads(df_fitted_values\u001b[38;5;241m.\u001b[39mcollect()[\u001b[38;5;241m0\u001b[39m][\u001b[38;5;241m0\u001b[39m])\n\u001b[1;32m    128\u001b[0m \u001b[38;5;66;03m# Store the column order?\u001b[39;00m\n",
      "File \u001b[0;32m~/opt/anaconda3/envs/snowpark/lib/python3.8/site-packages/snowflake/snowpark/_internal/telemetry.py:213\u001b[0m, in \u001b[0;36mdf_api_usage.<locals>.wrap\u001b[0;34m(*args, **kwargs)\u001b[0m\n\u001b[1;32m    211\u001b[0m \u001b[38;5;129m@functools\u001b[39m\u001b[38;5;241m.\u001b[39mwraps(func)\n\u001b[1;32m    212\u001b[0m \u001b[38;5;28;01mdef\u001b[39;00m \u001b[38;5;21mwrap\u001b[39m(\u001b[38;5;241m*\u001b[39margs, \u001b[38;5;241m*\u001b[39m\u001b[38;5;241m*\u001b[39mkwargs):\n\u001b[0;32m--> 213\u001b[0m     r \u001b[38;5;241m=\u001b[39m \u001b[43mfunc\u001b[49m\u001b[43m(\u001b[49m\u001b[38;5;241;43m*\u001b[39;49m\u001b[43margs\u001b[49m\u001b[43m,\u001b[49m\u001b[43m \u001b[49m\u001b[38;5;241;43m*\u001b[39;49m\u001b[38;5;241;43m*\u001b[39;49m\u001b[43mkwargs\u001b[49m\u001b[43m)\u001b[49m\n\u001b[1;32m    214\u001b[0m     \u001b[38;5;66;03m# Some DataFrame APIs call other DataFrame APIs, so we need to remove the extra call\u001b[39;00m\n\u001b[1;32m    215\u001b[0m     \u001b[38;5;28;01mif\u001b[39;00m (\n\u001b[1;32m    216\u001b[0m         func\u001b[38;5;241m.\u001b[39m\u001b[38;5;18m__name__\u001b[39m \u001b[38;5;129;01min\u001b[39;00m APIS_WITH_MULTIPLE_CALLS\n\u001b[1;32m    217\u001b[0m         \u001b[38;5;129;01mand\u001b[39;00m \u001b[38;5;28mlen\u001b[39m(r\u001b[38;5;241m.\u001b[39m_plan\u001b[38;5;241m.\u001b[39mapi_calls) \u001b[38;5;241m>\u001b[39m\u001b[38;5;241m=\u001b[39m API_CALLS_TO_ADJUST[func\u001b[38;5;241m.\u001b[39m\u001b[38;5;18m__name__\u001b[39m]\n\u001b[1;32m    218\u001b[0m     ):\n",
      "File \u001b[0;32m~/opt/anaconda3/envs/snowpark/lib/python3.8/site-packages/snowflake/snowpark/dataframe.py:1897\u001b[0m, in \u001b[0;36mDataFrame.with_columns\u001b[0;34m(self, col_names, values)\u001b[0m\n\u001b[1;32m   1892\u001b[0m new_cols \u001b[38;5;241m=\u001b[39m [col\u001b[38;5;241m.\u001b[39mas_(name) \u001b[38;5;28;01mfor\u001b[39;00m name, col \u001b[38;5;129;01min\u001b[39;00m \u001b[38;5;28mzip\u001b[39m(qualified_names, values)]\n\u001b[1;32m   1894\u001b[0m \u001b[38;5;66;03m# Get a list of existing column names that are not being replaced\u001b[39;00m\n\u001b[1;32m   1895\u001b[0m old_cols \u001b[38;5;241m=\u001b[39m [\n\u001b[1;32m   1896\u001b[0m     Column(field)\n\u001b[0;32m-> 1897\u001b[0m     \u001b[38;5;28;01mfor\u001b[39;00m field \u001b[38;5;129;01min\u001b[39;00m \u001b[38;5;28;43mself\u001b[39;49m\u001b[38;5;241;43m.\u001b[39;49m\u001b[43m_output\u001b[49m\n\u001b[1;32m   1898\u001b[0m     \u001b[38;5;28;01mif\u001b[39;00m field\u001b[38;5;241m.\u001b[39mname \u001b[38;5;129;01mnot\u001b[39;00m \u001b[38;5;129;01min\u001b[39;00m new_column_names\n\u001b[1;32m   1899\u001b[0m ]\n\u001b[1;32m   1901\u001b[0m \u001b[38;5;66;03m# Put it all together\u001b[39;00m\n\u001b[1;32m   1902\u001b[0m \u001b[38;5;28;01mreturn\u001b[39;00m \u001b[38;5;28mself\u001b[39m\u001b[38;5;241m.\u001b[39mselect([\u001b[38;5;241m*\u001b[39mold_cols, \u001b[38;5;241m*\u001b[39mnew_cols])\n",
      "File \u001b[0;32m~/opt/anaconda3/envs/snowpark/lib/python3.8/functools.py:967\u001b[0m, in \u001b[0;36mcached_property.__get__\u001b[0;34m(self, instance, owner)\u001b[0m\n\u001b[1;32m    965\u001b[0m val \u001b[38;5;241m=\u001b[39m cache\u001b[38;5;241m.\u001b[39mget(\u001b[38;5;28mself\u001b[39m\u001b[38;5;241m.\u001b[39mattrname, _NOT_FOUND)\n\u001b[1;32m    966\u001b[0m \u001b[38;5;28;01mif\u001b[39;00m val \u001b[38;5;129;01mis\u001b[39;00m _NOT_FOUND:\n\u001b[0;32m--> 967\u001b[0m     val \u001b[38;5;241m=\u001b[39m \u001b[38;5;28;43mself\u001b[39;49m\u001b[38;5;241;43m.\u001b[39;49m\u001b[43mfunc\u001b[49m\u001b[43m(\u001b[49m\u001b[43minstance\u001b[49m\u001b[43m)\u001b[49m\n\u001b[1;32m    968\u001b[0m     \u001b[38;5;28;01mtry\u001b[39;00m:\n\u001b[1;32m    969\u001b[0m         cache[\u001b[38;5;28mself\u001b[39m\u001b[38;5;241m.\u001b[39mattrname] \u001b[38;5;241m=\u001b[39m val\n",
      "File \u001b[0;32m~/opt/anaconda3/envs/snowpark/lib/python3.8/site-packages/snowflake/snowpark/dataframe.py:2772\u001b[0m, in \u001b[0;36mDataFrame._output\u001b[0;34m(self)\u001b[0m\n\u001b[1;32m   2770\u001b[0m \u001b[38;5;129m@cached_property\u001b[39m\n\u001b[1;32m   2771\u001b[0m \u001b[38;5;28;01mdef\u001b[39;00m \u001b[38;5;21m_output\u001b[39m(\u001b[38;5;28mself\u001b[39m) \u001b[38;5;241m-\u001b[39m\u001b[38;5;241m>\u001b[39m List[Attribute]:\n\u001b[0;32m-> 2772\u001b[0m     \u001b[38;5;28;01mreturn\u001b[39;00m \u001b[38;5;28;43mself\u001b[39;49m\u001b[38;5;241;43m.\u001b[39;49m\u001b[43m_plan\u001b[49m\u001b[38;5;241;43m.\u001b[39;49m\u001b[43moutput\u001b[49m\n",
      "File \u001b[0;32m~/opt/anaconda3/envs/snowpark/lib/python3.8/functools.py:967\u001b[0m, in \u001b[0;36mcached_property.__get__\u001b[0;34m(self, instance, owner)\u001b[0m\n\u001b[1;32m    965\u001b[0m val \u001b[38;5;241m=\u001b[39m cache\u001b[38;5;241m.\u001b[39mget(\u001b[38;5;28mself\u001b[39m\u001b[38;5;241m.\u001b[39mattrname, _NOT_FOUND)\n\u001b[1;32m    966\u001b[0m \u001b[38;5;28;01mif\u001b[39;00m val \u001b[38;5;129;01mis\u001b[39;00m _NOT_FOUND:\n\u001b[0;32m--> 967\u001b[0m     val \u001b[38;5;241m=\u001b[39m \u001b[38;5;28;43mself\u001b[39;49m\u001b[38;5;241;43m.\u001b[39;49m\u001b[43mfunc\u001b[49m\u001b[43m(\u001b[49m\u001b[43minstance\u001b[49m\u001b[43m)\u001b[49m\n\u001b[1;32m    968\u001b[0m     \u001b[38;5;28;01mtry\u001b[39;00m:\n\u001b[1;32m    969\u001b[0m         cache[\u001b[38;5;28mself\u001b[39m\u001b[38;5;241m.\u001b[39mattrname] \u001b[38;5;241m=\u001b[39m val\n",
      "File \u001b[0;32m~/opt/anaconda3/envs/snowpark/lib/python3.8/site-packages/snowflake/snowpark/_internal/analyzer/snowflake_plan.py:211\u001b[0m, in \u001b[0;36mSnowflakePlan.output\u001b[0;34m(self)\u001b[0m\n\u001b[1;32m    209\u001b[0m \u001b[38;5;129m@cached_property\u001b[39m\n\u001b[1;32m    210\u001b[0m \u001b[38;5;28;01mdef\u001b[39;00m \u001b[38;5;21moutput\u001b[39m(\u001b[38;5;28mself\u001b[39m) \u001b[38;5;241m-\u001b[39m\u001b[38;5;241m>\u001b[39m List[Attribute]:\n\u001b[0;32m--> 211\u001b[0m     \u001b[38;5;28;01mreturn\u001b[39;00m [Attribute(a\u001b[38;5;241m.\u001b[39mname, a\u001b[38;5;241m.\u001b[39mdatatype, a\u001b[38;5;241m.\u001b[39mnullable) \u001b[38;5;28;01mfor\u001b[39;00m a \u001b[38;5;129;01min\u001b[39;00m \u001b[38;5;28;43mself\u001b[39;49m\u001b[38;5;241;43m.\u001b[39;49m\u001b[43mattributes\u001b[49m]\n",
      "File \u001b[0;32m~/opt/anaconda3/envs/snowpark/lib/python3.8/functools.py:967\u001b[0m, in \u001b[0;36mcached_property.__get__\u001b[0;34m(self, instance, owner)\u001b[0m\n\u001b[1;32m    965\u001b[0m val \u001b[38;5;241m=\u001b[39m cache\u001b[38;5;241m.\u001b[39mget(\u001b[38;5;28mself\u001b[39m\u001b[38;5;241m.\u001b[39mattrname, _NOT_FOUND)\n\u001b[1;32m    966\u001b[0m \u001b[38;5;28;01mif\u001b[39;00m val \u001b[38;5;129;01mis\u001b[39;00m _NOT_FOUND:\n\u001b[0;32m--> 967\u001b[0m     val \u001b[38;5;241m=\u001b[39m \u001b[38;5;28;43mself\u001b[39;49m\u001b[38;5;241;43m.\u001b[39;49m\u001b[43mfunc\u001b[49m\u001b[43m(\u001b[49m\u001b[43minstance\u001b[49m\u001b[43m)\u001b[49m\n\u001b[1;32m    968\u001b[0m     \u001b[38;5;28;01mtry\u001b[39;00m:\n\u001b[1;32m    969\u001b[0m         cache[\u001b[38;5;28mself\u001b[39m\u001b[38;5;241m.\u001b[39mattrname] \u001b[38;5;241m=\u001b[39m val\n",
      "File \u001b[0;32m~/opt/anaconda3/envs/snowpark/lib/python3.8/site-packages/snowflake/snowpark/_internal/analyzer/snowflake_plan.py:205\u001b[0m, in \u001b[0;36mSnowflakePlan.attributes\u001b[0;34m(self)\u001b[0m\n\u001b[1;32m    203\u001b[0m \u001b[38;5;129m@cached_property\u001b[39m\n\u001b[1;32m    204\u001b[0m \u001b[38;5;28;01mdef\u001b[39;00m \u001b[38;5;21mattributes\u001b[39m(\u001b[38;5;28mself\u001b[39m) \u001b[38;5;241m-\u001b[39m\u001b[38;5;241m>\u001b[39m List[Attribute]:\n\u001b[0;32m--> 205\u001b[0m     output \u001b[38;5;241m=\u001b[39m \u001b[43manalyze_attributes\u001b[49m\u001b[43m(\u001b[49m\u001b[38;5;28;43mself\u001b[39;49m\u001b[38;5;241;43m.\u001b[39;49m\u001b[43mschema_query\u001b[49m\u001b[43m,\u001b[49m\u001b[43m \u001b[49m\u001b[38;5;28;43mself\u001b[39;49m\u001b[38;5;241;43m.\u001b[39;49m\u001b[43msession\u001b[49m\u001b[43m)\u001b[49m\n\u001b[1;32m    206\u001b[0m     \u001b[38;5;28mself\u001b[39m\u001b[38;5;241m.\u001b[39mschema_query \u001b[38;5;241m=\u001b[39m schema_value_statement(output)\n\u001b[1;32m    207\u001b[0m     \u001b[38;5;28;01mreturn\u001b[39;00m output\n",
      "File \u001b[0;32m~/opt/anaconda3/envs/snowpark/lib/python3.8/site-packages/snowflake/snowpark/_internal/analyzer/schema_utils.py:81\u001b[0m, in \u001b[0;36manalyze_attributes\u001b[0;34m(sql, session)\u001b[0m\n\u001b[1;32m     78\u001b[0m     session\u001b[38;5;241m.\u001b[39m_run_query(sql)\n\u001b[1;32m     79\u001b[0m     \u001b[38;5;28;01mreturn\u001b[39;00m convert_result_meta_to_attribute(session\u001b[38;5;241m.\u001b[39m_conn\u001b[38;5;241m.\u001b[39m_cursor\u001b[38;5;241m.\u001b[39mdescription)\n\u001b[0;32m---> 81\u001b[0m \u001b[38;5;28;01mreturn\u001b[39;00m \u001b[43msession\u001b[49m\u001b[38;5;241;43m.\u001b[39;49m\u001b[43m_get_result_attributes\u001b[49m\u001b[43m(\u001b[49m\u001b[43msql\u001b[49m\u001b[43m)\u001b[49m\n",
      "File \u001b[0;32m~/opt/anaconda3/envs/snowpark/lib/python3.8/site-packages/snowflake/snowpark/session.py:949\u001b[0m, in \u001b[0;36mSession._get_result_attributes\u001b[0;34m(self, query)\u001b[0m\n\u001b[1;32m    948\u001b[0m \u001b[38;5;28;01mdef\u001b[39;00m \u001b[38;5;21m_get_result_attributes\u001b[39m(\u001b[38;5;28mself\u001b[39m, query: \u001b[38;5;28mstr\u001b[39m) \u001b[38;5;241m-\u001b[39m\u001b[38;5;241m>\u001b[39m List[Attribute]:\n\u001b[0;32m--> 949\u001b[0m     \u001b[38;5;28;01mreturn\u001b[39;00m \u001b[38;5;28;43mself\u001b[39;49m\u001b[38;5;241;43m.\u001b[39;49m\u001b[43m_conn\u001b[49m\u001b[38;5;241;43m.\u001b[39;49m\u001b[43mget_result_attributes\u001b[49m\u001b[43m(\u001b[49m\u001b[43mquery\u001b[49m\u001b[43m)\u001b[49m\n",
      "File \u001b[0;32m~/opt/anaconda3/envs/snowpark/lib/python3.8/site-packages/snowflake/snowpark/_internal/analyzer/snowflake_plan.py:81\u001b[0m, in \u001b[0;36mSnowflakePlan.Decorator.wrap_exception.<locals>.wrap\u001b[0;34m(*args, **kwargs)\u001b[0m\n\u001b[1;32m     79\u001b[0m \u001b[38;5;28;01mdef\u001b[39;00m \u001b[38;5;21mwrap\u001b[39m(\u001b[38;5;241m*\u001b[39margs, \u001b[38;5;241m*\u001b[39m\u001b[38;5;241m*\u001b[39mkwargs):\n\u001b[1;32m     80\u001b[0m     \u001b[38;5;28;01mtry\u001b[39;00m:\n\u001b[0;32m---> 81\u001b[0m         \u001b[38;5;28;01mreturn\u001b[39;00m \u001b[43mfunc\u001b[49m\u001b[43m(\u001b[49m\u001b[38;5;241;43m*\u001b[39;49m\u001b[43margs\u001b[49m\u001b[43m,\u001b[49m\u001b[43m \u001b[49m\u001b[38;5;241;43m*\u001b[39;49m\u001b[38;5;241;43m*\u001b[39;49m\u001b[43mkwargs\u001b[49m\u001b[43m)\u001b[49m\n\u001b[1;32m     82\u001b[0m     \u001b[38;5;28;01mexcept\u001b[39;00m snowflake\u001b[38;5;241m.\u001b[39mconnector\u001b[38;5;241m.\u001b[39merrors\u001b[38;5;241m.\u001b[39mProgrammingError \u001b[38;5;28;01mas\u001b[39;00m e:\n\u001b[1;32m     83\u001b[0m         tb \u001b[38;5;241m=\u001b[39m sys\u001b[38;5;241m.\u001b[39mexc_info()[\u001b[38;5;241m2\u001b[39m]\n",
      "File \u001b[0;32m~/opt/anaconda3/envs/snowpark/lib/python3.8/site-packages/snowflake/snowpark/_internal/server_connection.py:207\u001b[0m, in \u001b[0;36mServerConnection.get_result_attributes\u001b[0;34m(self, query)\u001b[0m\n\u001b[1;32m    205\u001b[0m \u001b[38;5;129m@SnowflakePlan\u001b[39m\u001b[38;5;241m.\u001b[39mDecorator\u001b[38;5;241m.\u001b[39mwrap_exception\n\u001b[1;32m    206\u001b[0m \u001b[38;5;28;01mdef\u001b[39;00m \u001b[38;5;21mget_result_attributes\u001b[39m(\u001b[38;5;28mself\u001b[39m, query: \u001b[38;5;28mstr\u001b[39m) \u001b[38;5;241m-\u001b[39m\u001b[38;5;241m>\u001b[39m List[Attribute]:\n\u001b[0;32m--> 207\u001b[0m     \u001b[38;5;28;01mreturn\u001b[39;00m convert_result_meta_to_attribute(\u001b[38;5;28;43mself\u001b[39;49m\u001b[38;5;241;43m.\u001b[39;49m\u001b[43m_cursor\u001b[49m\u001b[38;5;241;43m.\u001b[39;49m\u001b[43mdescribe\u001b[49m\u001b[43m(\u001b[49m\u001b[43mquery\u001b[49m\u001b[43m)\u001b[49m)\n",
      "File \u001b[0;32m~/opt/anaconda3/envs/snowpark/lib/python3.8/site-packages/snowflake/connector/cursor.py:815\u001b[0m, in \u001b[0;36mSnowflakeCursor.describe\u001b[0;34m(self, *args, **kwargs)\u001b[0m\n\u001b[1;32m    806\u001b[0m \u001b[38;5;124;03m\"\"\"Obtain the schema of the result without executing the query.\u001b[39;00m\n\u001b[1;32m    807\u001b[0m \n\u001b[1;32m    808\u001b[0m \u001b[38;5;124;03mThis function takes the same arguments as execute, please refer to that function\u001b[39;00m\n\u001b[0;32m   (...)\u001b[0m\n\u001b[1;32m    812\u001b[0m \u001b[38;5;124;03m    The schema of the result.\u001b[39;00m\n\u001b[1;32m    813\u001b[0m \u001b[38;5;124;03m\"\"\"\u001b[39;00m\n\u001b[1;32m    814\u001b[0m kwargs[\u001b[38;5;124m\"\u001b[39m\u001b[38;5;124m_describe_only\u001b[39m\u001b[38;5;124m\"\u001b[39m] \u001b[38;5;241m=\u001b[39m kwargs[\u001b[38;5;124m\"\u001b[39m\u001b[38;5;124m_is_internal\u001b[39m\u001b[38;5;124m\"\u001b[39m] \u001b[38;5;241m=\u001b[39m \u001b[38;5;28;01mTrue\u001b[39;00m\n\u001b[0;32m--> 815\u001b[0m \u001b[38;5;28;43mself\u001b[39;49m\u001b[38;5;241;43m.\u001b[39;49m\u001b[43mexecute\u001b[49m\u001b[43m(\u001b[49m\u001b[38;5;241;43m*\u001b[39;49m\u001b[43margs\u001b[49m\u001b[43m,\u001b[49m\u001b[43m \u001b[49m\u001b[38;5;241;43m*\u001b[39;49m\u001b[38;5;241;43m*\u001b[39;49m\u001b[43mkwargs\u001b[49m\u001b[43m)\u001b[49m\n\u001b[1;32m    816\u001b[0m \u001b[38;5;28;01mreturn\u001b[39;00m \u001b[38;5;28mself\u001b[39m\u001b[38;5;241m.\u001b[39m_description\n",
      "File \u001b[0;32m~/opt/anaconda3/envs/snowpark/lib/python3.8/site-packages/snowflake/connector/cursor.py:622\u001b[0m, in \u001b[0;36mSnowflakeCursor.execute\u001b[0;34m(self, command, params, _bind_stage, timeout, _exec_async, _do_reset, _put_callback, _put_azure_callback, _put_callback_output_stream, _get_callback, _get_azure_callback, _get_callback_output_stream, _show_progress_bar, _statement_params, _is_internal, _describe_only, _no_results, _use_ijson, _is_put_get, _raise_put_get_error, _force_put_overwrite, file_stream)\u001b[0m\n\u001b[1;32m    620\u001b[0m logger\u001b[38;5;241m.\u001b[39mdebug(\u001b[38;5;124m\"\u001b[39m\u001b[38;5;124mexecuting SQL/command\u001b[39m\u001b[38;5;124m\"\u001b[39m)\n\u001b[1;32m    621\u001b[0m \u001b[38;5;28;01mif\u001b[39;00m \u001b[38;5;28mself\u001b[39m\u001b[38;5;241m.\u001b[39mis_closed():\n\u001b[0;32m--> 622\u001b[0m     \u001b[43mError\u001b[49m\u001b[38;5;241;43m.\u001b[39;49m\u001b[43merrorhandler_wrapper\u001b[49m\u001b[43m(\u001b[49m\n\u001b[1;32m    623\u001b[0m \u001b[43m        \u001b[49m\u001b[38;5;28;43mself\u001b[39;49m\u001b[38;5;241;43m.\u001b[39;49m\u001b[43mconnection\u001b[49m\u001b[43m,\u001b[49m\n\u001b[1;32m    624\u001b[0m \u001b[43m        \u001b[49m\u001b[38;5;28;43mself\u001b[39;49m\u001b[43m,\u001b[49m\n\u001b[1;32m    625\u001b[0m \u001b[43m        \u001b[49m\u001b[43mInterfaceError\u001b[49m\u001b[43m,\u001b[49m\n\u001b[1;32m    626\u001b[0m \u001b[43m        \u001b[49m\u001b[43m{\u001b[49m\u001b[38;5;124;43m\"\u001b[39;49m\u001b[38;5;124;43mmsg\u001b[39;49m\u001b[38;5;124;43m\"\u001b[39;49m\u001b[43m:\u001b[49m\u001b[43m \u001b[49m\u001b[38;5;124;43m\"\u001b[39;49m\u001b[38;5;124;43mCursor is closed in execute.\u001b[39;49m\u001b[38;5;124;43m\"\u001b[39;49m\u001b[43m,\u001b[49m\u001b[43m \u001b[49m\u001b[38;5;124;43m\"\u001b[39;49m\u001b[38;5;124;43merrno\u001b[39;49m\u001b[38;5;124;43m\"\u001b[39;49m\u001b[43m:\u001b[49m\u001b[43m \u001b[49m\u001b[43mER_CURSOR_IS_CLOSED\u001b[49m\u001b[43m}\u001b[49m\u001b[43m,\u001b[49m\n\u001b[1;32m    627\u001b[0m \u001b[43m    \u001b[49m\u001b[43m)\u001b[49m\n\u001b[1;32m    629\u001b[0m \u001b[38;5;28;01mif\u001b[39;00m _do_reset:\n\u001b[1;32m    630\u001b[0m     \u001b[38;5;28mself\u001b[39m\u001b[38;5;241m.\u001b[39mreset()\n",
      "File \u001b[0;32m~/opt/anaconda3/envs/snowpark/lib/python3.8/site-packages/snowflake/connector/errors.py:272\u001b[0m, in \u001b[0;36mError.errorhandler_wrapper\u001b[0;34m(connection, cursor, error_class, error_value)\u001b[0m\n\u001b[1;32m    249\u001b[0m \u001b[38;5;129m@staticmethod\u001b[39m\n\u001b[1;32m    250\u001b[0m \u001b[38;5;28;01mdef\u001b[39;00m \u001b[38;5;21merrorhandler_wrapper\u001b[39m(\n\u001b[1;32m    251\u001b[0m     connection: Optional[\u001b[38;5;124m\"\u001b[39m\u001b[38;5;124mSnowflakeConnection\u001b[39m\u001b[38;5;124m\"\u001b[39m],\n\u001b[0;32m   (...)\u001b[0m\n\u001b[1;32m    254\u001b[0m     error_value: Dict[\u001b[38;5;28mstr\u001b[39m, Union[\u001b[38;5;28mstr\u001b[39m, \u001b[38;5;28mbool\u001b[39m, \u001b[38;5;28mint\u001b[39m]],\n\u001b[1;32m    255\u001b[0m ) \u001b[38;5;241m-\u001b[39m\u001b[38;5;241m>\u001b[39m \u001b[38;5;28;01mNone\u001b[39;00m:\n\u001b[1;32m    256\u001b[0m     \u001b[38;5;124;03m\"\"\"Error handler wrapper that calls the errorhandler method.\u001b[39;00m\n\u001b[1;32m    257\u001b[0m \n\u001b[1;32m    258\u001b[0m \u001b[38;5;124;03m    Args:\u001b[39;00m\n\u001b[0;32m   (...)\u001b[0m\n\u001b[1;32m    269\u001b[0m \u001b[38;5;124;03m        exception to the first handler in that order.\u001b[39;00m\n\u001b[1;32m    270\u001b[0m \u001b[38;5;124;03m    \"\"\"\u001b[39;00m\n\u001b[0;32m--> 272\u001b[0m     handed_over \u001b[38;5;241m=\u001b[39m \u001b[43mError\u001b[49m\u001b[38;5;241;43m.\u001b[39;49m\u001b[43mhand_to_other_handler\u001b[49m\u001b[43m(\u001b[49m\n\u001b[1;32m    273\u001b[0m \u001b[43m        \u001b[49m\u001b[43mconnection\u001b[49m\u001b[43m,\u001b[49m\n\u001b[1;32m    274\u001b[0m \u001b[43m        \u001b[49m\u001b[43mcursor\u001b[49m\u001b[43m,\u001b[49m\n\u001b[1;32m    275\u001b[0m \u001b[43m        \u001b[49m\u001b[43merror_class\u001b[49m\u001b[43m,\u001b[49m\n\u001b[1;32m    276\u001b[0m \u001b[43m        \u001b[49m\u001b[43merror_value\u001b[49m\u001b[43m,\u001b[49m\n\u001b[1;32m    277\u001b[0m \u001b[43m    \u001b[49m\u001b[43m)\u001b[49m\n\u001b[1;32m    278\u001b[0m     \u001b[38;5;28;01mif\u001b[39;00m \u001b[38;5;129;01mnot\u001b[39;00m handed_over:\n\u001b[1;32m    279\u001b[0m         \u001b[38;5;28;01mraise\u001b[39;00m Error\u001b[38;5;241m.\u001b[39merrorhandler_make_exception(\n\u001b[1;32m    280\u001b[0m             error_class,\n\u001b[1;32m    281\u001b[0m             error_value,\n\u001b[1;32m    282\u001b[0m         )\n",
      "File \u001b[0;32m~/opt/anaconda3/envs/snowpark/lib/python3.8/site-packages/snowflake/connector/errors.py:327\u001b[0m, in \u001b[0;36mError.hand_to_other_handler\u001b[0;34m(connection, cursor, error_class, error_value)\u001b[0m\n\u001b[1;32m    325\u001b[0m \u001b[38;5;28;01mif\u001b[39;00m cursor \u001b[38;5;129;01mis\u001b[39;00m \u001b[38;5;129;01mnot\u001b[39;00m \u001b[38;5;28;01mNone\u001b[39;00m:\n\u001b[1;32m    326\u001b[0m     cursor\u001b[38;5;241m.\u001b[39mmessages\u001b[38;5;241m.\u001b[39mappend((error_class, error_value))\n\u001b[0;32m--> 327\u001b[0m     \u001b[43mcursor\u001b[49m\u001b[38;5;241;43m.\u001b[39;49m\u001b[43merrorhandler\u001b[49m\u001b[43m(\u001b[49m\u001b[43mconnection\u001b[49m\u001b[43m,\u001b[49m\u001b[43m \u001b[49m\u001b[43mcursor\u001b[49m\u001b[43m,\u001b[49m\u001b[43m \u001b[49m\u001b[43merror_class\u001b[49m\u001b[43m,\u001b[49m\u001b[43m \u001b[49m\u001b[43merror_value\u001b[49m\u001b[43m)\u001b[49m\n\u001b[1;32m    328\u001b[0m     \u001b[38;5;28;01mreturn\u001b[39;00m \u001b[38;5;28;01mTrue\u001b[39;00m\n\u001b[1;32m    329\u001b[0m \u001b[38;5;28;01melif\u001b[39;00m connection \u001b[38;5;129;01mis\u001b[39;00m \u001b[38;5;129;01mnot\u001b[39;00m \u001b[38;5;28;01mNone\u001b[39;00m:\n",
      "File \u001b[0;32m~/opt/anaconda3/envs/snowpark/lib/python3.8/site-packages/snowflake/connector/errors.py:206\u001b[0m, in \u001b[0;36mError.default_errorhandler\u001b[0;34m(connection, cursor, error_class, error_value)\u001b[0m\n\u001b[1;32m    188\u001b[0m \u001b[38;5;129m@staticmethod\u001b[39m\n\u001b[1;32m    189\u001b[0m \u001b[38;5;28;01mdef\u001b[39;00m \u001b[38;5;21mdefault_errorhandler\u001b[39m(\n\u001b[1;32m    190\u001b[0m     connection: \u001b[38;5;124m\"\u001b[39m\u001b[38;5;124mSnowflakeConnection\u001b[39m\u001b[38;5;124m\"\u001b[39m,\n\u001b[0;32m   (...)\u001b[0m\n\u001b[1;32m    193\u001b[0m     error_value: Dict[\u001b[38;5;28mstr\u001b[39m, \u001b[38;5;28mstr\u001b[39m],\n\u001b[1;32m    194\u001b[0m ) \u001b[38;5;241m-\u001b[39m\u001b[38;5;241m>\u001b[39m \u001b[38;5;28;01mNone\u001b[39;00m:\n\u001b[1;32m    195\u001b[0m     \u001b[38;5;124;03m\"\"\"Default error handler that raises an error.\u001b[39;00m\n\u001b[1;32m    196\u001b[0m \n\u001b[1;32m    197\u001b[0m \u001b[38;5;124;03m    Args:\u001b[39;00m\n\u001b[0;32m   (...)\u001b[0m\n\u001b[1;32m    204\u001b[0m \u001b[38;5;124;03m        A Snowflake error.\u001b[39;00m\n\u001b[1;32m    205\u001b[0m \u001b[38;5;124;03m    \"\"\"\u001b[39;00m\n\u001b[0;32m--> 206\u001b[0m     \u001b[38;5;28;01mraise\u001b[39;00m error_class(\n\u001b[1;32m    207\u001b[0m         msg\u001b[38;5;241m=\u001b[39merror_value\u001b[38;5;241m.\u001b[39mget(\u001b[38;5;124m\"\u001b[39m\u001b[38;5;124mmsg\u001b[39m\u001b[38;5;124m\"\u001b[39m),\n\u001b[1;32m    208\u001b[0m         errno\u001b[38;5;241m=\u001b[39merror_value\u001b[38;5;241m.\u001b[39mget(\u001b[38;5;124m\"\u001b[39m\u001b[38;5;124merrno\u001b[39m\u001b[38;5;124m\"\u001b[39m),\n\u001b[1;32m    209\u001b[0m         sqlstate\u001b[38;5;241m=\u001b[39merror_value\u001b[38;5;241m.\u001b[39mget(\u001b[38;5;124m\"\u001b[39m\u001b[38;5;124msqlstate\u001b[39m\u001b[38;5;124m\"\u001b[39m),\n\u001b[1;32m    210\u001b[0m         sfqid\u001b[38;5;241m=\u001b[39merror_value\u001b[38;5;241m.\u001b[39mget(\u001b[38;5;124m\"\u001b[39m\u001b[38;5;124msfqid\u001b[39m\u001b[38;5;124m\"\u001b[39m),\n\u001b[1;32m    211\u001b[0m         done_format_msg\u001b[38;5;241m=\u001b[39merror_value\u001b[38;5;241m.\u001b[39mget(\u001b[38;5;124m\"\u001b[39m\u001b[38;5;124mdone_format_msg\u001b[39m\u001b[38;5;124m\"\u001b[39m),\n\u001b[1;32m    212\u001b[0m         connection\u001b[38;5;241m=\u001b[39mconnection,\n\u001b[1;32m    213\u001b[0m         cursor\u001b[38;5;241m=\u001b[39mcursor,\n\u001b[1;32m    214\u001b[0m     )\n",
      "\u001b[0;31mInterfaceError\u001b[0m: 252006: Cursor is closed in execute."
     ]
    }
   ],
   "source": [
    "pp.MinMaxScaler(input_cols=scaler_input_cols, output_cols=scaler_output_cols, feature_range=(5,8)).fit_transform(df_test).show()"
   ]
  },
  {
   "cell_type": "markdown",
   "id": "f52d3d92-7eed-491a-af58-ec6d9a82f90e",
   "metadata": {},
   "source": [
    "Transform new data with the previous fitted scaler"
   ]
  },
  {
   "cell_type": "code",
   "execution_count": 14,
   "id": "b0f7be92-fde7-4411-955d-3982903bec66",
   "metadata": {},
   "outputs": [
    {
     "name": "stdout",
     "output_type": "stream",
     "text": [
      "--------------------------\n",
      "|\"CALLS\"  |\"DAY_CHARGE\"  |\n",
      "--------------------------\n",
      "|56       |1.987         |\n",
      "|32       |9.689         |\n",
      "--------------------------\n",
      "\n"
     ]
    }
   ],
   "source": [
    "df_new_data = session.create_dataframe([[56, 1.987], [32, 9.689]], schema=scaler_input_cols)\n",
    "df_new_data.show()"
   ]
  },
  {
   "cell_type": "code",
   "execution_count": 15,
   "id": "f0f9cf42-9db8-4cc8-a97c-0e27144e0a6f",
   "metadata": {},
   "outputs": [
    {
     "name": "stdout",
     "output_type": "stream",
     "text": [
      "-----------------------------------------------------------------\n",
      "|\"CALLS\"  |\"DAY_CHARGE\"  |\"CALLS_SCALED\"  |\"DAY_CHARGE_SCALED\"  |\n",
      "-----------------------------------------------------------------\n",
      "|56       |1.987         |0.56            |0.142980998          |\n",
      "|32       |9.689         |0.32            |0.883559106          |\n",
      "-----------------------------------------------------------------\n",
      "\n"
     ]
    }
   ],
   "source": [
    "mms.transform(df_new_data).show()"
   ]
  },
  {
   "cell_type": "markdown",
   "id": "a5424294-26bc-42e0-9123-17f48fa002b7",
   "metadata": {},
   "source": [
    "### StandardScaler\n",
    "\n",
    "Standardize features by removing the mean and scaling to unit variance.\n",
    "\n",
    "By default it center the data before scaling and scale the data to unit standard deviation.\n",
    "\n",
    "How to save a fitted scaler to be used later see the MinMaxScaler examples above."
   ]
  },
  {
   "cell_type": "code",
   "execution_count": 16,
   "id": "466f2a9a-ed85-4e1d-8d28-eba9658eff00",
   "metadata": {},
   "outputs": [
    {
     "data": {
      "text/plain": [
       "{'CALLS': {'mean': 49.679, 'scale': 28.68841201600396},\n",
       " 'DAY_CHARGE': {'mean': 5.6157, 'scale': 2.985953688522312}}"
      ]
     },
     "execution_count": 16,
     "metadata": {},
     "output_type": "execute_result"
    }
   ],
   "source": [
    "sss = pp.StandardScaler(input_cols=scaler_input_cols, output_cols=scaler_output_cols)\n",
    "sss.fit(df_test)\n",
    "sss.fitted_values_"
   ]
  },
  {
   "cell_type": "code",
   "execution_count": 17,
   "id": "5ea5e279-f87a-4690-856b-253803d78937",
   "metadata": {},
   "outputs": [
    {
     "name": "stdout",
     "output_type": "stream",
     "text": [
      "-----------------------------------------------------------------------------------------------------------------------------------------------------------\n",
      "|\"CUST_ID\"  |\"STATE\"  |\"AREA_CODE\"  |\"INTL_PLAN\"  |\"CALLS\"  |\"MINS\"  |\"DATA\"  |\"DAY_CHARGE\"  |\"INTL_CHARGE\"  |\"CALLS_SCALED\"       |\"DAY_CHARGE_SCALED\"   |\n",
      "-----------------------------------------------------------------------------------------------------------------------------------------------------------\n",
      "|0          |ND       |510          |no           |21       |31      |26      |8.8           |11.5           |-0.9996719227261966  |1.0664264527075924    |\n",
      "|1          |KY       |510          |no           |64       |0       |39      |7.7           |12.2           |0.49919110168980296  |0.6980349387238748    |\n",
      "|2          |CA       |408          |no           |78       |22      |75      |4.4           |7.6            |0.9871930166159424   |-0.40713960322727755  |\n",
      "|3          |NC       |415          |no           |4        |95      |13      |10.4          |8.4            |-1.5922456765650803  |1.6022686548657268    |\n",
      "|4          |MN       |510          |no           |99       |33      |51      |7.4           |9.2            |1.7191958890051515   |0.5975645258192246    |\n",
      "|5          |PA       |415          |no           |3        |76      |93      |9.4           |10.9           |-1.6271029562026618  |1.2673672785168928    |\n",
      "|6          |WI       |510          |no           |56       |23      |46      |2.0           |8.3            |0.22033286458915188  |-1.2109029064644794   |\n",
      "|7          |ID       |408          |no           |20       |30      |90      |4.4           |13.7           |-1.034529202363778   |-0.40713960322727755  |\n",
      "|8          |IA       |510          |no           |71       |60      |31      |9.9           |12.8           |0.7431920591528727   |1.4348179666913097    |\n",
      "|9          |WY       |415          |yes          |14       |69      |53      |3.3           |12.1           |-1.2436728801892665  |-0.7755311172109952   |\n",
      "-----------------------------------------------------------------------------------------------------------------------------------------------------------\n",
      "\n"
     ]
    }
   ],
   "source": [
    "sss_tr_df = sss.transform(df_test)\n",
    "sss_tr_df.show()"
   ]
  },
  {
   "cell_type": "markdown",
   "id": "3a9071aa-91fe-4fb8-8e95-4e80eb42d018",
   "metadata": {},
   "source": [
    "We can reverse the scaling by using the **inverse_transform** method. The reversed values will be in the output columns."
   ]
  },
  {
   "cell_type": "code",
   "execution_count": null,
   "id": "d580148f-f10c-48c1-b71c-afe1a2ff888e",
   "metadata": {},
   "outputs": [],
   "source": [
    "sss.inverse_transform(sss_tr_df).show()"
   ]
  },
  {
   "cell_type": "markdown",
   "id": "9a2d2896-21eb-428e-bc97-90c9ceade93c",
   "metadata": {},
   "source": [
    "Setting **with_mean**=False will disable the centering of data before scaling. With **with_std**=True the data will be scaled to unit standard deviation."
   ]
  },
  {
   "cell_type": "code",
   "execution_count": null,
   "id": "1d11bcda-5225-4762-99a6-644ead13cbb8",
   "metadata": {},
   "outputs": [],
   "source": [
    "pp.StandardScaler(input_cols=scaler_input_cols, output_cols=scaler_output_cols, with_mean=False, with_std=True).fit_transform(df_test).show()"
   ]
  },
  {
   "cell_type": "markdown",
   "id": "6ec15825-f363-47ab-9822-da28a0bdc8c0",
   "metadata": {},
   "source": [
    "Setting **with_std**=False will disable the scaling of the data to unit standard deviation. With **with_mean**=True the data will only be centered."
   ]
  },
  {
   "cell_type": "code",
   "execution_count": null,
   "id": "4c88e142-cd73-488a-9385-21a08a1d5072",
   "metadata": {},
   "outputs": [],
   "source": [
    "pp.StandardScaler(input_cols=scaler_input_cols, output_cols=scaler_output_cols, with_mean=True, with_std=False).fit_transform(df_test).show()"
   ]
  },
  {
   "cell_type": "markdown",
   "id": "7b5c31d2-52ab-4f87-9e98-89352f6a3bb3",
   "metadata": {},
   "source": [
    "Setting both **with_mean** and **with_std** to False will return the same values as input."
   ]
  },
  {
   "cell_type": "code",
   "execution_count": null,
   "id": "f5ea252f-109f-443b-b145-a42ffecc466d",
   "metadata": {},
   "outputs": [],
   "source": [
    "pp.StandardScaler(input_cols=scaler_input_cols, output_cols=scaler_output_cols, with_mean=False, with_std=False).fit_transform(df_test).show()"
   ]
  },
  {
   "cell_type": "markdown",
   "id": "1a07e061-469e-4d62-8db2-8cba02ccaad7",
   "metadata": {},
   "source": [
    "### MaxAbsScaler\n",
    "\n",
    "Scale each column by its maximum absolute value.\n",
    "\n",
    "How to save a fitted scaler to be used later see the MinMaxScaler examples above."
   ]
  },
  {
   "cell_type": "code",
   "execution_count": null,
   "id": "7cd2d82b-fca1-4806-9a84-54974ef67bdf",
   "metadata": {},
   "outputs": [],
   "source": [
    "mas = pp.MaxAbsScaler(input_cols=scaler_input_cols, output_cols=scaler_output_cols)\n",
    "mas.fit(df_test)\n",
    "mas.fitted_values_"
   ]
  },
  {
   "cell_type": "code",
   "execution_count": null,
   "id": "df597fa8-9e46-417c-9e05-3c0d6cf376a7",
   "metadata": {},
   "outputs": [],
   "source": [
    "mas_tr_df = mas.transform(df_test)\n",
    "mas_tr_df.show()"
   ]
  },
  {
   "cell_type": "markdown",
   "id": "72155db3-05b3-4b86-bc91-b2d0cbf5fda9",
   "metadata": {},
   "source": [
    "We can reverse the scaling by using the **inverse_transform** method. The reversed values will be in the output columns."
   ]
  },
  {
   "cell_type": "code",
   "execution_count": null,
   "id": "c90c0416-3524-41be-aeb7-33d9c9f062a0",
   "metadata": {},
   "outputs": [],
   "source": [
    "mas.inverse_transform(mas_tr_df).show()"
   ]
  },
  {
   "cell_type": "markdown",
   "id": "32771251-7501-4e89-ba34-9b8347df6308",
   "metadata": {},
   "source": [
    "### RobustScaler\n",
    "Scale columns using statistics that are robust to outliers.\n",
    "\n",
    "This scaler scales by remove the median and scales the data according to the quantile range (defaults to IQR: Interquartile Range) The IQR is the range between the 1st quartile (25th quantile) and the 3rd quartile (75th quantile).\n",
    "\n",
    "By default it center the data before scaling and scale the data to interquartile range.\n",
    "\n",
    "How to save a fitted scaler to be used later see the MinMaxScaler examples above."
   ]
  },
  {
   "cell_type": "code",
   "execution_count": null,
   "id": "438d4e04-02ee-4e72-8f36-79f839f0473c",
   "metadata": {},
   "outputs": [],
   "source": [
    "rs = pp.RobustScaler(input_cols=scaler_input_cols, output_cols=scaler_output_cols)\n",
    "rs.fit(df_test)\n",
    "rs.fitted_values_"
   ]
  },
  {
   "cell_type": "code",
   "execution_count": null,
   "id": "b8c98251-42e4-4ca3-85a8-2bed1e795522",
   "metadata": {},
   "outputs": [],
   "source": [
    "rs_tr_df = rs.transform(df_test)\n",
    "rs_tr_df.show()"
   ]
  },
  {
   "cell_type": "markdown",
   "id": "78202017-0e9d-458b-9c3c-724ec61f60d3",
   "metadata": {},
   "source": [
    "We can reverse the scaling by using the **inverse_transform** method. The reversed values will be in the output columns."
   ]
  },
  {
   "cell_type": "code",
   "execution_count": null,
   "id": "ba551ba7-2e17-418a-806c-2d5dd56fc9a0",
   "metadata": {},
   "outputs": [],
   "source": [
    "rs.inverse_transform(rs_tr_df).show()"
   ]
  },
  {
   "cell_type": "markdown",
   "id": "89bf0173-cca5-4aca-9b0e-f51436fd52ab",
   "metadata": {},
   "source": [
    "Setting **with_centering**=False will disable centering of data before scaling."
   ]
  },
  {
   "cell_type": "code",
   "execution_count": null,
   "id": "55a04f18-f748-401d-bdd3-40817a2a19a2",
   "metadata": {},
   "outputs": [],
   "source": [
    "pp.RobustScaler(input_cols=scaler_input_cols, output_cols=scaler_output_cols, with_centering=False).fit_transform(df_test).show()"
   ]
  },
  {
   "cell_type": "markdown",
   "id": "a5b31c9a-58ba-4f81-ab3e-4cd694678642",
   "metadata": {},
   "source": [
    "Setting **with_scaling**=False will disable scaling of the data to interquartile range before scaling the data to interquartile range."
   ]
  },
  {
   "cell_type": "code",
   "execution_count": null,
   "id": "dac577a3-c396-4cb8-9295-301adcd80bcf",
   "metadata": {},
   "outputs": [],
   "source": [
    "pp.RobustScaler(input_cols=scaler_input_cols, output_cols=scaler_output_cols, with_centering=True, with_scaling=False).fit_transform(df_test).show()"
   ]
  },
  {
   "cell_type": "markdown",
   "id": "1cc6ca9a-a540-45ab-beb8-f761d94b27a9",
   "metadata": {},
   "source": [
    "Setting both **with_centering** and **with_scaling** to False will return unchanged data"
   ]
  },
  {
   "cell_type": "code",
   "execution_count": null,
   "id": "e2e11b35-95d6-448e-8002-d05357fd4351",
   "metadata": {},
   "outputs": [],
   "source": [
    "pp.RobustScaler(input_cols=scaler_input_cols, output_cols=scaler_output_cols, with_centering=False, with_scaling=False).fit_transform(df_test).show()"
   ]
  },
  {
   "cell_type": "markdown",
   "id": "9a087ed0-e23b-4c48-83cb-7df818347f99",
   "metadata": {},
   "source": [
    "Using 10th and 90th quantiles"
   ]
  },
  {
   "cell_type": "code",
   "execution_count": null,
   "id": "639fdf5d-7979-4b28-9c8f-6dcd9894dc90",
   "metadata": {},
   "outputs": [],
   "source": [
    "pp.RobustScaler(input_cols=scaler_input_cols, output_cols=scaler_output_cols,quantile_range=(10.0, 90.0)).fit_transform(df_test).show()"
   ]
  },
  {
   "cell_type": "markdown",
   "id": "e2c4263d-2fe2-44ae-ba9c-688ad335d691",
   "metadata": {},
   "source": [
    "Setting **unit_variance**=True will scale data so that normally distributed features have a variance of 1"
   ]
  },
  {
   "cell_type": "code",
   "execution_count": null,
   "id": "642189a9-4216-44eb-ba41-de5e30122429",
   "metadata": {},
   "outputs": [],
   "source": [
    "pp.RobustScaler(input_cols=scaler_input_cols, output_cols=scaler_output_cols,unit_variance=True).fit_transform(df_test).show()"
   ]
  },
  {
   "cell_type": "markdown",
   "id": "bc5749ef-755d-4db4-b573-a3885b88f718",
   "metadata": {
    "tags": []
   },
   "source": [
    "### Normalizer\n",
    "\n",
    "Normalize individually to unit norm, the Normalizer does not have a inverse transformation method since the transformation values are calculated row by row.\n",
    "\n",
    "The norm to use to normalize each non zero data, l1, l2 or max, l2 is used default.  \n",
    "The l1 norm is calculated as the sum of the absolute values of each column and row.  \n",
    "The l2 norm is calculated as the square root of the sum of the squared column values and row.  \n",
    "The max norm is calculated as the maximum value of the absolute values by column and row.\n",
    "\n",
    "How to save a fitted scaler to be used later see the MinMaxScaler examples above."
   ]
  },
  {
   "cell_type": "code",
   "execution_count": null,
   "id": "835e4b2d-9ba4-46db-b704-c6e3a1704008",
   "metadata": {},
   "outputs": [],
   "source": [
    "ns = pp.Normalizer(input_cols=scaler_input_cols, output_cols=scaler_output_cols)\n",
    "ns.fit(df_test)\n",
    "ns.fitted_values_"
   ]
  },
  {
   "cell_type": "code",
   "execution_count": null,
   "id": "75f596fe-f0e3-45a6-90d8-b2e936bf551f",
   "metadata": {},
   "outputs": [],
   "source": [
    "ns_tr_df = ns.transform(df_test)\n",
    "ns_tr_df.show()"
   ]
  },
  {
   "cell_type": "markdown",
   "id": "752f6534-f855-482e-9fcb-caeab663b7ea",
   "metadata": {},
   "source": [
    "l1 norm"
   ]
  },
  {
   "cell_type": "code",
   "execution_count": null,
   "id": "5ecaafce-3d46-4a7e-b1a4-684a42831800",
   "metadata": {},
   "outputs": [],
   "source": [
    "pp.Normalizer(input_cols=scaler_input_cols, output_cols=scaler_output_cols, norm=\"l1\").fit_transform(df_test).show()"
   ]
  },
  {
   "cell_type": "markdown",
   "id": "df35e52a-39b7-4bf8-8c8e-b7e84e447016",
   "metadata": {},
   "source": [
    "max norm"
   ]
  },
  {
   "cell_type": "code",
   "execution_count": null,
   "id": "1eba60a0-c4e5-4e98-9d79-688cf3670620",
   "metadata": {},
   "outputs": [],
   "source": [
    "pp.Normalizer(input_cols=scaler_input_cols, output_cols=scaler_output_cols, norm=\"max\").fit_transform(df_test).show()"
   ]
  },
  {
   "cell_type": "markdown",
   "id": "96f93b76-fc90-40b5-acf8-adde10539f51",
   "metadata": {},
   "source": [
    "### Binarizer\n",
    "\n",
    "Binarize data (set feature values to 0 or 1) according to a threshold, default 0.0.\n",
    "\n",
    "The Binarizer does not have a inverse transform method.\n",
    "\n",
    "How to save a fitted scaler to be used later see the MinMaxScaler examples above."
   ]
  },
  {
   "cell_type": "code",
   "execution_count": 18,
   "id": "b655e8f9-5164-4f71-8384-5e4d11ddb37b",
   "metadata": {},
   "outputs": [
    {
     "data": {
      "text/plain": [
       "<preprocessing._scalers.Binarizer at 0x7f91d2c8e7c0>"
      ]
     },
     "execution_count": 18,
     "metadata": {},
     "output_type": "execute_result"
    }
   ],
   "source": [
    "bs = pp.Binarizer(input_cols=scaler_input_cols, output_cols=scaler_output_cols)\n",
    "bs.fit(df_test)"
   ]
  },
  {
   "cell_type": "code",
   "execution_count": 19,
   "id": "307fde11-4117-4183-a430-3608b18ddae3",
   "metadata": {},
   "outputs": [
    {
     "name": "stdout",
     "output_type": "stream",
     "text": [
      "-----------------------------------------------------------------------------------------------------------------------------------------------------\n",
      "|\"CUST_ID\"  |\"STATE\"  |\"AREA_CODE\"  |\"INTL_PLAN\"  |\"CALLS\"  |\"MINS\"  |\"DATA\"  |\"DAY_CHARGE\"  |\"INTL_CHARGE\"  |\"CALLS_SCALED\"  |\"DAY_CHARGE_SCALED\"  |\n",
      "-----------------------------------------------------------------------------------------------------------------------------------------------------\n",
      "|0          |ND       |510          |no           |21       |31      |26      |8.8           |11.5           |1               |1                    |\n",
      "|1          |KY       |510          |no           |64       |0       |39      |7.7           |12.2           |1               |1                    |\n",
      "|2          |CA       |408          |no           |78       |22      |75      |4.4           |7.6            |1               |1                    |\n",
      "|3          |NC       |415          |no           |4        |95      |13      |10.4          |8.4            |1               |1                    |\n",
      "|4          |MN       |510          |no           |99       |33      |51      |7.4           |9.2            |1               |1                    |\n",
      "|5          |PA       |415          |no           |3        |76      |93      |9.4           |10.9           |1               |1                    |\n",
      "|6          |WI       |510          |no           |56       |23      |46      |2.0           |8.3            |1               |1                    |\n",
      "|7          |ID       |408          |no           |20       |30      |90      |4.4           |13.7           |1               |1                    |\n",
      "|8          |IA       |510          |no           |71       |60      |31      |9.9           |12.8           |1               |1                    |\n",
      "|9          |WY       |415          |yes          |14       |69      |53      |3.3           |12.1           |1               |1                    |\n",
      "-----------------------------------------------------------------------------------------------------------------------------------------------------\n",
      "\n"
     ]
    }
   ],
   "source": [
    "bs_tr_df = bs.transform(df_test)\n",
    "bs_tr_df.show()"
   ]
  },
  {
   "cell_type": "markdown",
   "id": "caab6406-45df-4e28-a262-96797a1e60af",
   "metadata": {},
   "source": [
    "Threashold 9.5"
   ]
  },
  {
   "cell_type": "code",
   "execution_count": 20,
   "id": "60b982e6-5c1f-4114-98ff-393ac3345e1e",
   "metadata": {},
   "outputs": [
    {
     "name": "stdout",
     "output_type": "stream",
     "text": [
      "-----------------------------------------------------------------------------------------------------------------------------------------------------\n",
      "|\"CUST_ID\"  |\"STATE\"  |\"AREA_CODE\"  |\"INTL_PLAN\"  |\"CALLS\"  |\"MINS\"  |\"DATA\"  |\"DAY_CHARGE\"  |\"INTL_CHARGE\"  |\"CALLS_SCALED\"  |\"DAY_CHARGE_SCALED\"  |\n",
      "-----------------------------------------------------------------------------------------------------------------------------------------------------\n",
      "|0          |ND       |510          |no           |21       |31      |26      |8.8           |11.5           |1               |0                    |\n",
      "|1          |KY       |510          |no           |64       |0       |39      |7.7           |12.2           |1               |0                    |\n",
      "|2          |CA       |408          |no           |78       |22      |75      |4.4           |7.6            |1               |0                    |\n",
      "|3          |NC       |415          |no           |4        |95      |13      |10.4          |8.4            |0               |1                    |\n",
      "|4          |MN       |510          |no           |99       |33      |51      |7.4           |9.2            |1               |0                    |\n",
      "|5          |PA       |415          |no           |3        |76      |93      |9.4           |10.9           |0               |0                    |\n",
      "|6          |WI       |510          |no           |56       |23      |46      |2.0           |8.3            |1               |0                    |\n",
      "|7          |ID       |408          |no           |20       |30      |90      |4.4           |13.7           |1               |0                    |\n",
      "|8          |IA       |510          |no           |71       |60      |31      |9.9           |12.8           |1               |1                    |\n",
      "|9          |WY       |415          |yes          |14       |69      |53      |3.3           |12.1           |1               |0                    |\n",
      "-----------------------------------------------------------------------------------------------------------------------------------------------------\n",
      "\n"
     ]
    }
   ],
   "source": [
    "pp.Binarizer(input_cols=scaler_input_cols, output_cols=scaler_output_cols, threshold=9.5).fit_transform(df_test).show()"
   ]
  },
  {
   "cell_type": "markdown",
   "id": "fc59b793-3f0e-44a7-a142-64130350d87a",
   "metadata": {
    "tags": []
   },
   "source": [
    "## Encoders\n",
    "\n",
    "Start by setting what columns to use for encoding, if none are provided all columns in a DataFrame will be used.\n",
    "\n",
    "Output columns are created automatically if **categories**=\"auto\" otherwise a category column mapping needs to be providedwith the **categories** parameter.\n",
    "\n",
    "We are also generating a Snowpark DataFrame with unkown values to demo how that can be handled"
   ]
  },
  {
   "cell_type": "code",
   "execution_count": 21,
   "id": "d609b0ce-3af3-40ce-bc47-30fd994d88bb",
   "metadata": {},
   "outputs": [],
   "source": [
    "encoder_input_cols = [\"STATE\", \"AREA_CODE\", \"INTL_PLAN\"]\n",
    "df_unknown = session.create_dataframe([['XX', 415, 'yes'], ['ZZ', 351, 'XY']], schema=encoder_input_cols)"
   ]
  },
  {
   "cell_type": "markdown",
   "id": "d1f834eb-3137-4287-93eb-aef41ac26d03",
   "metadata": {},
   "source": [
    "### OneHotEncoder\n",
    "Encode categorical features as a one-hot, for each input column a new column for each category is created.\n",
    "\n",
    "How to save a fitted encoder to be used later see the MinMaxScaler examples above."
   ]
  },
  {
   "cell_type": "code",
   "execution_count": 22,
   "id": "0f86f2fb-9faf-40ff-b900-b9fa55d92512",
   "metadata": {},
   "outputs": [
    {
     "data": {
      "text/plain": [
       "<preprocessing._encoders.OneHotEncoder at 0x7f91d2b7ec70>"
      ]
     },
     "execution_count": 22,
     "metadata": {},
     "output_type": "execute_result"
    }
   ],
   "source": [
    "ohe = pp.OneHotEncoder(input_cols=encoder_input_cols)\n",
    "ohe.fit(df_test)"
   ]
  },
  {
   "cell_type": "markdown",
   "id": "962e74d5-51a9-456c-89fc-1cafd000bb6e",
   "metadata": {},
   "source": [
    "By default the input columns are dropped from the returning DataFrame during transform"
   ]
  },
  {
   "cell_type": "code",
   "execution_count": 23,
   "id": "de392b54-1303-438b-b146-97cf940422e3",
   "metadata": {},
   "outputs": [
    {
     "name": "stdout",
     "output_type": "stream",
     "text": [
      "--------------------------------------------------------------------------------------------------------------------------------------------------------------------------------------------------------------------------------------------------------------------------------------------------------------------------------------------------------------------------------------------------------------------------------------------------------------------------------------------------------------------------------------------------------------------------------------------------------------------------------------------------------------------------------------------------------------------------------------------------------------------------------------------------------------------------------------------------------\n",
      "|\"CUST_ID\"  |\"CALLS\"  |\"MINS\"  |\"DATA\"  |\"DAY_CHARGE\"  |\"INTL_CHARGE\"  |\"STATE_AK\"  |\"STATE_AL\"  |\"STATE_AR\"  |\"STATE_AZ\"  |\"STATE_CA\"  |\"STATE_CO\"  |\"STATE_CT\"  |\"STATE_DC\"  |\"STATE_DE\"  |\"STATE_FL\"  |\"STATE_GA\"  |\"STATE_HI\"  |\"STATE_IA\"  |\"STATE_ID\"  |\"STATE_IL\"  |\"STATE_IN\"  |\"STATE_KS\"  |\"STATE_KY\"  |\"STATE_LA\"  |\"STATE_MA\"  |\"STATE_MD\"  |\"STATE_ME\"  |\"STATE_MI\"  |\"STATE_MN\"  |\"STATE_MO\"  |\"STATE_MS\"  |\"STATE_MT\"  |\"STATE_NC\"  |\"STATE_ND\"  |\"STATE_NE\"  |\"STATE_NH\"  |\"STATE_NJ\"  |\"STATE_NM\"  |\"STATE_NV\"  |\"STATE_NY\"  |\"STATE_OH\"  |\"STATE_OK\"  |\"STATE_OR\"  |\"STATE_PA\"  |\"STATE_RI\"  |\"STATE_SC\"  |\"STATE_SD\"  |\"STATE_TN\"  |\"STATE_TX\"  |\"STATE_UT\"  |\"STATE_VA\"  |\"STATE_VT\"  |\"STATE_WA\"  |\"STATE_WI\"  |\"STATE_WV\"  |\"STATE_WY\"  |\"AREA_CODE_408\"  |\"AREA_CODE_415\"  |\"AREA_CODE_510\"  |\"INTL_PLAN_NO\"  |\"INTL_PLAN_YES\"  |\n",
      "--------------------------------------------------------------------------------------------------------------------------------------------------------------------------------------------------------------------------------------------------------------------------------------------------------------------------------------------------------------------------------------------------------------------------------------------------------------------------------------------------------------------------------------------------------------------------------------------------------------------------------------------------------------------------------------------------------------------------------------------------------------------------------------------------------------------------------------------------------\n",
      "|0          |21       |31      |26      |8.8           |11.5           |0           |0           |0           |0           |0           |0           |0           |0           |0           |0           |0           |0           |0           |0           |0           |0           |0           |0           |0           |0           |0           |0           |0           |0           |0           |0           |0           |0           |1           |0           |0           |0           |0           |0           |0           |0           |0           |0           |0           |0           |0           |0           |0           |0           |0           |0           |0           |0           |0           |0           |0           |0                |0                |1                |1               |0                |\n",
      "|1          |64       |0       |39      |7.7           |12.2           |0           |0           |0           |0           |0           |0           |0           |0           |0           |0           |0           |0           |0           |0           |0           |0           |0           |1           |0           |0           |0           |0           |0           |0           |0           |0           |0           |0           |0           |0           |0           |0           |0           |0           |0           |0           |0           |0           |0           |0           |0           |0           |0           |0           |0           |0           |0           |0           |0           |0           |0           |0                |0                |1                |1               |0                |\n",
      "|2          |78       |22      |75      |4.4           |7.6            |0           |0           |0           |0           |1           |0           |0           |0           |0           |0           |0           |0           |0           |0           |0           |0           |0           |0           |0           |0           |0           |0           |0           |0           |0           |0           |0           |0           |0           |0           |0           |0           |0           |0           |0           |0           |0           |0           |0           |0           |0           |0           |0           |0           |0           |0           |0           |0           |0           |0           |0           |1                |0                |0                |1               |0                |\n",
      "|3          |4        |95      |13      |10.4          |8.4            |0           |0           |0           |0           |0           |0           |0           |0           |0           |0           |0           |0           |0           |0           |0           |0           |0           |0           |0           |0           |0           |0           |0           |0           |0           |0           |0           |1           |0           |0           |0           |0           |0           |0           |0           |0           |0           |0           |0           |0           |0           |0           |0           |0           |0           |0           |0           |0           |0           |0           |0           |0                |1                |0                |1               |0                |\n",
      "|4          |99       |33      |51      |7.4           |9.2            |0           |0           |0           |0           |0           |0           |0           |0           |0           |0           |0           |0           |0           |0           |0           |0           |0           |0           |0           |0           |0           |0           |0           |1           |0           |0           |0           |0           |0           |0           |0           |0           |0           |0           |0           |0           |0           |0           |0           |0           |0           |0           |0           |0           |0           |0           |0           |0           |0           |0           |0           |0                |0                |1                |1               |0                |\n",
      "|5          |3        |76      |93      |9.4           |10.9           |0           |0           |0           |0           |0           |0           |0           |0           |0           |0           |0           |0           |0           |0           |0           |0           |0           |0           |0           |0           |0           |0           |0           |0           |0           |0           |0           |0           |0           |0           |0           |0           |0           |0           |0           |0           |0           |0           |1           |0           |0           |0           |0           |0           |0           |0           |0           |0           |0           |0           |0           |0                |1                |0                |1               |0                |\n",
      "|6          |56       |23      |46      |2.0           |8.3            |0           |0           |0           |0           |0           |0           |0           |0           |0           |0           |0           |0           |0           |0           |0           |0           |0           |0           |0           |0           |0           |0           |0           |0           |0           |0           |0           |0           |0           |0           |0           |0           |0           |0           |0           |0           |0           |0           |0           |0           |0           |0           |0           |0           |0           |0           |0           |0           |1           |0           |0           |0                |0                |1                |1               |0                |\n",
      "|7          |20       |30      |90      |4.4           |13.7           |0           |0           |0           |0           |0           |0           |0           |0           |0           |0           |0           |0           |0           |1           |0           |0           |0           |0           |0           |0           |0           |0           |0           |0           |0           |0           |0           |0           |0           |0           |0           |0           |0           |0           |0           |0           |0           |0           |0           |0           |0           |0           |0           |0           |0           |0           |0           |0           |0           |0           |0           |1                |0                |0                |1               |0                |\n",
      "|8          |71       |60      |31      |9.9           |12.8           |0           |0           |0           |0           |0           |0           |0           |0           |0           |0           |0           |0           |1           |0           |0           |0           |0           |0           |0           |0           |0           |0           |0           |0           |0           |0           |0           |0           |0           |0           |0           |0           |0           |0           |0           |0           |0           |0           |0           |0           |0           |0           |0           |0           |0           |0           |0           |0           |0           |0           |0           |0                |0                |1                |1               |0                |\n",
      "|9          |14       |69      |53      |3.3           |12.1           |0           |0           |0           |0           |0           |0           |0           |0           |0           |0           |0           |0           |0           |0           |0           |0           |0           |0           |0           |0           |0           |0           |0           |0           |0           |0           |0           |0           |0           |0           |0           |0           |0           |0           |0           |0           |0           |0           |0           |0           |0           |0           |0           |0           |0           |0           |0           |0           |0           |0           |1           |0                |1                |0                |0               |1                |\n",
      "--------------------------------------------------------------------------------------------------------------------------------------------------------------------------------------------------------------------------------------------------------------------------------------------------------------------------------------------------------------------------------------------------------------------------------------------------------------------------------------------------------------------------------------------------------------------------------------------------------------------------------------------------------------------------------------------------------------------------------------------------------------------------------------------------------------------------------------------------------\n",
      "\n"
     ]
    }
   ],
   "source": [
    "ohe_tr_df = ohe.transform(df_test)\n",
    "ohe_tr_df.show()"
   ]
  },
  {
   "cell_type": "markdown",
   "id": "10822773-9dbb-49e0-bc63-ac5f0423dd76",
   "metadata": {},
   "source": [
    "**inverse_transform** will return the original columns and drop the output columns from the returned DataFrame"
   ]
  },
  {
   "cell_type": "code",
   "execution_count": 25,
   "id": "76ec9c1b-227a-4c24-8546-c76c256006d8",
   "metadata": {},
   "outputs": [
    {
     "name": "stdout",
     "output_type": "stream",
     "text": [
      "--------------------------------------------------------------------------------------------------------------\n",
      "|\"CUST_ID\"  |\"CALLS\"  |\"MINS\"  |\"DATA\"  |\"DAY_CHARGE\"  |\"INTL_CHARGE\"  |\"STATE\"  |\"AREA_CODE\"  |\"INTL_PLAN\"  |\n",
      "--------------------------------------------------------------------------------------------------------------\n",
      "|0          |21       |31      |26      |8.8           |11.5           |ND       |510          |no           |\n",
      "|1          |64       |0       |39      |7.7           |12.2           |KY       |510          |no           |\n",
      "|2          |78       |22      |75      |4.4           |7.6            |CA       |408          |no           |\n",
      "|3          |4        |95      |13      |10.4          |8.4            |NC       |415          |no           |\n",
      "|4          |99       |33      |51      |7.4           |9.2            |MN       |510          |no           |\n",
      "|5          |3        |76      |93      |9.4           |10.9           |PA       |415          |no           |\n",
      "|6          |56       |23      |46      |2.0           |8.3            |WI       |510          |no           |\n",
      "|7          |20       |30      |90      |4.4           |13.7           |ID       |408          |no           |\n",
      "|8          |71       |60      |31      |9.9           |12.8           |IA       |510          |no           |\n",
      "|9          |14       |69      |53      |3.3           |12.1           |WY       |415          |yes          |\n",
      "--------------------------------------------------------------------------------------------------------------\n",
      "\n"
     ]
    }
   ],
   "source": [
    "ohe.inverse_transform(ohe_tr_df).show()"
   ]
  },
  {
   "cell_type": "markdown",
   "id": "d88ca553-9a50-44c5-90d6-be1af0a642bd",
   "metadata": {},
   "source": [
    "Setting **drop_input_cols**=False will keep input columns in the returned DataFrame"
   ]
  },
  {
   "cell_type": "code",
   "execution_count": 26,
   "id": "fa449096-36b0-4e33-9859-516def4f3b40",
   "metadata": {},
   "outputs": [
    {
     "name": "stdout",
     "output_type": "stream",
     "text": [
      "----------------------------------------------------------------------------------------------------------------------------------------------------------------------------------------------------------------------------------------------------------------------------------------------------------------------------------------------------------------------------------------------------------------------------------------------------------------------------------------------------------------------------------------------------------------------------------------------------------------------------------------------------------------------------------------------------------------------------------------------------------------------------------------------------------------------------------------------------------------------------------------------\n",
      "|\"CUST_ID\"  |\"STATE\"  |\"AREA_CODE\"  |\"INTL_PLAN\"  |\"CALLS\"  |\"MINS\"  |\"DATA\"  |\"DAY_CHARGE\"  |\"INTL_CHARGE\"  |\"STATE_AK\"  |\"STATE_AL\"  |\"STATE_AR\"  |\"STATE_AZ\"  |\"STATE_CA\"  |\"STATE_CO\"  |\"STATE_CT\"  |\"STATE_DC\"  |\"STATE_DE\"  |\"STATE_FL\"  |\"STATE_GA\"  |\"STATE_HI\"  |\"STATE_IA\"  |\"STATE_ID\"  |\"STATE_IL\"  |\"STATE_IN\"  |\"STATE_KS\"  |\"STATE_KY\"  |\"STATE_LA\"  |\"STATE_MA\"  |\"STATE_MD\"  |\"STATE_ME\"  |\"STATE_MI\"  |\"STATE_MN\"  |\"STATE_MO\"  |\"STATE_MS\"  |\"STATE_MT\"  |\"STATE_NC\"  |\"STATE_ND\"  |\"STATE_NE\"  |\"STATE_NH\"  |\"STATE_NJ\"  |\"STATE_NM\"  |\"STATE_NV\"  |\"STATE_NY\"  |\"STATE_OH\"  |\"STATE_OK\"  |\"STATE_OR\"  |\"STATE_PA\"  |\"STATE_RI\"  |\"STATE_SC\"  |\"STATE_SD\"  |\"STATE_TN\"  |\"STATE_TX\"  |\"STATE_UT\"  |\"STATE_VA\"  |\"STATE_VT\"  |\"STATE_WA\"  |\"STATE_WI\"  |\"STATE_WV\"  |\"STATE_WY\"  |\"AREA_CODE_408\"  |\"AREA_CODE_415\"  |\"AREA_CODE_510\"  |\"INTL_PLAN_NO\"  |\"INTL_PLAN_YES\"  |\n",
      "----------------------------------------------------------------------------------------------------------------------------------------------------------------------------------------------------------------------------------------------------------------------------------------------------------------------------------------------------------------------------------------------------------------------------------------------------------------------------------------------------------------------------------------------------------------------------------------------------------------------------------------------------------------------------------------------------------------------------------------------------------------------------------------------------------------------------------------------------------------------------------------------\n",
      "|0          |ND       |510          |no           |21       |31      |26      |8.8           |11.5           |0           |0           |0           |0           |0           |0           |0           |0           |0           |0           |0           |0           |0           |0           |0           |0           |0           |0           |0           |0           |0           |0           |0           |0           |0           |0           |0           |0           |1           |0           |0           |0           |0           |0           |0           |0           |0           |0           |0           |0           |0           |0           |0           |0           |0           |0           |0           |0           |0           |0           |0           |0                |0                |1                |1               |0                |\n",
      "|1          |KY       |510          |no           |64       |0       |39      |7.7           |12.2           |0           |0           |0           |0           |0           |0           |0           |0           |0           |0           |0           |0           |0           |0           |0           |0           |0           |1           |0           |0           |0           |0           |0           |0           |0           |0           |0           |0           |0           |0           |0           |0           |0           |0           |0           |0           |0           |0           |0           |0           |0           |0           |0           |0           |0           |0           |0           |0           |0           |0           |0           |0                |0                |1                |1               |0                |\n",
      "|2          |CA       |408          |no           |78       |22      |75      |4.4           |7.6            |0           |0           |0           |0           |1           |0           |0           |0           |0           |0           |0           |0           |0           |0           |0           |0           |0           |0           |0           |0           |0           |0           |0           |0           |0           |0           |0           |0           |0           |0           |0           |0           |0           |0           |0           |0           |0           |0           |0           |0           |0           |0           |0           |0           |0           |0           |0           |0           |0           |0           |0           |1                |0                |0                |1               |0                |\n",
      "|3          |NC       |415          |no           |4        |95      |13      |10.4          |8.4            |0           |0           |0           |0           |0           |0           |0           |0           |0           |0           |0           |0           |0           |0           |0           |0           |0           |0           |0           |0           |0           |0           |0           |0           |0           |0           |0           |1           |0           |0           |0           |0           |0           |0           |0           |0           |0           |0           |0           |0           |0           |0           |0           |0           |0           |0           |0           |0           |0           |0           |0           |0                |1                |0                |1               |0                |\n",
      "|4          |MN       |510          |no           |99       |33      |51      |7.4           |9.2            |0           |0           |0           |0           |0           |0           |0           |0           |0           |0           |0           |0           |0           |0           |0           |0           |0           |0           |0           |0           |0           |0           |0           |1           |0           |0           |0           |0           |0           |0           |0           |0           |0           |0           |0           |0           |0           |0           |0           |0           |0           |0           |0           |0           |0           |0           |0           |0           |0           |0           |0           |0                |0                |1                |1               |0                |\n",
      "|5          |PA       |415          |no           |3        |76      |93      |9.4           |10.9           |0           |0           |0           |0           |0           |0           |0           |0           |0           |0           |0           |0           |0           |0           |0           |0           |0           |0           |0           |0           |0           |0           |0           |0           |0           |0           |0           |0           |0           |0           |0           |0           |0           |0           |0           |0           |0           |0           |1           |0           |0           |0           |0           |0           |0           |0           |0           |0           |0           |0           |0           |0                |1                |0                |1               |0                |\n",
      "|6          |WI       |510          |no           |56       |23      |46      |2.0           |8.3            |0           |0           |0           |0           |0           |0           |0           |0           |0           |0           |0           |0           |0           |0           |0           |0           |0           |0           |0           |0           |0           |0           |0           |0           |0           |0           |0           |0           |0           |0           |0           |0           |0           |0           |0           |0           |0           |0           |0           |0           |0           |0           |0           |0           |0           |0           |0           |0           |1           |0           |0           |0                |0                |1                |1               |0                |\n",
      "|7          |ID       |408          |no           |20       |30      |90      |4.4           |13.7           |0           |0           |0           |0           |0           |0           |0           |0           |0           |0           |0           |0           |0           |1           |0           |0           |0           |0           |0           |0           |0           |0           |0           |0           |0           |0           |0           |0           |0           |0           |0           |0           |0           |0           |0           |0           |0           |0           |0           |0           |0           |0           |0           |0           |0           |0           |0           |0           |0           |0           |0           |1                |0                |0                |1               |0                |\n",
      "|8          |IA       |510          |no           |71       |60      |31      |9.9           |12.8           |0           |0           |0           |0           |0           |0           |0           |0           |0           |0           |0           |0           |1           |0           |0           |0           |0           |0           |0           |0           |0           |0           |0           |0           |0           |0           |0           |0           |0           |0           |0           |0           |0           |0           |0           |0           |0           |0           |0           |0           |0           |0           |0           |0           |0           |0           |0           |0           |0           |0           |0           |0                |0                |1                |1               |0                |\n",
      "|9          |WY       |415          |yes          |14       |69      |53      |3.3           |12.1           |0           |0           |0           |0           |0           |0           |0           |0           |0           |0           |0           |0           |0           |0           |0           |0           |0           |0           |0           |0           |0           |0           |0           |0           |0           |0           |0           |0           |0           |0           |0           |0           |0           |0           |0           |0           |0           |0           |0           |0           |0           |0           |0           |0           |0           |0           |0           |0           |0           |0           |1           |0                |1                |0                |0               |1                |\n",
      "----------------------------------------------------------------------------------------------------------------------------------------------------------------------------------------------------------------------------------------------------------------------------------------------------------------------------------------------------------------------------------------------------------------------------------------------------------------------------------------------------------------------------------------------------------------------------------------------------------------------------------------------------------------------------------------------------------------------------------------------------------------------------------------------------------------------------------------------------------------------------------------------\n",
      "\n"
     ]
    }
   ],
   "source": [
    "ohe_keep_input = pp.OneHotEncoder(input_cols=encoder_input_cols, drop_input_cols=False)\n",
    "ohe_keep_input_tr_df = ohe_keep_input.fit_transform(df_test)\n",
    "ohe_keep_input_tr_df.show()"
   ]
  },
  {
   "cell_type": "markdown",
   "id": "4d89a52f-7dc3-40fe-aa72-b87a3f48adf1",
   "metadata": {},
   "source": [
    "**inverse_transform** will behave the same, even with **drop_input_cols**=False"
   ]
  },
  {
   "cell_type": "code",
   "execution_count": 27,
   "id": "077b86c7-0cfd-4474-b040-bfe547ea52a3",
   "metadata": {},
   "outputs": [
    {
     "name": "stdout",
     "output_type": "stream",
     "text": [
      "--------------------------------------------------------------------------------------------------------------\n",
      "|\"CUST_ID\"  |\"CALLS\"  |\"MINS\"  |\"DATA\"  |\"DAY_CHARGE\"  |\"INTL_CHARGE\"  |\"STATE\"  |\"AREA_CODE\"  |\"INTL_PLAN\"  |\n",
      "--------------------------------------------------------------------------------------------------------------\n",
      "|0          |21       |31      |26      |8.8           |11.5           |ND       |510          |no           |\n",
      "|1          |64       |0       |39      |7.7           |12.2           |KY       |510          |no           |\n",
      "|2          |78       |22      |75      |4.4           |7.6            |CA       |408          |no           |\n",
      "|3          |4        |95      |13      |10.4          |8.4            |NC       |415          |no           |\n",
      "|4          |99       |33      |51      |7.4           |9.2            |MN       |510          |no           |\n",
      "|5          |3        |76      |93      |9.4           |10.9           |PA       |415          |no           |\n",
      "|6          |56       |23      |46      |2.0           |8.3            |WI       |510          |no           |\n",
      "|7          |20       |30      |90      |4.4           |13.7           |ID       |408          |no           |\n",
      "|8          |71       |60      |31      |9.9           |12.8           |IA       |510          |no           |\n",
      "|9          |14       |69      |53      |3.3           |12.1           |WY       |415          |yes          |\n",
      "--------------------------------------------------------------------------------------------------------------\n",
      "\n"
     ]
    }
   ],
   "source": [
    "ohe_keep_input.inverse_transform(ohe_keep_input_tr_df).show()"
   ]
  },
  {
   "cell_type": "markdown",
   "id": "cf14a540-5f6e-498f-9d5e-89be163d3d06",
   "metadata": {},
   "source": [
    "By default unkown values, ie values that was not present duing the fit, is ignored"
   ]
  },
  {
   "cell_type": "code",
   "execution_count": 28,
   "id": "b37efb33-fc5c-4962-954f-e79c0c91c773",
   "metadata": {},
   "outputs": [
    {
     "name": "stdout",
     "output_type": "stream",
     "text": [
      "-----------------------------------------------------------------------------------------------------------------------------------------------------------------------------------------------------------------------------------------------------------------------------------------------------------------------------------------------------------------------------------------------------------------------------------------------------------------------------------------------------------------------------------------------------------------------------------------------------------------------------------------------------------------------------------------------------------------------------------------------------------------------------------------------------------------------\n",
      "|\"STATE\"  |\"AREA_CODE\"  |\"INTL_PLAN\"  |\"STATE_AK\"  |\"STATE_AL\"  |\"STATE_AR\"  |\"STATE_AZ\"  |\"STATE_CA\"  |\"STATE_CO\"  |\"STATE_CT\"  |\"STATE_DC\"  |\"STATE_DE\"  |\"STATE_FL\"  |\"STATE_GA\"  |\"STATE_HI\"  |\"STATE_IA\"  |\"STATE_ID\"  |\"STATE_IL\"  |\"STATE_IN\"  |\"STATE_KS\"  |\"STATE_KY\"  |\"STATE_LA\"  |\"STATE_MA\"  |\"STATE_MD\"  |\"STATE_ME\"  |\"STATE_MI\"  |\"STATE_MN\"  |\"STATE_MO\"  |\"STATE_MS\"  |\"STATE_MT\"  |\"STATE_NC\"  |\"STATE_ND\"  |\"STATE_NE\"  |\"STATE_NH\"  |\"STATE_NJ\"  |\"STATE_NM\"  |\"STATE_NV\"  |\"STATE_NY\"  |\"STATE_OH\"  |\"STATE_OK\"  |\"STATE_OR\"  |\"STATE_PA\"  |\"STATE_RI\"  |\"STATE_SC\"  |\"STATE_SD\"  |\"STATE_TN\"  |\"STATE_TX\"  |\"STATE_UT\"  |\"STATE_VA\"  |\"STATE_VT\"  |\"STATE_WA\"  |\"STATE_WI\"  |\"STATE_WV\"  |\"STATE_WY\"  |\"AREA_CODE_408\"  |\"AREA_CODE_415\"  |\"AREA_CODE_510\"  |\"INTL_PLAN_NO\"  |\"INTL_PLAN_YES\"  |\n",
      "-----------------------------------------------------------------------------------------------------------------------------------------------------------------------------------------------------------------------------------------------------------------------------------------------------------------------------------------------------------------------------------------------------------------------------------------------------------------------------------------------------------------------------------------------------------------------------------------------------------------------------------------------------------------------------------------------------------------------------------------------------------------------------------------------------------------------\n",
      "|XX       |415          |yes          |0           |0           |0           |0           |0           |0           |0           |0           |0           |0           |0           |0           |0           |0           |0           |0           |0           |0           |0           |0           |0           |0           |0           |0           |0           |0           |0           |0           |0           |0           |0           |0           |0           |0           |0           |0           |0           |0           |0           |0           |0           |0           |0           |0           |0           |0           |0           |0           |0           |0           |0           |0                |1                |0                |0               |1                |\n",
      "|ZZ       |351          |XY           |0           |0           |0           |0           |0           |0           |0           |0           |0           |0           |0           |0           |0           |0           |0           |0           |0           |0           |0           |0           |0           |0           |0           |0           |0           |0           |0           |0           |0           |0           |0           |0           |0           |0           |0           |0           |0           |0           |0           |0           |0           |0           |0           |0           |0           |0           |0           |0           |0           |0           |0           |0                |0                |0                |0               |0                |\n",
      "-----------------------------------------------------------------------------------------------------------------------------------------------------------------------------------------------------------------------------------------------------------------------------------------------------------------------------------------------------------------------------------------------------------------------------------------------------------------------------------------------------------------------------------------------------------------------------------------------------------------------------------------------------------------------------------------------------------------------------------------------------------------------------------------------------------------------\n",
      "\n"
     ]
    }
   ],
   "source": [
    "ohe_ignore_unk = pp.OneHotEncoder(input_cols=encoder_input_cols, drop_input_cols=False)\n",
    "ohe_ignore_unk.fit(df_test)\n",
    "ohe_keep_ignore_tr_df = ohe_ignore_unk.transform(df_unknown)\n",
    "ohe_keep_ignore_tr_df.show()"
   ]
  },
  {
   "cell_type": "markdown",
   "id": "339c0a70-1492-490b-94b4-46f6ac9fd67b",
   "metadata": {},
   "source": [
    "With **inverse_transform** unkown values will be NULL in the returning DataFrame"
   ]
  },
  {
   "cell_type": "code",
   "execution_count": 29,
   "id": "46344600-c8be-488a-a290-de34b4b7466f",
   "metadata": {},
   "outputs": [
    {
     "name": "stdout",
     "output_type": "stream",
     "text": [
      "---------------------------------------\n",
      "|\"STATE\"  |\"AREA_CODE\"  |\"INTL_PLAN\"  |\n",
      "---------------------------------------\n",
      "|NULL     |415          |yes          |\n",
      "|NULL     |NULL         |NULL         |\n",
      "---------------------------------------\n",
      "\n"
     ]
    }
   ],
   "source": [
    "ohe_ignore_unk.inverse_transform(ohe_keep_ignore_tr_df).show()"
   ]
  },
  {
   "cell_type": "markdown",
   "id": "8c732432-65d6-479c-beb6-cadb8f115b53",
   "metadata": {},
   "source": [
    "Setting **handle_unknown**='keep' will create a unkown column for each feature that is set for 1 for all new values"
   ]
  },
  {
   "cell_type": "code",
   "execution_count": 30,
   "id": "6df539cd-8cf1-4976-9398-5ddfa9457984",
   "metadata": {},
   "outputs": [
    {
     "name": "stdout",
     "output_type": "stream",
     "text": [
      "----------------------------------------------------------------------------------------------------------------------------------------------------------------------------------------------------------------------------------------------------------------------------------------------------------------------------------------------------------------------------------------------------------------------------------------------------------------------------------------------------------------------------------------------------------------------------------------------------------------------------------------------------------------------------------------------------------------------------------------------------------------------------------------------------------------------------------------------------------------------------------------\n",
      "|\"STATE\"  |\"AREA_CODE\"  |\"INTL_PLAN\"  |\"STATE_AK\"  |\"STATE_AL\"  |\"STATE_AR\"  |\"STATE_AZ\"  |\"STATE_CA\"  |\"STATE_CO\"  |\"STATE_CT\"  |\"STATE_DC\"  |\"STATE_DE\"  |\"STATE_FL\"  |\"STATE_GA\"  |\"STATE_HI\"  |\"STATE_IA\"  |\"STATE_ID\"  |\"STATE_IL\"  |\"STATE_IN\"  |\"STATE_KS\"  |\"STATE_KY\"  |\"STATE_LA\"  |\"STATE_MA\"  |\"STATE_MD\"  |\"STATE_ME\"  |\"STATE_MI\"  |\"STATE_MN\"  |\"STATE_MO\"  |\"STATE_MS\"  |\"STATE_MT\"  |\"STATE_NC\"  |\"STATE_ND\"  |\"STATE_NE\"  |\"STATE_NH\"  |\"STATE_NJ\"  |\"STATE_NM\"  |\"STATE_NV\"  |\"STATE_NY\"  |\"STATE_OH\"  |\"STATE_OK\"  |\"STATE_OR\"  |\"STATE_PA\"  |\"STATE_RI\"  |\"STATE_SC\"  |\"STATE_SD\"  |\"STATE_TN\"  |\"STATE_TX\"  |\"STATE_UT\"  |\"STATE_VA\"  |\"STATE_VT\"  |\"STATE_WA\"  |\"STATE_WI\"  |\"STATE_WV\"  |\"STATE_WY\"  |\"STATE__UNKNOWN\"  |\"AREA_CODE_408\"  |\"AREA_CODE_415\"  |\"AREA_CODE_510\"  |\"AREA_CODE__UNKNOWN\"  |\"INTL_PLAN_NO\"  |\"INTL_PLAN_YES\"  |\"INTL_PLAN__UNKNOWN\"  |\n",
      "----------------------------------------------------------------------------------------------------------------------------------------------------------------------------------------------------------------------------------------------------------------------------------------------------------------------------------------------------------------------------------------------------------------------------------------------------------------------------------------------------------------------------------------------------------------------------------------------------------------------------------------------------------------------------------------------------------------------------------------------------------------------------------------------------------------------------------------------------------------------------------------\n",
      "|XX       |415          |yes          |0           |0           |0           |0           |0           |0           |0           |0           |0           |0           |0           |0           |0           |0           |0           |0           |0           |0           |0           |0           |0           |0           |0           |0           |0           |0           |0           |0           |0           |0           |0           |0           |0           |0           |0           |0           |0           |0           |0           |0           |0           |0           |0           |0           |0           |0           |0           |0           |0           |0           |0           |1                 |0                |1                |0                |0                     |0               |1                |0                     |\n",
      "|ZZ       |351          |XY           |0           |0           |0           |0           |0           |0           |0           |0           |0           |0           |0           |0           |0           |0           |0           |0           |0           |0           |0           |0           |0           |0           |0           |0           |0           |0           |0           |0           |0           |0           |0           |0           |0           |0           |0           |0           |0           |0           |0           |0           |0           |0           |0           |0           |0           |0           |0           |0           |0           |0           |0           |1                 |0                |0                |0                |1                     |0               |0                |1                     |\n",
      "----------------------------------------------------------------------------------------------------------------------------------------------------------------------------------------------------------------------------------------------------------------------------------------------------------------------------------------------------------------------------------------------------------------------------------------------------------------------------------------------------------------------------------------------------------------------------------------------------------------------------------------------------------------------------------------------------------------------------------------------------------------------------------------------------------------------------------------------------------------------------------------\n",
      "\n"
     ]
    }
   ],
   "source": [
    "ohe_keep_unk = pp.OneHotEncoder(input_cols=encoder_input_cols, handle_unknown='keep', drop_input_cols=False)\n",
    "ohe_keep_unk.fit(df_test)\n",
    "ohe_keep_unk_tr_df = ohe_keep_unk.transform(df_unknown)\n",
    "ohe_keep_unk_tr_df.show()"
   ]
  },
  {
   "cell_type": "markdown",
   "id": "d9c62cd6-6d11-4659-9e4e-2aa1fca77ae8",
   "metadata": {},
   "source": [
    "**inverse_transform** with unkown and  handle_unknown='keep' will return NULL for the unkown values"
   ]
  },
  {
   "cell_type": "code",
   "execution_count": 31,
   "id": "88198a50-506a-4515-8c91-eec10d741f22",
   "metadata": {},
   "outputs": [
    {
     "name": "stdout",
     "output_type": "stream",
     "text": [
      "---------------------------------------\n",
      "|\"STATE\"  |\"AREA_CODE\"  |\"INTL_PLAN\"  |\n",
      "---------------------------------------\n",
      "|NULL     |415          |yes          |\n",
      "|NULL     |NULL         |NULL         |\n",
      "---------------------------------------\n",
      "\n"
     ]
    }
   ],
   "source": [
    "ohe_keep_unk.inverse_transform(ohe_keep_unk_tr_df).show()"
   ]
  },
  {
   "cell_type": "markdown",
   "id": "65e82687-7daa-4d29-99e9-d2aa3c6a84d0",
   "metadata": {},
   "source": [
    "Column category mapping can be set manual by providing a dictonary to the **categories** parameter."
   ]
  },
  {
   "cell_type": "code",
   "execution_count": 32,
   "id": "5f01386b-7328-41a5-bcf2-2209b3f46ab5",
   "metadata": {},
   "outputs": [
    {
     "name": "stdout",
     "output_type": "stream",
     "text": [
      "---------------------------------------------------------------------------------------------------------------------------------------------------------------------------\n",
      "|\"CUST_ID\"  |\"STATE\"  |\"CALLS\"  |\"MINS\"  |\"DATA\"  |\"DAY_CHARGE\"  |\"INTL_CHARGE\"  |\"AREA_CODE_408\"  |\"AREA_CODE_415\"  |\"AREA_CODE_510\"  |\"INTL_PLAN_NO\"  |\"INTL_PLAN_YES\"  |\n",
      "---------------------------------------------------------------------------------------------------------------------------------------------------------------------------\n",
      "|0          |ND       |21       |31      |26      |8.8           |11.5           |0                |0                |1                |1               |0                |\n",
      "|1          |KY       |64       |0       |39      |7.7           |12.2           |0                |0                |1                |1               |0                |\n",
      "|2          |CA       |78       |22      |75      |4.4           |7.6            |1                |0                |0                |1               |0                |\n",
      "|3          |NC       |4        |95      |13      |10.4          |8.4            |0                |1                |0                |1               |0                |\n",
      "|4          |MN       |99       |33      |51      |7.4           |9.2            |0                |0                |1                |1               |0                |\n",
      "|5          |PA       |3        |76      |93      |9.4           |10.9           |0                |1                |0                |1               |0                |\n",
      "|6          |WI       |56       |23      |46      |2.0           |8.3            |0                |0                |1                |1               |0                |\n",
      "|7          |ID       |20       |30      |90      |4.4           |13.7           |1                |0                |0                |1               |0                |\n",
      "|8          |IA       |71       |60      |31      |9.9           |12.8           |0                |0                |1                |1               |0                |\n",
      "|9          |WY       |14       |69      |53      |3.3           |12.1           |0                |1                |0                |0               |1                |\n",
      "---------------------------------------------------------------------------------------------------------------------------------------------------------------------------\n",
      "\n"
     ]
    }
   ],
   "source": [
    "my_categories = {\"AREA_CODE\": ['408', '415', '510'], \"INTL_PLAN\": ['no', 'yes']}\n",
    "\n",
    "pp.OneHotEncoder(input_cols=['AREA_CODE', 'INTL_PLAN'], categories=my_categories).fit_transform(df_test).show()"
   ]
  },
  {
   "cell_type": "markdown",
   "id": "f2bb0770-46a2-438a-982b-5a9c9995617c",
   "metadata": {},
   "source": [
    "Output columns can be set by using the **output_cols** parameter, since the categories are always sorted in alphabetical order the columns needs to be in the same order."
   ]
  },
  {
   "cell_type": "code",
   "execution_count": 33,
   "id": "b0606a1e-ea97-4052-b19c-728ec4ce69d7",
   "metadata": {},
   "outputs": [
    {
     "name": "stdout",
     "output_type": "stream",
     "text": [
      "------------------------------------------------------------------------------------------------------------------------------------------------------------------\n",
      "|\"CUST_ID\"  |\"STATE\"  |\"AREA_CODE\"  |\"INTL_PLAN\"  |\"CALLS\"  |\"MINS\"  |\"DATA\"  |\"DAY_CHARGE\"  |\"INTL_CHARGE\"  |\"AC_1\"  |\"AC_2\"  |\"AC_3\"  |\"NO_PLAN\"  |\"HAS_PLAN\"  |\n",
      "------------------------------------------------------------------------------------------------------------------------------------------------------------------\n",
      "|0          |ND       |510          |no           |21       |31      |26      |8.8           |11.5           |0       |0       |1       |1          |0           |\n",
      "|1          |KY       |510          |no           |64       |0       |39      |7.7           |12.2           |0       |0       |1       |1          |0           |\n",
      "|2          |CA       |408          |no           |78       |22      |75      |4.4           |7.6            |1       |0       |0       |1          |0           |\n",
      "|3          |NC       |415          |no           |4        |95      |13      |10.4          |8.4            |0       |1       |0       |1          |0           |\n",
      "|4          |MN       |510          |no           |99       |33      |51      |7.4           |9.2            |0       |0       |1       |1          |0           |\n",
      "|5          |PA       |415          |no           |3        |76      |93      |9.4           |10.9           |0       |1       |0       |1          |0           |\n",
      "|6          |WI       |510          |no           |56       |23      |46      |2.0           |8.3            |0       |0       |1       |1          |0           |\n",
      "|7          |ID       |408          |no           |20       |30      |90      |4.4           |13.7           |1       |0       |0       |1          |0           |\n",
      "|8          |IA       |510          |no           |71       |60      |31      |9.9           |12.8           |0       |0       |1       |1          |0           |\n",
      "|9          |WY       |415          |yes          |14       |69      |53      |3.3           |12.1           |0       |1       |0       |0          |1           |\n",
      "------------------------------------------------------------------------------------------------------------------------------------------------------------------\n",
      "\n"
     ]
    }
   ],
   "source": [
    "my_output_cols = {\"AREA_CODE\": ['AC_1', 'AC_2', 'AC_3'], \"INTL_PLAN\": ['NO_PLAN', 'HAS_PLAN']}\n",
    "\n",
    "pp.OneHotEncoder(input_cols=['AREA_CODE', 'INTL_PLAN'], output_cols=my_output_cols, drop_input_cols=False).fit_transform(df_test).show()"
   ]
  },
  {
   "cell_type": "markdown",
   "id": "4e081329-9f19-4b99-af00-c455a05e8ba6",
   "metadata": {},
   "source": [
    "### OrdinalEncoder\n",
    "\n",
    "Encodes a string column of labels to a column of label indices. The indices are in [0, number of labels].\n",
    "\n",
    "By default, the labels are sorted alphabetically and numeric columns is cast to string.\n",
    "\n",
    "How to save a fitted encoder to be used later see the MinMaxScaler examples above."
   ]
  },
  {
   "cell_type": "code",
   "execution_count": null,
   "id": "3125cf8a-df4d-47f7-a09e-de6a93faa99a",
   "metadata": {},
   "outputs": [],
   "source": [
    "oe = pp.OrdinalEncoder(input_cols=encoder_input_cols)\n",
    "oe.fit(df_test)"
   ]
  },
  {
   "cell_type": "markdown",
   "id": "79552dd7-93c8-441c-9181-3ec5209690e7",
   "metadata": {},
   "source": [
    "If not providing output_cols the input_cols witll be replace by the encoded values"
   ]
  },
  {
   "cell_type": "code",
   "execution_count": null,
   "id": "745c2fb5-e551-4cdb-8b2c-575bb4a9fda0",
   "metadata": {},
   "outputs": [],
   "source": [
    "oe_tr_df = oe.transform(df_test)\n",
    "oe_tr_df.show()"
   ]
  },
  {
   "cell_type": "markdown",
   "id": "c87fad85-8327-47fa-b003-5a953679b53a",
   "metadata": {},
   "source": [
    "By setting output_cols the transformed DataFrame will also keep the input columns."
   ]
  },
  {
   "cell_type": "code",
   "execution_count": null,
   "id": "5bc2b509-1fd9-4d06-8297-c5e544f4f724",
   "metadata": {},
   "outputs": [],
   "source": [
    "pp.OrdinalEncoder(input_cols=encoder_input_cols, output_cols=[\"STATE_ENCODED\", \"AREA_CODE_ENCODED\", \"INTL_PLAN_ENCODED\"]).fit_transform(df_test).show()"
   ]
  },
  {
   "cell_type": "markdown",
   "id": "f0c8e2fc-d31b-44f5-a913-ab919a841bd3",
   "metadata": {},
   "source": [
    "By default unkown values, ie values that was not present duing the fit, will get NULL in the encoded columns"
   ]
  },
  {
   "cell_type": "code",
   "execution_count": null,
   "id": "b90b2642-722f-4d24-a96d-87cdc8d7f417",
   "metadata": {},
   "outputs": [],
   "source": [
    "oe_ignore_unk = pp.OrdinalEncoder(input_cols=encoder_input_cols, output_cols=[\"STATE_ENCODED\", \"AREA_CODE_ENCODED\", \"INTL_PLAN_ENCODED\"])\n",
    "oe_ignore_unk.fit(df_test)\n",
    "oe_keep_ignore_tr_df = oe_ignore_unk.transform(df_unknown)\n",
    "oe_keep_ignore_tr_df.show()"
   ]
  },
  {
   "cell_type": "markdown",
   "id": "e86660e5-21ba-4484-88a3-71f76bcc54e4",
   "metadata": {},
   "source": [
    "Inverse transform on a transformed DataFrame with unkown values will return NULL values for those"
   ]
  },
  {
   "cell_type": "code",
   "execution_count": null,
   "id": "547d6dd3-b1fd-447a-bdc1-e9a4ee8a98ad",
   "metadata": {},
   "outputs": [],
   "source": [
    "oe_ignore_unk.inverse_transform(oe_keep_ignore_tr_df).show()"
   ]
  },
  {
   "cell_type": "markdown",
   "id": "33082991-fa8d-4991-867a-2af5eca8978d",
   "metadata": {},
   "source": [
    "Setting handle_unknown='use_encoded_value' will replace unkown values with the value of unknown_value"
   ]
  },
  {
   "cell_type": "code",
   "execution_count": null,
   "id": "112589c4-1f77-4985-b71f-ab3ca9201ce3",
   "metadata": {},
   "outputs": [],
   "source": [
    "oe_handle_unk = pp.OrdinalEncoder(input_cols=encoder_input_cols, output_cols=[\"STATE_ENCODED\", \"AREA_CODE_ENCODED\", \"INTL_PLAN_ENCODED\"], handle_unknown='use_encoded_value', unknown_value=999)\n",
    "oe_handle_unk.fit(df_test)\n",
    "oe_handle_ignore_tr_df = oe_handle_unk.transform(df_unknown)\n",
    "oe_handle_ignore_tr_df.show()"
   ]
  },
  {
   "cell_type": "markdown",
   "id": "5a3e9802-af89-4a19-8353-a466ecc21e3e",
   "metadata": {},
   "source": [
    "Inverse transform on a transformed DataFrame with unkown values will return NULL values for those"
   ]
  },
  {
   "cell_type": "code",
   "execution_count": null,
   "id": "d59e1f29-2196-474e-87cb-e2c85d337ca9",
   "metadata": {},
   "outputs": [],
   "source": [
    "oe_handle_unk.inverse_transform(oe_handle_ignore_tr_df).show()"
   ]
  },
  {
   "cell_type": "markdown",
   "id": "6c1a931b-5e81-4be8-a3fc-3f8013f73e0c",
   "metadata": {},
   "source": [
    "### LabelEncoder\n",
    "\n",
    "A label indexer that maps a string column of labels to a column of label indices. The indices are in [0, number of labels].\n",
    "\n",
    "The LabelEncoder is to be used with the target column, for features **OrdinalEncoder** should be used.\n",
    "\n",
    "How to save a fitted encoder to be used later see the MinMaxScaler examples above."
   ]
  },
  {
   "cell_type": "code",
   "execution_count": null,
   "id": "30f19319-68f8-4175-be1c-b2a6b3cb7f7e",
   "metadata": {},
   "outputs": [],
   "source": [
    "le = pp.LabelEncoder(input_col=\"INTL_PLAN\", output_col=\"INTL_PLAN_ENCODED\")\n",
    "le.fit(df_test)\n",
    "le_tr_df = le.transform(df_test)\n",
    "le_tr_df.show()"
   ]
  },
  {
   "cell_type": "markdown",
   "id": "59fa7ca0-8f79-40f1-99b5-dd1353f137bb",
   "metadata": {},
   "source": [
    "**inverse_transform**"
   ]
  },
  {
   "cell_type": "code",
   "execution_count": null,
   "id": "679ef7de-7ce1-4e6a-b6df-ce8de387b3de",
   "metadata": {},
   "outputs": [],
   "source": [
    "le.inverse_transform(le_tr_df).show()"
   ]
  },
  {
   "cell_type": "markdown",
   "id": "cbadf5a5-9b20-4fb6-a69c-978e0eaff9d8",
   "metadata": {},
   "source": [
    "## Using a scaler in a Python Stored Procedure\n",
    "\n",
    "The following is an example of how a preprocessing scaler can be used in a Python Stored Procedure, the example is depened on that the testdata generation part has been done.\n",
    "\n",
    "The stored Procedure will fit and transform a input tbale using the MinMaxScaler using the **input_cols** and then stored the transformed data in the **output_table**. It will stored the fitted scaler as a joblib object on the stage SP_STAGE.\n",
    "\n",
    "Start by creating the satge where we store the fitted scaler object."
   ]
  },
  {
   "cell_type": "code",
   "execution_count": null,
   "id": "4a03fb39-a724-475b-8a5d-59047e68da74",
   "metadata": {},
   "outputs": [],
   "source": [
    "session.sql('CREATE OR REPLACE STAGE SP_STAGE').collect()"
   ]
  },
  {
   "cell_type": "markdown",
   "id": "6b8f1c4f-bba4-47ea-8918-8517664f915d",
   "metadata": {},
   "source": [
    "Create a helper function for ssaving the fitted scaler and then the primary function for the stored procedure"
   ]
  },
  {
   "cell_type": "code",
   "execution_count": null,
   "id": "a941b60a-9747-4a7a-aa86-52303442dff0",
   "metadata": {},
   "outputs": [],
   "source": [
    "def save_file(session, model, path):\n",
    "    input_stream = io.BytesIO()\n",
    "    joblib.dump(model, input_stream)\n",
    "    session._conn._cursor.upload_stream(input_stream, path)\n",
    "    return \"successfully created file: \" + path\n",
    "\n",
    "def min_max_scaler(session: Session, input_table: str, input_cols: list, output_table: str, output_cols: list) -> str:\n",
    "    import preprocessing as pp\n",
    "\n",
    "    df_input = session.table(input_table)\n",
    "    \n",
    "    mms = pp.MinMaxScaler(input_cols=input_cols, output_cols=output_cols)\n",
    "    mms.fit(df_input)\n",
    "    \n",
    "    mms_tr_df = mms.transform(df_input)\n",
    "    \n",
    "    save_file(session, mms, \"@SP_STAGE/min_max_scaler.joblib\")\n",
    "    mms_tr_df.write.mode(\"overwrite\").save_as_table(output_table)\n",
    "    \n",
    "    return \"SUCCESS\""
   ]
  },
  {
   "cell_type": "markdown",
   "id": "5e1beaab-6eeb-4c97-9cd1-0bab09ea12d3",
   "metadata": {},
   "source": [
    "Add the imports and deploy the temporary stored procedure function to Snowflake."
   ]
  },
  {
   "cell_type": "code",
   "execution_count": null,
   "id": "37072cfa-d0c3-4647-9edc-04272723c31e",
   "metadata": {},
   "outputs": [],
   "source": [
    "session.clear_imports()\n",
    "session.clear_packages()\n",
    "session.add_import(\"preprocessing\")\n",
    "session.add_packages('snowflake-snowpark-python', 'joblib', 'scipy', 'numpy')\n",
    "\n",
    "min_max_scaler_sp = F.sproc(min_max_scaler, replace=True, is_permanent=False, session=session)"
   ]
  },
  {
   "cell_type": "markdown",
   "id": "be7aa91d-7d9c-40e0-a3c9-81d0113bb8db",
   "metadata": {},
   "source": [
    "Store the test data as a table in Snowflake"
   ]
  },
  {
   "cell_type": "code",
   "execution_count": null,
   "id": "163f3a95-c46c-45b9-95b2-5d8b4dea79cf",
   "metadata": {},
   "outputs": [],
   "source": [
    "df_test.write.mode(\"overwrite\").save_as_table(\"scaler_input\")"
   ]
  },
  {
   "cell_type": "markdown",
   "id": "5571e7ae-3958-40cb-b848-ddb90606966b",
   "metadata": {},
   "source": [
    "Call the stored procedure"
   ]
  },
  {
   "cell_type": "code",
   "execution_count": null,
   "id": "a99fc5e4-1345-45bc-8760-5f530da0c8df",
   "metadata": {},
   "outputs": [],
   "source": [
    "min_max_scaler_sp(\"scaler_input\", [\"CALLS\", \"DAY_CHARGE\"], \"scaler_output\", [\"calls_scaled\", \"day_charge_scaled\"])"
   ]
  },
  {
   "cell_type": "markdown",
   "id": "0b00bfbc-7ac4-4ecf-aa16-6cd99de9d9da",
   "metadata": {},
   "source": [
    "Verify that the transformed data is in the **output_table**"
   ]
  },
  {
   "cell_type": "code",
   "execution_count": null,
   "id": "eb14ab80-5e7c-478d-b214-212188a55bca",
   "metadata": {},
   "outputs": [],
   "source": [
    "session.table(\"scaler_output\").show()"
   ]
  },
  {
   "cell_type": "markdown",
   "id": "3e002ad2-de56-4d57-9c8c-fdcf6b346737",
   "metadata": {},
   "source": [
    "Verify that the fittedscaler is stored on the stage"
   ]
  },
  {
   "cell_type": "code",
   "execution_count": null,
   "id": "83039fa2-a072-4a95-bbee-401aa46814f3",
   "metadata": {},
   "outputs": [],
   "source": [
    "session.sql(\"ls @SP_STAGE\").show()"
   ]
  },
  {
   "cell_type": "code",
   "execution_count": 34,
   "id": "8012025c-4d7d-4e48-a1c1-dcfac60ab53e",
   "metadata": {},
   "outputs": [],
   "source": [
    "session.close()"
   ]
  },
  {
   "cell_type": "code",
   "execution_count": null,
   "id": "364527db-f219-4777-9450-57e9bcaca737",
   "metadata": {},
   "outputs": [],
   "source": []
  }
 ],
 "metadata": {
  "kernelspec": {
   "display_name": "Python 3 (ipykernel)",
   "language": "python",
   "name": "python3"
  },
  "language_info": {
   "codemirror_mode": {
    "name": "ipython",
    "version": 3
   },
   "file_extension": ".py",
   "mimetype": "text/x-python",
   "name": "python",
   "nbconvert_exporter": "python",
   "pygments_lexer": "ipython3",
   "version": "3.8.11"
  }
 },
 "nbformat": 4,
 "nbformat_minor": 5
}
