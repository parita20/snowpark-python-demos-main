{
 "cells": [
  {
   "cell_type": "code",
   "execution_count": 1,
   "metadata": {},
   "outputs": [],
   "source": [
    "import os\n",
    "\n",
    "from dotenv import load_dotenv\n",
    "from snowflake.snowpark import Session\n",
    "\n",
    "load_dotenv(override=True)\n",
    "\n",
    "connection_params = {\n",
    "    \"account\": os.environ.get(\"SNOWFLAKE_ACCOUNT\"),\n",
    "    \"user\": os.environ.get(\"SNOWFLAKE_USER\"),\n",
    "    \"password\": os.environ.get(\"SNOWFLAKE_PASSWORD\"),\n",
    "    \"role\": \"SYSADMIN\",\n",
    "}\n",
    "\n",
    "session = Session.builder.configs(connection_params).create()"
   ]
  },
  {
   "cell_type": "code",
   "execution_count": 2,
   "metadata": {},
   "outputs": [
    {
     "data": {
      "text/plain": [
       "[Row(status='Stage area PYTHON_CODE successfully created.')]"
      ]
     },
     "execution_count": 2,
     "metadata": {},
     "output_type": "execute_result"
    }
   ],
   "source": [
    "session.sql(\n",
    "    \"\"\"CREATE WAREHOUSE IF NOT EXISTS MARCH_MADNESS_WH \n",
    "               WITH WAREHOUSE_SIZE = 'XSMALL' \n",
    "               WAREHOUSE_TYPE = 'STANDARD' \n",
    "               AUTO_SUSPEND = 60 \n",
    "               AUTO_RESUME = TRUE \n",
    "               INITIALLY_SUSPENDED = TRUE;\"\"\"\n",
    ").collect()\n",
    "session.sql(\"CREATE DATABASE IF NOT EXISTS MARCH_MADNESS;\").collect()\n",
    "session.sql(\"DROP SCHEMA IF EXISTS MARCH_MADNESS.PUBLIC;\").collect()\n",
    "session.sql(\"CREATE SCHEMA IF NOT EXISTS MARCH_MADNESS.COMMON;\").collect()\n",
    "session.sql(\"CREATE SCHEMA IF NOT EXISTS MARCH_MADNESS.RAW;\").collect()\n",
    "session.sql(\"CREATE SCHEMA IF NOT EXISTS MARCH_MADNESS.FEATURES;\").collect()\n",
    "session.sql(\"CREATE STAGE IF NOT EXISTS MARCH_MADNESS.COMMON.MODELS;\").collect()\n",
    "session.sql(\"CREATE STAGE IF NOT EXISTS MARCH_MADNESS.COMMON.PYTHON_CODE;\").collect()"
   ]
  }
 ],
 "metadata": {
  "kernelspec": {
   "display_name": "venv",
   "language": "python",
   "name": "python3"
  },
  "language_info": {
   "codemirror_mode": {
    "name": "ipython",
    "version": 3
   },
   "file_extension": ".py",
   "mimetype": "text/x-python",
   "name": "python",
   "nbconvert_exporter": "python",
   "pygments_lexer": "ipython3",
   "version": "3.8.10"
  }
 },
 "nbformat": 4,
 "nbformat_minor": 2
}
